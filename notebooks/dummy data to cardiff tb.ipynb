{
 "cells": [
  {
   "cell_type": "code",
   "execution_count": 1,
   "id": "7b937ef7-2abb-428c-9706-b3f5ae99ac45",
   "metadata": {},
   "outputs": [
    {
     "name": "stdout",
     "output_type": "stream",
     "text": [
      "Collecting paho-mqtt==1.6.1\n",
      "  Downloading paho-mqtt-1.6.1.tar.gz (99 kB)\n",
      "\u001b[2K     \u001b[90m━━━━━━━━━━━━━━━━━━━━━━━━━━━━━━━━━━━━━━━━\u001b[0m \u001b[32m99.4/99.4 kB\u001b[0m \u001b[31m3.4 MB/s\u001b[0m eta \u001b[36m0:00:00\u001b[0m\n",
      "\u001b[?25h  Preparing metadata (setup.py) ... \u001b[?25ldone\n",
      "\u001b[?25hBuilding wheels for collected packages: paho-mqtt\n",
      "  Building wheel for paho-mqtt (setup.py) ... \u001b[?25ldone\n",
      "\u001b[?25h  Created wheel for paho-mqtt: filename=paho_mqtt-1.6.1-py3-none-any.whl size=62117 sha256=352b8b94a27ee4bac13921178d505a0ba06a1548364435b39df0c5f877d22b2d\n",
      "  Stored in directory: /home/jovyan/.cache/pip/wheels/8b/bb/0c/79444d1dee20324d442856979b5b519b48828b0bd3d05df84a\n",
      "Successfully built paho-mqtt\n",
      "Installing collected packages: paho-mqtt\n",
      "Successfully installed paho-mqtt-1.6.1\n",
      "Note: you may need to restart the kernel to use updated packages.\n"
     ]
    }
   ],
   "source": [
    "pip install paho-mqtt==1.6.1"
   ]
  },
  {
   "cell_type": "markdown",
   "id": "c790bacc-8ba5-42d9-98c9-ab1094ec1c4c",
   "metadata": {},
   "source": [
    "# This codes send data to cardiff tb (1 DEVICE)"
   ]
  },
  {
   "cell_type": "code",
   "execution_count": 5,
   "id": "46eb0801-b30d-4a4f-a5f4-5f5c806b6773",
   "metadata": {},
   "outputs": [],
   "source": [
    "import paho.mqtt.publish as publish\n",
    "\n",
    "thingsboard_host_name = \"thingsboard.cs.cf.ac.uk\"\n",
    "access_token = \"ZpJsPFizsy1S7UKZMcT3\"\n",
    "mqtt_topic = \"v1/devices/me/telemetry\"\n",
    "mqtt_payload = '{\"temperature\": 42}'\n",
    "\n",
    "mqtt_host = thingsboard_host_name\n",
    "mqtt_port = 1883  # Default MQTT port\n",
    "\n",
    "publish.single(mqtt_topic, payload=mqtt_payload, qos=1, hostname=mqtt_host, port=mqtt_port, auth={'username': access_token})\n"
   ]
  },
  {
   "cell_type": "markdown",
   "id": "34e7dc0d-f08d-49bd-ae22-c0985a52363d",
   "metadata": {},
   "source": [
    "# THIS CODE SEND DUMMY DATA TO CARDIFF TB (ALL DEVICES)"
   ]
  },
  {
   "cell_type": "code",
   "execution_count": null,
   "id": "456f5cc1-3968-4bbb-9422-c88ef9c4e923",
   "metadata": {},
   "outputs": [],
   "source": [
    "import paho.mqtt.publish as publish\n",
    "import time\n",
    "import random\n",
    "\n",
    "thingsboard_host_name = \"thingsboard.cs.cf.ac.uk\"\n",
    "access_tokens = [\n",
    "    \"mqbfBQMnMD6jp39FrGkv\",\n",
    "    \"No7bc8SouF4DlyYIzj2x\",\n",
    "    \"7vNh8vDy1GP5MAi8ftgn\",\n",
    "    \"1ZNMQrnpEp2cRUHPCF72\",\n",
    "    \"iUqmSA4H0AL93HVPmSRi\",\n",
    "    \"Q9wUTAcffbHRGkI7Eh02\",\n",
    "    \"jFJDjUrrHAtI60HDUBOi\",\n",
    "    \"iieEK9dbmjqpkVRMMOiD\",\n",
    "    \"nzpsnFg9VBlLQcp0OTLT\",\n",
    "    \"H7xezj53soZStdGIUCs4\",\n",
    "    \"phIdOT87RzWs0EovevfG\",\n",
    "    \"RqOPhsycxhXwjiwLbnQP\",\n",
    "    \"XvGRflzwfB5UFNMf3QOu\",\n",
    "    \"ZpJsPFizsy1S7UKZMcT3\",\n",
    "    \"LMyWX8RcTu0wbXqGgMpk\",\n",
    "    \"52barkYgljlJkLSOz0yU\",\n",
    "    \"o7pGdbdeNMvqFnNXQcrS\",\n",
    "    \"3CKvYebmSgLYUxlGxE8Q\",\n",
    "    \"dUlEWBvInBtWchNIIr3g\",\n",
    "    \"EmD9C0YYjPp7sF6kUJlP\",\n",
    "    \"1YMXaSQ06H0brFnP11fV\",\n",
    "    \"ZeiYGyR4JbzUTyHzPPC6\",\n",
    "    \"SC8rMsORZg6vdTqoTG7U\",\n",
    "    \"9BXm680UMLfSILo5bWND\",\n",
    "    \"tnK1UymqhIe8prICMNzk\",\n",
    "    \"3KVOENv6uSjBK9yeTxwS\",\n",
    "    \"A7RGgsAW4tGwrUG6w7zO\",\n",
    "    \"WlO8KVoDzUf8eauIuwnC\",\n",
    "    \"SriBJq25ea1HdbFru2sR\",\n",
    "    \"NaEtmCyrt01qHDQfXRF8\",\n",
    "    \"u2GAvW0JcUBt64x84yDi\",\n",
    "    \"zcm1pgn7Pocr91eSvt5Q\",\n",
    "    \"MRWwq4Lhg4N6O9AEJ2Ab\",\n",
    "    \"pADc4gc8UPfdZ3uZk5j1\"\n",
    "]\n",
    "\n",
    "mqtt_topic = \"v1/devices/me/telemetry\"\n",
    "\n",
    "def generate_random_data():\n",
    "    data = {\n",
    "        \"UV_light\": round(random.uniform(0, 0.1), 2),\n",
    "        \"Loudness\": random.randint(300, 400),\n",
    "        \"PM1.0Atmospheric\": random.randint(8, 10),\n",
    "        \"PM2.5Atmospheric\": random.randint(12, 14),\n",
    "        \"PM10Atmospheric\": random.randint(12, 14),\n",
    "        \"PIR_Status\": \"No Motion Detected\",\n",
    "        \"tVOC_Concentration\": random.randint(18, 20),\n",
    "        \"CO2eq_Concentration\": random.randint(390, 410),\n",
    "        \"MQ2_sensor_voltage\": round(random.uniform(0.25, 0.35), 2),\n",
    "        \"MQ2_Rs_ratio\": round(random.uniform(15, 16), 2),\n",
    "        \"MQ2_Rs/R0_Ratio\": round(random.uniform(150, 160), 2),\n",
    "        \"MQ3_sensor_voltage\": round(random.uniform(0.30, 0.35), 2),\n",
    "        \"MQ3_Rs_ratio\": round(random.uniform(14, 16), 2),\n",
    "        \"MQ3_Rs/R0_Ratio\": round(random.uniform(750, 770), 2),\n",
    "        \"HCHO_ppm\": round(random.uniform(0, 0.01), 2),\n",
    "        \"Air_Quality\": \"Fresh air\",\n",
    "        \"Light_value\": random.randint(170, 175),\n",
    "        \"Visible_light\": random.randint(260, 265),\n",
    "        \"IR_light\": random.randint(270, 280),\n",
    "        \"MQ5_sensor_voltage\": round(random.uniform(0.65, 0.75), 2),\n",
    "        \"MQ5_Rs_ratio\": round(random.uniform(5.8, 6.2), 2),\n",
    "        \"MQ5_Rs/R0_Ratio\": round(random.uniform(40, 42), 2),\n",
    "        \"MQ9_sensor_voltage\": round(random.uniform(0.35, 0.40), 2),\n",
    "        \"MQ9_Rs_ratio\": round(random.uniform(12, 13), 2),\n",
    "        \"MQ9_Rs/R0_Ratio\": round(random.uniform(82, 84), 2),\n",
    "        \"O2_22.10_N2_gas\": random.randint(192, 196),\n",
    "        \"C2H5CH_gas\": random.randint(287, 291),\n",
    "        \"VOC_gas\": random.randint(245, 251),\n",
    "        \"CO_gas\": random.randint(176, 182),\n",
    "        \"Co2\": random.randint(598, 608),\n",
    "        \"Temperature\": round(random.uniform(30, 32), 2),\n",
    "        \"Humidity\": round(random.uniform(17, 19), 2),\n",
    "        \"Luminance\": round(random.uniform(30, 32), 2)\n",
    "    }\n",
    "    return data\n",
    "\n",
    "while True:\n",
    "    for access_token in access_tokens:\n",
    "        data = generate_random_data()\n",
    "        publish.single(mqtt_topic, payload=str(data), qos=1, hostname=thingsboard_host_name, port=1883, auth={'username': access_token})\n",
    "    time.sleep(3)\n"
   ]
  },
  {
   "cell_type": "code",
   "execution_count": null,
   "id": "db9bdbdd-0ab8-4c6a-9eb1-fe806f74f3f2",
   "metadata": {},
   "outputs": [],
   "source": []
  }
 ],
 "metadata": {
  "kernelspec": {
   "display_name": "Python 3 (ipykernel)",
   "language": "python",
   "name": "python3"
  },
  "language_info": {
   "codemirror_mode": {
    "name": "ipython",
    "version": 3
   },
   "file_extension": ".py",
   "mimetype": "text/x-python",
   "name": "python",
   "nbconvert_exporter": "python",
   "pygments_lexer": "ipython3",
   "version": "3.10.11"
  }
 },
 "nbformat": 4,
 "nbformat_minor": 5
}
