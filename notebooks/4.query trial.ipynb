{
 "cells": [
  {
   "cell_type": "code",
   "execution_count": null,
   "metadata": {},
   "outputs": [],
   "source": [
    "# !pip install rdflib"
   ]
  },
  {
   "cell_type": "code",
   "execution_count": null,
   "metadata": {},
   "outputs": [],
   "source": [
    "from rdflib import Graph\n",
    "g = Graph()\n",
    "g.parse('http://dbpedia.org/resource/Semantic_Web')\n",
    "\n",
    "for s, p, o in g:\n",
    "    print(s, p, o)"
   ]
  },
  {
   "cell_type": "code",
   "execution_count": null,
   "metadata": {},
   "outputs": [],
   "source": [
    "from rdflib import Graph\n",
    "\n",
    "# Create a Graph\n",
    "g = Graph()\n",
    "\n",
    "# Parse in an RDF file hosted on the Internet\n",
    "g.parse(\"http://www.w3.org/People/Berners-Lee/card\")\n",
    "\n",
    "# Loop through each triple in the graph (subj, pred, obj)\n",
    "for subj, pred, obj in g:\n",
    "    # Check if there is at least one triple in the Graph\n",
    "    if (subj, pred, obj) not in g:\n",
    "       raise Exception(\"It better be!\")\n",
    "\n",
    "# Print the number of \"triples\" in the Graph\n",
    "print(f\"Graph g has {len(g)} statements.\")\n",
    "# Prints: Graph g has 86 statements.\n",
    "\n",
    "# Print out the entire Graph in the RDF Turtle format\n",
    "print(g.serialize(format=\"turtle\"))"
   ]
  },
  {
   "cell_type": "code",
   "execution_count": 1,
   "metadata": {},
   "outputs": [],
   "source": [
    "import rdflib"
   ]
  },
  {
   "cell_type": "code",
   "execution_count": 4,
   "metadata": {},
   "outputs": [
    {
     "data": {
      "text/plain": [
       "<Graph identifier=Ne002100174ec4bfcb26fa402813ab8bb (<class 'rdflib.graph.Graph'>)>"
      ]
     },
     "execution_count": 4,
     "metadata": {},
     "output_type": "execute_result"
    }
   ],
   "source": [
    "\n",
    "# Initialize RDF graph and load your data\n",
    "\n",
    "g = rdflib.Graph()\n",
    "g.parse(\"ttls\\soda_hall.ttl\", format=\"turtle\")"
   ]
  },
  {
   "cell_type": "code",
   "execution_count": 6,
   "metadata": {},
   "outputs": [],
   "source": [
    "# User input processing (e.g., through NLP)\n",
    "user_input = \"Show me the temperature from sensor XYZ.\""
   ]
  },
  {
   "cell_type": "code",
   "execution_count": 7,
   "metadata": {},
   "outputs": [],
   "source": [
    "# Generate a SPARQL query based on user input\n",
    "sparql_query = \"\"\"\n",
    "    PREFIX rdf: <http://www.w3.org/1999/02/22-rdf-syntax-ns#>\n",
    "    PREFIX your_ns: <http://example.com/sensors#>\n",
    "    \n",
    "    SELECT ?temperature\n",
    "    WHERE {\n",
    "        ?sensor rdf:type your_ns:Sensor ;\n",
    "                your_ns:hasID \"XYZ\" ;\n",
    "                your_ns:hasTemperature ?temperature .\n",
    "    }\n",
    "\"\"\""
   ]
  },
  {
   "cell_type": "code",
   "execution_count": 8,
   "metadata": {},
   "outputs": [],
   "source": [
    "\n",
    "\n",
    "\n",
    "\n",
    "\n",
    "\n",
    "\n",
    "# Execute the SPARQL query\n",
    "results = g.query(sparql_query)\n",
    "\n",
    "\n"
   ]
  },
  {
   "cell_type": "code",
   "execution_count": 9,
   "metadata": {},
   "outputs": [],
   "source": [
    "# Process and present the results to the user\n",
    "for row in results:\n",
    "    temperature = row[0]\n",
    "    # Respond to the user with the temperature value"
   ]
  },
  {
   "cell_type": "code",
   "execution_count": null,
   "metadata": {},
   "outputs": [],
   "source": [
    "import rdflib\n",
    "\n",
    "# Initialize RDF graph\n",
    "g = rdflib.Graph()\n",
    "\n",
    "# Load your RDF data from a file (e.g., in Turtle format)\n",
    "g.parse(\"your_sensor_data.ttl\", format=\"turtle\")\n",
    "\n",
    "# Print the serialized RDF data as a string\n",
    "rdf_data = g.serialize(format='ttl')\n",
    "rdf_string = rdf_data.decode('utf-8')\n",
    "print(rdf_string)\n"
   ]
  },
  {
   "cell_type": "code",
   "execution_count": null,
   "metadata": {},
   "outputs": [],
   "source": [
    "from rdflib import Graph, Literal\n",
    "from rdflib.plugins.sparql import prepareQuery\n",
    "import requests\n",
    "\n",
    "# Load your RDF data into a graph\n",
    "g = Graph()\n",
    "g.parse(\"ttls\\soda_hall.ttl\", format=\"turtle\")\n",
    "\n",
    "# Define your SPARQL query\n",
    "query = prepareQuery(\n",
    "    \"\"\"\n",
    "    PREFIX ex: <http://example.org/resource#>\n",
    "    \n",
    "    SELECT ?uri\n",
    "    WHERE {\n",
    "        ex:room_)5 ex:hasTemperature ?uri .\n",
    "    }\n",
    "    \"\"\"\n",
    ")\n",
    "\n",
    "# Execute the query\n",
    "results = g.query(query)\n",
    "\n",
    "# Iterate over the results and send GET requests\n",
    "for row in results:\n",
    "    uri = row.uri\n",
    "    response = requests.get(uri)\n",
    "\n",
    "    if response.status_code == 200:\n",
    "        # Process the response data as needed\n",
    "        data = response.text\n",
    "        print(f\"Data retrieved from {uri}: {data}\")\n",
    "    else:\n",
    "        print(f\"Failed to retrieve data from {uri}\")\n"
   ]
  }
 ],
 "metadata": {
  "kernelspec": {
   "display_name": "Python 3 (ipykernel)",
   "language": "python",
   "name": "python3"
  },
  "language_info": {
   "codemirror_mode": {
    "name": "ipython",
    "version": 3
   },
   "file_extension": ".py",
   "mimetype": "text/x-python",
   "name": "python",
   "nbconvert_exporter": "python",
   "pygments_lexer": "ipython3",
   "version": "3.10.11"
  }
 },
 "nbformat": 4,
 "nbformat_minor": 4
}
