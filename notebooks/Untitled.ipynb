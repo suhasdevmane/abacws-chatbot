{
 "cells": [
  {
   "cell_type": "code",
   "execution_count": 6,
   "id": "18c8dfc1-a9eb-48c8-8ff2-c52fe983779c",
   "metadata": {},
   "outputs": [
    {
     "name": "stdout",
     "output_type": "stream",
     "text": [
      "{'name': 'node_5.05', 'type': 'Corridor', 'floor': 5, 'position': {'x': 162.304, 'y': 70, 'z': -96.273}}\n"
     ]
    }
   ],
   "source": [
    "import requests\n",
    "\n",
    "url = 'http://visualiser:80/api/devices/node_5.05'\n",
    "headers = {'accept': 'application/json'}\n",
    "\n",
    "try:\n",
    "    response = requests.get(url, headers=headers)\n",
    "\n",
    "    if response.status_code == 200:\n",
    "        json_data = response.json()\n",
    "        # Process the JSON data as needed\n",
    "        print(json_data)\n",
    "    else:\n",
    "        print(f\"Error: {response.status_code}\")\n",
    "        print(response.text)\n",
    "\n",
    "except requests.exceptions.RequestException as e:\n",
    "    print(f\"Request error: {e}\")\n"
   ]
  },
  {
   "cell_type": "code",
   "execution_count": 9,
   "id": "1ab88124-0e05-45d0-baf4-afdbcc375531",
   "metadata": {},
   "outputs": [
    {
     "name": "stdout",
     "output_type": "stream",
     "text": [
      "Error: 403\n",
      "{\"error\":\"You do not have permission to access this resource\"}\n"
     ]
    }
   ],
   "source": [
    "import requests\n",
    "import json\n",
    "\n",
    "url = 'http://visualiser:80/api/devices/node_5.05/data'\n",
    "headers = {'accept': 'application/json'}\n",
    "\n",
    "data = {\n",
    "    \"temperature\": {\n",
    "        \"value\": 21,\n",
    "        \"units\": \"°C\"\n",
    "    }\n",
    "}\n",
    "\n",
    "try:\n",
    "    response = requests.put(url, headers=headers, data=json.dumps(data))\n",
    "\n",
    "    if response.status_code == 200:\n",
    "        json_data = response.json()\n",
    "        # Process the JSON data as needed\n",
    "        print(json_data)\n",
    "    else:\n",
    "        print(f\"Error: {response.status_code}\")\n",
    "        print(response.text)\n",
    "\n",
    "except requests.exceptions.RequestException as e:\n",
    "    print(f\"Request error: {e}\")\n"
   ]
  },
  {
   "cell_type": "code",
   "execution_count": null,
   "id": "0c2f0ff4-736b-4f6f-801a-c4ad85a11f5a",
   "metadata": {},
   "outputs": [],
   "source": []
  }
 ],
 "metadata": {
  "kernelspec": {
   "display_name": "Python 3 (ipykernel)",
   "language": "python",
   "name": "python3"
  },
  "language_info": {
   "codemirror_mode": {
    "name": "ipython",
    "version": 3
   },
   "file_extension": ".py",
   "mimetype": "text/x-python",
   "name": "python",
   "nbconvert_exporter": "python",
   "pygments_lexer": "ipython3",
   "version": "3.10.11"
  }
 },
 "nbformat": 4,
 "nbformat_minor": 5
}
