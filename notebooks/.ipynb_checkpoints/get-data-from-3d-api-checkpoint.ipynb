{
 "cells": [
  {
   "cell_type": "markdown",
   "id": "383752b8-1939-44e1-95f9-4150eefdf508",
   "metadata": {},
   "source": [
    "Get data from 3D API"
   ]
  },
  {
   "cell_type": "code",
   "execution_count": null,
   "id": "2b8c4731-66b5-4ba3-9304-f2ea88e0f17a",
   "metadata": {},
   "outputs": [],
   "source": [
    "import requests\n",
    "\n",
    "url = 'http://192.168.1.85:80/api/devices/node_5.05' #use your local IPv4 address\n",
    "headers = {'accept': 'application/json'}\n",
    "\n",
    "try:\n",
    "    response = requests.get(url, headers=headers)\n",
    "\n",
    "    if response.status_code == 200:\n",
    "        json_data = response.json()\n",
    "        # Process the JSON data as needed\n",
    "        print(json_data)\n",
    "    else:\n",
    "        print(f\"Error: {response.status_code}\")\n",
    "        print(response.text)\n",
    "\n",
    "except requests.exceptions.RequestException as e:\n",
    "    print(f\"Request error: {e}\")\n"
   ]
  }
 ],
 "metadata": {
  "kernelspec": {
   "display_name": "Python 3 (ipykernel)",
   "language": "python",
   "name": "python3"
  },
  "language_info": {
   "codemirror_mode": {
    "name": "ipython",
    "version": 3
   },
   "file_extension": ".py",
   "mimetype": "text/x-python",
   "name": "python",
   "nbconvert_exporter": "python",
   "pygments_lexer": "ipython3",
   "version": "3.10.11"
  }
 },
 "nbformat": 4,
 "nbformat_minor": 5
}
