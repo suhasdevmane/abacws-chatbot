{
 "cells": [
  {
   "cell_type": "code",
   "execution_count": 20,
   "metadata": {},
   "outputs": [],
   "source": [
    "# import brickschema\n",
    "from brickschema import Graph"
   ]
  },
  {
   "cell_type": "code",
   "execution_count": 21,
   "metadata": {},
   "outputs": [],
   "source": [
    "# creates a new rdflib.Graph with a recent version of the Brick ontology\n",
    "# preloaded.\n",
    "g = Graph(load_brick=True)\n",
    "# OR use the absolute latest Brick:\n",
    "# g = brickschema.Graph(load_brick_nightly=True)\n",
    "# OR create from an existing model\n",
    "# g = brickschema.Graph(load_brick=True).from_haystack(...)"
   ]
  },
  {
   "cell_type": "code",
   "execution_count": 25,
   "metadata": {},
   "outputs": [
    {
     "name": "stderr",
     "output_type": "stream",
     "text": [
      "2023-09-27:16:51:04,762 WARNING [term.py:278] file:///c:/_PHD_/Github/abacws-chatbot/brick\\abacws-building-v2.ttl does not look like a valid URI, trying to serialize this will break.\n",
      "2023-09-27:16:51:04,764 WARNING [term.py:278] file:///c:/_PHD_/Github/abacws-chatbot/brick\\abacws-building-v2.ttl does not look like a valid URI, trying to serialize this will break.\n"
     ]
    },
    {
     "data": {
      "text/plain": [
       "<Graph identifier=Nd2927f36706c41f193e699fd9a4891b5 (<class 'brickschema.graph.Graph'>)>"
      ]
     },
     "execution_count": 25,
     "metadata": {},
     "output_type": "execute_result"
    }
   ],
   "source": [
    "\n",
    "# load in data files from your file system\n",
    "g.load_file(\"brick\\\\abacws-building-v2.ttl\")\n",
    "# ...or by URL (using rdflib)\n",
    "# g.parse(\"https://brickschema.org/ttl/soda_brick.ttl\", format=\"ttl\")"
   ]
  },
  {
   "cell_type": "code",
   "execution_count": 26,
   "metadata": {},
   "outputs": [
    {
     "name": "stdout",
     "output_type": "stream",
     "text": [
      " * Serving Flask app 'brickschema.web'\n",
      " * Debug mode: off\n"
     ]
    },
    {
     "name": "stderr",
     "output_type": "stream",
     "text": [
      "2023-09-27:16:51:10,372 INFO    [_internal.py:187] \u001b[31m\u001b[1mWARNING: This is a development server. Do not use it in a production deployment. Use a production WSGI server instead.\u001b[0m\n",
      " * Running on http://localhost:8080\n",
      "2023-09-27:16:51:10,373 INFO    [_internal.py:187] \u001b[33mPress CTRL+C to quit\u001b[0m\n",
      "2023-09-27:16:51:18,357 INFO    [_internal.py:187] 127.0.0.1 - - [27/Sep/2023 16:51:18] \"GET / HTTP/1.1\" 200 -\n",
      "2023-09-27:16:51:20,390 INFO    [_internal.py:187] 127.0.0.1 - - [27/Sep/2023 16:51:20] \"GET /bindings HTTP/1.1\" 200 -\n"
     ]
    },
    {
     "name": "stdout",
     "output_type": "stream",
     "text": [
      "PREFIX bldg: <http://abacwsbuilding.cardiff.ac.uk/abacws#>\n",
      "PREFIX xsd: <http://www.w3.org/2001/XMLSchema#>\n",
      "PREFIX xml: <http://www.w3.org/XML/1998/namespace>\n",
      "PREFIX wgs: <https://www.w3.org/2003/01/geo/wgs84_pos#>\n",
      "PREFIX void: <http://rdfs.org/ns/void#>\n",
      "PREFIX vcard: <http://www.w3.org/2006/vcard/ns#>\n",
      "PREFIX vann: <http://purl.org/vocab/vann/>\n",
      "PREFIX unit: <http://qudt.org/vocab/unit/>\n",
      "PREFIX time: <http://www.w3.org/2006/time#>\n",
      "PREFIX tag: <https://brickschema.org/schema/BrickTag#>\n",
      "PREFIX ssn: <http://www.w3.org/ns/ssn/>\n",
      "PREFIX sosa: <http://www.w3.org/ns/sosa/>\n",
      "PREFIX soda_hall: <https://brickschema.org/schema/1.0.2/building_example#>\n",
      "PREFIX skos: <http://www.w3.org/2004/02/skos/core#>\n",
      "PREFIX sh: <http://www.w3.org/ns/shacl#>\n",
      "PREFIX sdo: <http://schema.org/>\n",
      "PREFIX schema: <https://schema.org/>\n",
      "PREFIX s223: <http://data.ashrae.org/standard223#>\n",
      "PREFIX ref: <https://brickschema.org/schema/Brick/ref#>\n",
      "PREFIX qudtqk: <http://qudt.org/vocab/quantitykind/>\n",
      "PREFIX qudt: <http://qudt.org/schema/qudt/>\n",
      "PREFIX qb: <http://purl.org/linked-data/cube#>\n",
      "PREFIX prov: <http://www.w3.org/ns/prov#>\n",
      "PREFIX prof: <http://www.w3.org/ns/dx/prof/>\n",
      "PREFIX owl: <http://www.w3.org/2002/07/owl#>\n",
      "PREFIX org: <http://www.w3.org/ns/org#>\n",
      "PREFIX odrl: <http://www.w3.org/ns/odrl/2/>\n",
      "PREFIX geo: <http://www.opengis.net/ont/geosparql#>\n",
      "PREFIX foaf: <http://xmlns.com/foaf/0.1/>\n",
      "PREFIX doap: <http://usefulinc.com/ns/doap#>\n",
      "PREFIX dcterms: <http://purl.org/dc/terms/>\n",
      "PREFIX dcmitype: <http://purl.org/dc/dcmitype/>\n",
      "PREFIX dcat: <http://www.w3.org/ns/dcat#>\n",
      "PREFIX dcam: <http://purl.org/dc/dcam/>\n",
      "PREFIX dc: <http://purl.org/dc/elements/1.1/>\n",
      "PREFIX csvw: <http://www.w3.org/ns/csvw#>\n",
      "PREFIX btag: <https://brickschema.org/schema/1.0.2/BrickTag#>\n",
      "PREFIX bsh: <https://brickschema.org/schema/BrickShape#>\n",
      "PREFIX brickframe: <https://brickschema.org/schema/1.0.2/BrickFrame#>\n",
      "PREFIX brick_v_1_0_2: <https://brickschema.org/schema/1.0.2/Brick#>\n",
      "PREFIX brick: <https://brickschema.org/schema/Brick#>\n",
      "PREFIX bacnet: <http://data.ashrae.org/bacnet/2020#>\n",
      "PREFIX rdf: <http://www.w3.org/1999/02/22-rdf-syntax-ns#>\n",
      "PREFIX rdfs: <http://www.w3.org/2000/01/rdf-schema#>\n",
      "SELECT * WHERE {\n",
      "    ?room rdf:type brick:Room .\n",
      "} LIMIT 11\n"
     ]
    },
    {
     "name": "stderr",
     "output_type": "stream",
     "text": [
      "2023-09-27:16:51:31,245 INFO    [_internal.py:187] 127.0.0.1 - - [27/Sep/2023 16:51:31] \"POST /query HTTP/1.1\" 200 -\n"
     ]
    }
   ],
   "source": [
    "# start a blocking web server with an interface for performing\n",
    "# reasoning + querying functions\n",
    "g.serve(\"localhost:8080\")\n",
    "# now visit in http://localhost:8080"
   ]
  },
  {
   "cell_type": "markdown",
   "metadata": {},
   "source": [
    "INFERENCE"
   ]
  },
  {
   "cell_type": "markdown",
   "metadata": {},
   "source": [
    "\"rdfs\": RDFS reasoning\n",
    "\n",
    "\"owlrl\": OWL-RL reasoning (using 1 of 3 implementations below)\n",
    "\n",
    "\"vbis\": add VBIS tags to Brick entities\n",
    "\n",
    "\"shacl\": perform advanced SHACL reasoning\n"
   ]
  },
  {
   "cell_type": "markdown",
   "metadata": {},
   "source": [
    "reasonable (fastest, Linux-only for now): pip install brickschema[reasonable]\n",
    "\n",
    "Allegro (next-fastest, requires Docker): pip install brickschema[allegro]\n",
    "\n",
    "OWLRL (default, native Python implementation): pip install brickschema"
   ]
  },
  {
   "cell_type": "markdown",
   "metadata": {},
   "source": [
    "To use a specific reasoner, specify \"reasonable\", \"allegrograph\" or \"owlrl\" as the value for the backend argument to graph.expand."
   ]
  },
  {
   "cell_type": "markdown",
   "metadata": {},
   "source": [
    "1. default inference OWLRL"
   ]
  },
  {
   "cell_type": "code",
   "execution_count": null,
   "metadata": {},
   "outputs": [],
   "source": []
  },
  {
   "cell_type": "code",
   "execution_count": null,
   "metadata": {},
   "outputs": [],
   "source": [
    "g.expand(profile=\"allegrograph\")"
   ]
  },
  {
   "cell_type": "code",
   "execution_count": null,
   "metadata": {},
   "outputs": [],
   "source": [
    "# apply owlrl, shacl, vbis, then shacl again\n",
    "g.expand(profile=\"owlrl+shacl+vbis+shacl\")\n",
    "print(f\"Inferred graph has {len(g)} triples\")"
   ]
  },
  {
   "cell_type": "markdown",
   "metadata": {},
   "source": [
    "Validate"
   ]
  },
  {
   "cell_type": "code",
   "execution_count": null,
   "metadata": {},
   "outputs": [],
   "source": [
    "# validate your Brick graph against built-in shapes (or add your own)\n"
   ]
  },
  {
   "cell_type": "code",
   "execution_count": null,
   "metadata": {},
   "outputs": [],
   "source": []
  },
  {
   "cell_type": "code",
   "execution_count": null,
   "metadata": {},
   "outputs": [],
   "source": []
  },
  {
   "cell_type": "code",
   "execution_count": 12,
   "metadata": {},
   "outputs": [
    {
     "name": "stdout",
     "output_type": "stream",
     "text": [
      " * Serving Flask app 'brickschema.web'\n",
      " * Debug mode: off\n"
     ]
    },
    {
     "name": "stderr",
     "output_type": "stream",
     "text": [
      "2023-09-19:07:39:35,659 INFO    [_internal.py:187] \u001b[31m\u001b[1mWARNING: This is a development server. Do not use it in a production deployment. Use a production WSGI server instead.\u001b[0m\n",
      " * Running on http://localhost:8080\n",
      "2023-09-19:07:39:35,660 INFO    [_internal.py:187] \u001b[33mPress CTRL+C to quit\u001b[0m\n"
     ]
    }
   ],
   "source": []
  }
 ],
 "metadata": {
  "kernelspec": {
   "display_name": "abacws_chatbot_env",
   "language": "python",
   "name": "python3"
  },
  "language_info": {
   "codemirror_mode": {
    "name": "ipython",
    "version": 3
   },
   "file_extension": ".py",
   "mimetype": "text/x-python",
   "name": "python",
   "nbconvert_exporter": "python",
   "pygments_lexer": "ipython3",
   "version": "3.10.9"
  },
  "orig_nbformat": 4
 },
 "nbformat": 4,
 "nbformat_minor": 2
}
