{
 "cells": [
  {
   "cell_type": "code",
   "execution_count": 1,
   "id": "7b937ef7-2abb-428c-9706-b3f5ae99ac45",
   "metadata": {},
   "outputs": [
    {
     "name": "stdout",
     "output_type": "stream",
     "text": [
      "Requirement already satisfied: paho-mqtt==1.6.1 in /home/jovyan/.local/lib/python3.10/site-packages (1.6.1)\n",
      "\n",
      "\u001b[1m[\u001b[0m\u001b[34;49mnotice\u001b[0m\u001b[1;39;49m]\u001b[0m\u001b[39;49m A new release of pip is available: \u001b[0m\u001b[31;49m23.3\u001b[0m\u001b[39;49m -> \u001b[0m\u001b[32;49m23.3.1\u001b[0m\n",
      "\u001b[1m[\u001b[0m\u001b[34;49mnotice\u001b[0m\u001b[1;39;49m]\u001b[0m\u001b[39;49m To update, run: \u001b[0m\u001b[32;49mpip install --upgrade pip\u001b[0m\n",
      "Note: you may need to restart the kernel to use updated packages.\n"
     ]
    }
   ],
   "source": [
    "pip install paho-mqtt==1.6.1"
   ]
  },
  {
   "cell_type": "code",
   "execution_count": 4,
   "id": "91966b27-4335-4060-8dd8-4b18f5d44d4d",
   "metadata": {
    "scrolled": true
   },
   "outputs": [
    {
     "name": "stdout",
     "output_type": "stream",
     "text": [
      "Error: [Errno 113] No route to host\n",
      "Error: [Errno 113] No route to host\n",
      "Error: [Errno 113] No route to host\n"
     ]
    },
    {
     "ename": "KeyboardInterrupt",
     "evalue": "",
     "output_type": "error",
     "traceback": [
      "\u001b[0;31m---------------------------------------------------------------------------\u001b[0m",
      "\u001b[0;31mKeyboardInterrupt\u001b[0m                         Traceback (most recent call last)",
      "Cell \u001b[0;32mIn[4], line 50\u001b[0m\n\u001b[1;32m     47\u001b[0m \u001b[38;5;28;01mexcept\u001b[39;00m \u001b[38;5;167;01mException\u001b[39;00m \u001b[38;5;28;01mas\u001b[39;00m e:\n\u001b[1;32m     48\u001b[0m     \u001b[38;5;28mprint\u001b[39m(\u001b[38;5;124mf\u001b[39m\u001b[38;5;124m\"\u001b[39m\u001b[38;5;124mError: \u001b[39m\u001b[38;5;132;01m{\u001b[39;00me\u001b[38;5;132;01m}\u001b[39;00m\u001b[38;5;124m\"\u001b[39m)\n\u001b[0;32m---> 50\u001b[0m \u001b[43mtime\u001b[49m\u001b[38;5;241;43m.\u001b[39;49m\u001b[43msleep\u001b[49m\u001b[43m(\u001b[49m\u001b[38;5;241;43m2\u001b[39;49m\u001b[43m)\u001b[49m\n",
      "\u001b[0;31mKeyboardInterrupt\u001b[0m: "
     ]
    }
   ],
   "source": [
    "import paho.mqtt.publish as publish\n",
    "import random\n",
    "import time\n",
    "\n",
    "# MQTT broker configuration\n",
    "mqtt_broker = \"host.docker.internal\"\n",
    "mqtt_port = 1883\n",
    "mqtt_topic = \"v1/devices/me/telemetry\"\n",
    "mqtt_username = \"bW9z8pFxLGQWmmRauup6\"\n",
    "\n",
    "while True:\n",
    "    temperature = random.randint(24, 26)\n",
    "    humidity = random.randint(70, 90)\n",
    "    A = random.randint(20, 25)\n",
    "    B = random.uniform(70, 80)\n",
    "    C = random.randint(80, 90)\n",
    "    D = random.uniform(10, 16)\n",
    "    E = random.randint(70, 86)\n",
    "    F = random.uniform(165, 250)\n",
    "    G = random.randint(745, 790)\n",
    "\n",
    "    payload = f'''\n",
    "        {{\n",
    "            \"temperature\": {temperature},\n",
    "            \"humidity\": {humidity},\n",
    "            \"A\": {A},\n",
    "            \"B\": {B},\n",
    "            \"C\": {C},\n",
    "            \"D\": {D},\n",
    "            \"E\": {E},\n",
    "            \"F\": {F},\n",
    "            \"G\": {G}\n",
    "        }}\n",
    "    '''\n",
    "\n",
    "    try:\n",
    "        publish.single(\n",
    "            mqtt_topic,\n",
    "            payload,\n",
    "            hostname=mqtt_broker,\n",
    "            port=mqtt_port,\n",
    "            auth={'username': mqtt_username},\n",
    "            qos=1,\n",
    "            retain=False\n",
    "        )\n",
    "        print(\".\")\n",
    "    except Exception as e:\n",
    "        print(f\"Error: {e}\")\n",
    "\n",
    "    time.sleep(2)\n"
   ]
  },
  {
   "cell_type": "code",
   "execution_count": null,
   "id": "759bc386-3e9b-4afd-a56c-cb7967c303d3",
   "metadata": {},
   "outputs": [],
   "source": []
  }
 ],
 "metadata": {
  "kernelspec": {
   "display_name": "Python 3 (ipykernel)",
   "language": "python",
   "name": "python3"
  },
  "language_info": {
   "codemirror_mode": {
    "name": "ipython",
    "version": 3
   },
   "file_extension": ".py",
   "mimetype": "text/x-python",
   "name": "python",
   "nbconvert_exporter": "python",
   "pygments_lexer": "ipython3",
   "version": "3.10.11"
  }
 },
 "nbformat": 4,
 "nbformat_minor": 5
}
