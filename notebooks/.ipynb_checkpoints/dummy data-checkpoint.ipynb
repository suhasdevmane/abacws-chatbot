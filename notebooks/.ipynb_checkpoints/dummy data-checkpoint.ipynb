{
 "cells": [
  {
   "cell_type": "code",
   "execution_count": 1,
   "id": "7b937ef7-2abb-428c-9706-b3f5ae99ac45",
   "metadata": {},
   "outputs": [
    {
     "name": "stdout",
     "output_type": "stream",
     "text": [
      "Collecting paho-mqtt==1.6.1\n",
      "  Downloading paho-mqtt-1.6.1.tar.gz (99 kB)\n",
      "\u001b[2K     \u001b[90m━━━━━━━━━━━━━━━━━━━━━━━━━━━━━━━━━━━━━━━━\u001b[0m \u001b[32m99.4/99.4 kB\u001b[0m \u001b[31m3.6 MB/s\u001b[0m eta \u001b[36m0:00:00\u001b[0m\n",
      "\u001b[?25h  Preparing metadata (setup.py) ... \u001b[?25ldone\n",
      "\u001b[?25hBuilding wheels for collected packages: paho-mqtt\n",
      "  Building wheel for paho-mqtt (setup.py) ... \u001b[?25ldone\n",
      "\u001b[?25h  Created wheel for paho-mqtt: filename=paho_mqtt-1.6.1-py3-none-any.whl size=62117 sha256=ac7a430e71bfc2ead335f61098d65980a1479e7aa9eccbfc1450c4c79c7772df\n",
      "  Stored in directory: /home/jovyan/.cache/pip/wheels/8b/bb/0c/79444d1dee20324d442856979b5b519b48828b0bd3d05df84a\n",
      "Successfully built paho-mqtt\n",
      "Installing collected packages: paho-mqtt\n",
      "Successfully installed paho-mqtt-1.6.1\n",
      "Note: you may need to restart the kernel to use updated packages.\n"
     ]
    }
   ],
   "source": [
    "pip install paho-mqtt==1.6.1"
   ]
  },
  {
   "cell_type": "code",
   "execution_count": null,
   "id": "91966b27-4335-4060-8dd8-4b18f5d44d4d",
   "metadata": {
    "scrolled": true
   },
   "outputs": [
    {
     "name": "stdout",
     "output_type": "stream",
     "text": [
      ".\n",
      ".\n",
      ".\n",
      ".\n",
      ".\n",
      ".\n",
      ".\n",
      ".\n",
      ".\n",
      ".\n",
      ".\n"
     ]
    }
   ],
   "source": [
    "# this code sends dummy data to device 1\n",
    "import paho.mqtt.publish as publish\n",
    "import random\n",
    "import time\n",
    "\n",
    "# MQTT broker configuration\n",
    "mqtt_broker = \"mytb\"\n",
    "mqtt_port = 1883\n",
    "mqtt_topic = \"v1/devices/me/telemetry\"\n",
    "mqtt_username = \"bW9z8pFxLGQWmmRauup6\"\n",
    "\n",
    "while True:\n",
    "    temperature = random.randint(24, 26)\n",
    "    humidity = random.randint(70, 90)\n",
    "    A = random.randint(20, 25)\n",
    "    B = random.uniform(70, 80)\n",
    "    C = random.randint(80, 90)\n",
    "    D = random.uniform(10, 16)\n",
    "    E = random.randint(70, 86)\n",
    "    F = random.uniform(165, 250)\n",
    "    G = random.randint(745, 790)\n",
    "\n",
    "    payload = f'''\n",
    "        {{\n",
    "            \"temperature\": {temperature},\n",
    "            \"humidity\": {humidity},\n",
    "            \"A\": {A},\n",
    "            \"B\": {B},\n",
    "            \"C\": {C},\n",
    "            \"D\": {D},\n",
    "            \"E\": {E},\n",
    "            \"F\": {F},\n",
    "            \"G\": {G}\n",
    "        }}\n",
    "    '''\n",
    "\n",
    "    try:\n",
    "        publish.single(\n",
    "            mqtt_topic,\n",
    "            payload,\n",
    "            hostname=mqtt_broker,\n",
    "            port=mqtt_port,\n",
    "            auth={'username': mqtt_username},\n",
    "            qos=1,\n",
    "            retain=False\n",
    "        )\n",
    "        print(\".\")\n",
    "    except Exception as e:\n",
    "        print(f\"Error: {e}\")\n",
    "\n",
    "    time.sleep(2)\n"
   ]
  },
  {
   "cell_type": "code",
   "execution_count": null,
   "id": "759bc386-3e9b-4afd-a56c-cb7967c303d3",
   "metadata": {},
   "outputs": [],
   "source": []
  }
 ],
 "metadata": {
  "kernelspec": {
   "display_name": "Python 3 (ipykernel)",
   "language": "python",
   "name": "python3"
  },
  "language_info": {
   "codemirror_mode": {
    "name": "ipython",
    "version": 3
   },
   "file_extension": ".py",
   "mimetype": "text/x-python",
   "name": "python",
   "nbconvert_exporter": "python",
   "pygments_lexer": "ipython3",
   "version": "3.10.11"
  }
 },
 "nbformat": 4,
 "nbformat_minor": 5
}
