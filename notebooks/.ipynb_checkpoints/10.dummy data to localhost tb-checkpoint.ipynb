{
 "cells": [
  {
   "cell_type": "code",
   "execution_count": 1,
   "id": "7b937ef7-2abb-428c-9706-b3f5ae99ac45",
   "metadata": {},
   "outputs": [
    {
     "name": "stdout",
     "output_type": "stream",
     "text": [
      "Collecting paho-mqtt==1.6.1\n",
      "  Downloading paho-mqtt-1.6.1.tar.gz (99 kB)\n",
      "\u001b[2K     \u001b[90m━━━━━━━━━━━━━━━━━━━━━━━━━━━━━━━━━━━━━━━━\u001b[0m \u001b[32m99.4/99.4 kB\u001b[0m \u001b[31m2.8 MB/s\u001b[0m eta \u001b[36m0:00:00\u001b[0m\n",
      "\u001b[?25h  Preparing metadata (setup.py) ... \u001b[?25ldone\n",
      "\u001b[?25hBuilding wheels for collected packages: paho-mqtt\n",
      "  Building wheel for paho-mqtt (setup.py) ... \u001b[?25ldone\n",
      "\u001b[?25h  Created wheel for paho-mqtt: filename=paho_mqtt-1.6.1-py3-none-any.whl size=62117 sha256=9f2ad05e6dd72044a28ef2318f78499461cbc8bcad96fb13f3a1a4ec184936c1\n",
      "  Stored in directory: /home/jovyan/.cache/pip/wheels/8b/bb/0c/79444d1dee20324d442856979b5b519b48828b0bd3d05df84a\n",
      "Successfully built paho-mqtt\n",
      "Installing collected packages: paho-mqtt\n",
      "Successfully installed paho-mqtt-1.6.1\n",
      "Note: you may need to restart the kernel to use updated packages.\n"
     ]
    }
   ],
   "source": [
    "pip install paho-mqtt==1.6.1"
   ]
  },
  {
   "cell_type": "markdown",
   "id": "13928c8a-d121-4471-b545-c8f0d969eb9f",
   "metadata": {
    "jupyter": {
     "source_hidden": true
    }
   },
   "source": [
    "# this code sends dummy data to localhost tb ( 1 Device)"
   ]
  },
  {
   "cell_type": "code",
   "execution_count": 4,
   "id": "cd56f634-7eae-40cb-a348-51d32003b664",
   "metadata": {},
   "outputs": [
    {
     "ename": "gaierror",
     "evalue": "[Errno -2] Name or service not known",
     "output_type": "error",
     "traceback": [
      "\u001b[0;31m---------------------------------------------------------------------------\u001b[0m",
      "\u001b[0;31mgaierror\u001b[0m                                  Traceback (most recent call last)",
      "Cell \u001b[0;32mIn[4], line 13\u001b[0m\n\u001b[1;32m     10\u001b[0m mqtt_host \u001b[38;5;241m=\u001b[39m thingsboard_host_name\n\u001b[1;32m     11\u001b[0m mqtt_port \u001b[38;5;241m=\u001b[39m \u001b[38;5;241m1883\u001b[39m  \u001b[38;5;66;03m# Default MQTT port\u001b[39;00m\n\u001b[0;32m---> 13\u001b[0m \u001b[43mpublish\u001b[49m\u001b[38;5;241;43m.\u001b[39;49m\u001b[43msingle\u001b[49m\u001b[43m(\u001b[49m\u001b[43mmqtt_topic\u001b[49m\u001b[43m,\u001b[49m\u001b[43m \u001b[49m\u001b[43mpayload\u001b[49m\u001b[38;5;241;43m=\u001b[39;49m\u001b[43mmqtt_payload\u001b[49m\u001b[43m,\u001b[49m\u001b[43m \u001b[49m\u001b[43mqos\u001b[49m\u001b[38;5;241;43m=\u001b[39;49m\u001b[38;5;241;43m1\u001b[39;49m\u001b[43m,\u001b[49m\u001b[43m \u001b[49m\u001b[43mhostname\u001b[49m\u001b[38;5;241;43m=\u001b[39;49m\u001b[43mmqtt_host\u001b[49m\u001b[43m,\u001b[49m\u001b[43m \u001b[49m\u001b[43mport\u001b[49m\u001b[38;5;241;43m=\u001b[39;49m\u001b[43mmqtt_port\u001b[49m\u001b[43m,\u001b[49m\u001b[43m \u001b[49m\u001b[43mauth\u001b[49m\u001b[38;5;241;43m=\u001b[39;49m\u001b[43m{\u001b[49m\u001b[38;5;124;43m'\u001b[39;49m\u001b[38;5;124;43musername\u001b[39;49m\u001b[38;5;124;43m'\u001b[39;49m\u001b[43m:\u001b[49m\u001b[43m \u001b[49m\u001b[43mdevice_token\u001b[49m\u001b[43m}\u001b[49m\u001b[43m)\u001b[49m\n",
      "File \u001b[0;32m/opt/conda/lib/python3.10/site-packages/paho/mqtt/publish.py:240\u001b[0m, in \u001b[0;36msingle\u001b[0;34m(topic, payload, qos, retain, hostname, port, client_id, keepalive, will, auth, tls, protocol, transport, proxy_args)\u001b[0m\n\u001b[1;32m    183\u001b[0m \u001b[38;5;250m\u001b[39m\u001b[38;5;124;03m\"\"\"Publish a single message to a broker, then disconnect cleanly.\u001b[39;00m\n\u001b[1;32m    184\u001b[0m \n\u001b[1;32m    185\u001b[0m \u001b[38;5;124;03mThis function creates an MQTT client, connects to a broker and publishes a\u001b[39;00m\n\u001b[0;32m   (...)\u001b[0m\n\u001b[1;32m    235\u001b[0m \u001b[38;5;124;03mproxy_args: a dictionary that will be given to the client.\u001b[39;00m\n\u001b[1;32m    236\u001b[0m \u001b[38;5;124;03m\"\"\"\u001b[39;00m\n\u001b[1;32m    238\u001b[0m msg \u001b[38;5;241m=\u001b[39m {\u001b[38;5;124m'\u001b[39m\u001b[38;5;124mtopic\u001b[39m\u001b[38;5;124m'\u001b[39m:topic, \u001b[38;5;124m'\u001b[39m\u001b[38;5;124mpayload\u001b[39m\u001b[38;5;124m'\u001b[39m:payload, \u001b[38;5;124m'\u001b[39m\u001b[38;5;124mqos\u001b[39m\u001b[38;5;124m'\u001b[39m:qos, \u001b[38;5;124m'\u001b[39m\u001b[38;5;124mretain\u001b[39m\u001b[38;5;124m'\u001b[39m:retain}\n\u001b[0;32m--> 240\u001b[0m \u001b[43mmultiple\u001b[49m\u001b[43m(\u001b[49m\u001b[43m[\u001b[49m\u001b[43mmsg\u001b[49m\u001b[43m]\u001b[49m\u001b[43m,\u001b[49m\u001b[43m \u001b[49m\u001b[43mhostname\u001b[49m\u001b[43m,\u001b[49m\u001b[43m \u001b[49m\u001b[43mport\u001b[49m\u001b[43m,\u001b[49m\u001b[43m \u001b[49m\u001b[43mclient_id\u001b[49m\u001b[43m,\u001b[49m\u001b[43m \u001b[49m\u001b[43mkeepalive\u001b[49m\u001b[43m,\u001b[49m\u001b[43m \u001b[49m\u001b[43mwill\u001b[49m\u001b[43m,\u001b[49m\u001b[43m \u001b[49m\u001b[43mauth\u001b[49m\u001b[43m,\u001b[49m\u001b[43m \u001b[49m\u001b[43mtls\u001b[49m\u001b[43m,\u001b[49m\n\u001b[1;32m    241\u001b[0m \u001b[43m         \u001b[49m\u001b[43mprotocol\u001b[49m\u001b[43m,\u001b[49m\u001b[43m \u001b[49m\u001b[43mtransport\u001b[49m\u001b[43m,\u001b[49m\u001b[43m \u001b[49m\u001b[43mproxy_args\u001b[49m\u001b[43m)\u001b[49m\n",
      "File \u001b[0;32m/opt/conda/lib/python3.10/site-packages/paho/mqtt/publish.py:176\u001b[0m, in \u001b[0;36mmultiple\u001b[0;34m(msgs, hostname, port, client_id, keepalive, will, auth, tls, protocol, transport, proxy_args)\u001b[0m\n\u001b[1;32m    172\u001b[0m     \u001b[38;5;28;01melse\u001b[39;00m:\n\u001b[1;32m    173\u001b[0m         \u001b[38;5;66;03m# Assume input is SSLContext object\u001b[39;00m\n\u001b[1;32m    174\u001b[0m         client\u001b[38;5;241m.\u001b[39mtls_set_context(tls)\n\u001b[0;32m--> 176\u001b[0m \u001b[43mclient\u001b[49m\u001b[38;5;241;43m.\u001b[39;49m\u001b[43mconnect\u001b[49m\u001b[43m(\u001b[49m\u001b[43mhostname\u001b[49m\u001b[43m,\u001b[49m\u001b[43m \u001b[49m\u001b[43mport\u001b[49m\u001b[43m,\u001b[49m\u001b[43m \u001b[49m\u001b[43mkeepalive\u001b[49m\u001b[43m)\u001b[49m\n\u001b[1;32m    177\u001b[0m client\u001b[38;5;241m.\u001b[39mloop_forever()\n",
      "File \u001b[0;32m/opt/conda/lib/python3.10/site-packages/paho/mqtt/client.py:914\u001b[0m, in \u001b[0;36mClient.connect\u001b[0;34m(self, host, port, keepalive, bind_address, bind_port, clean_start, properties)\u001b[0m\n\u001b[1;32m    910\u001b[0m         \u001b[38;5;28;01mraise\u001b[39;00m \u001b[38;5;167;01mValueError\u001b[39;00m(\u001b[38;5;124m\"\u001b[39m\u001b[38;5;124mProperties only apply to MQTT V5\u001b[39m\u001b[38;5;124m\"\u001b[39m)\n\u001b[1;32m    912\u001b[0m \u001b[38;5;28mself\u001b[39m\u001b[38;5;241m.\u001b[39mconnect_async(host, port, keepalive,\n\u001b[1;32m    913\u001b[0m                    bind_address, bind_port, clean_start, properties)\n\u001b[0;32m--> 914\u001b[0m \u001b[38;5;28;01mreturn\u001b[39;00m \u001b[38;5;28;43mself\u001b[39;49m\u001b[38;5;241;43m.\u001b[39;49m\u001b[43mreconnect\u001b[49m\u001b[43m(\u001b[49m\u001b[43m)\u001b[49m\n",
      "File \u001b[0;32m/opt/conda/lib/python3.10/site-packages/paho/mqtt/client.py:1044\u001b[0m, in \u001b[0;36mClient.reconnect\u001b[0;34m(self)\u001b[0m\n\u001b[1;32m   1041\u001b[0m \u001b[38;5;66;03m# Put messages in progress in a valid state.\u001b[39;00m\n\u001b[1;32m   1042\u001b[0m \u001b[38;5;28mself\u001b[39m\u001b[38;5;241m.\u001b[39m_messages_reconnect_reset()\n\u001b[0;32m-> 1044\u001b[0m sock \u001b[38;5;241m=\u001b[39m \u001b[38;5;28;43mself\u001b[39;49m\u001b[38;5;241;43m.\u001b[39;49m\u001b[43m_create_socket_connection\u001b[49m\u001b[43m(\u001b[49m\u001b[43m)\u001b[49m\n\u001b[1;32m   1046\u001b[0m \u001b[38;5;28;01mif\u001b[39;00m \u001b[38;5;28mself\u001b[39m\u001b[38;5;241m.\u001b[39m_ssl:\n\u001b[1;32m   1047\u001b[0m     \u001b[38;5;66;03m# SSL is only supported when SSLContext is available (implies Python >= 2.7.9 or >= 3.2)\u001b[39;00m\n\u001b[1;32m   1049\u001b[0m     verify_host \u001b[38;5;241m=\u001b[39m \u001b[38;5;129;01mnot\u001b[39;00m \u001b[38;5;28mself\u001b[39m\u001b[38;5;241m.\u001b[39m_tls_insecure\n",
      "File \u001b[0;32m/opt/conda/lib/python3.10/site-packages/paho/mqtt/client.py:3685\u001b[0m, in \u001b[0;36mClient._create_socket_connection\u001b[0;34m(self)\u001b[0m\n\u001b[1;32m   3683\u001b[0m     \u001b[38;5;28;01mreturn\u001b[39;00m socks\u001b[38;5;241m.\u001b[39mcreate_connection(addr, timeout\u001b[38;5;241m=\u001b[39m\u001b[38;5;28mself\u001b[39m\u001b[38;5;241m.\u001b[39m_connect_timeout, source_address\u001b[38;5;241m=\u001b[39msource, \u001b[38;5;241m*\u001b[39m\u001b[38;5;241m*\u001b[39mproxy)\n\u001b[1;32m   3684\u001b[0m \u001b[38;5;28;01melse\u001b[39;00m:\n\u001b[0;32m-> 3685\u001b[0m     \u001b[38;5;28;01mreturn\u001b[39;00m \u001b[43msocket\u001b[49m\u001b[38;5;241;43m.\u001b[39;49m\u001b[43mcreate_connection\u001b[49m\u001b[43m(\u001b[49m\u001b[43maddr\u001b[49m\u001b[43m,\u001b[49m\u001b[43m \u001b[49m\u001b[43mtimeout\u001b[49m\u001b[38;5;241;43m=\u001b[39;49m\u001b[38;5;28;43mself\u001b[39;49m\u001b[38;5;241;43m.\u001b[39;49m\u001b[43m_connect_timeout\u001b[49m\u001b[43m,\u001b[49m\u001b[43m \u001b[49m\u001b[43msource_address\u001b[49m\u001b[38;5;241;43m=\u001b[39;49m\u001b[43msource\u001b[49m\u001b[43m)\u001b[49m\n",
      "File \u001b[0;32m/opt/conda/lib/python3.10/socket.py:824\u001b[0m, in \u001b[0;36mcreate_connection\u001b[0;34m(address, timeout, source_address)\u001b[0m\n\u001b[1;32m    822\u001b[0m host, port \u001b[38;5;241m=\u001b[39m address\n\u001b[1;32m    823\u001b[0m err \u001b[38;5;241m=\u001b[39m \u001b[38;5;28;01mNone\u001b[39;00m\n\u001b[0;32m--> 824\u001b[0m \u001b[38;5;28;01mfor\u001b[39;00m res \u001b[38;5;129;01min\u001b[39;00m \u001b[43mgetaddrinfo\u001b[49m\u001b[43m(\u001b[49m\u001b[43mhost\u001b[49m\u001b[43m,\u001b[49m\u001b[43m \u001b[49m\u001b[43mport\u001b[49m\u001b[43m,\u001b[49m\u001b[43m \u001b[49m\u001b[38;5;241;43m0\u001b[39;49m\u001b[43m,\u001b[49m\u001b[43m \u001b[49m\u001b[43mSOCK_STREAM\u001b[49m\u001b[43m)\u001b[49m:\n\u001b[1;32m    825\u001b[0m     af, socktype, proto, canonname, sa \u001b[38;5;241m=\u001b[39m res\n\u001b[1;32m    826\u001b[0m     sock \u001b[38;5;241m=\u001b[39m \u001b[38;5;28;01mNone\u001b[39;00m\n",
      "File \u001b[0;32m/opt/conda/lib/python3.10/socket.py:955\u001b[0m, in \u001b[0;36mgetaddrinfo\u001b[0;34m(host, port, family, type, proto, flags)\u001b[0m\n\u001b[1;32m    952\u001b[0m \u001b[38;5;66;03m# We override this function since we want to translate the numeric family\u001b[39;00m\n\u001b[1;32m    953\u001b[0m \u001b[38;5;66;03m# and socket type values to enum constants.\u001b[39;00m\n\u001b[1;32m    954\u001b[0m addrlist \u001b[38;5;241m=\u001b[39m []\n\u001b[0;32m--> 955\u001b[0m \u001b[38;5;28;01mfor\u001b[39;00m res \u001b[38;5;129;01min\u001b[39;00m \u001b[43m_socket\u001b[49m\u001b[38;5;241;43m.\u001b[39;49m\u001b[43mgetaddrinfo\u001b[49m\u001b[43m(\u001b[49m\u001b[43mhost\u001b[49m\u001b[43m,\u001b[49m\u001b[43m \u001b[49m\u001b[43mport\u001b[49m\u001b[43m,\u001b[49m\u001b[43m \u001b[49m\u001b[43mfamily\u001b[49m\u001b[43m,\u001b[49m\u001b[43m \u001b[49m\u001b[38;5;28;43mtype\u001b[39;49m\u001b[43m,\u001b[49m\u001b[43m \u001b[49m\u001b[43mproto\u001b[49m\u001b[43m,\u001b[49m\u001b[43m \u001b[49m\u001b[43mflags\u001b[49m\u001b[43m)\u001b[49m:\n\u001b[1;32m    956\u001b[0m     af, socktype, proto, canonname, sa \u001b[38;5;241m=\u001b[39m res\n\u001b[1;32m    957\u001b[0m     addrlist\u001b[38;5;241m.\u001b[39mappend((_intenum_converter(af, AddressFamily),\n\u001b[1;32m    958\u001b[0m                      _intenum_converter(socktype, SocketKind),\n\u001b[1;32m    959\u001b[0m                      proto, canonname, sa))\n",
      "\u001b[0;31mgaierror\u001b[0m: [Errno -2] Name or service not known"
     ]
    }
   ],
   "source": [
    "import paho.mqtt.publish as publish\n",
    "\n",
    "# thingsboard_host_name = \"mytb\" #use this address with docker jupyter notebook\n",
    "thingsboard_host_name = \"http://131.251.10.67\" #use this address to connect from outside docker\n",
    "\n",
    "device_token = \"bJtR9Q72YuFnrlauOz2I\"\n",
    "mqtt_topic = \"v1/devices/me/telemetry\"\n",
    "mqtt_payload = '{\"temperature\": 42}'\n",
    "\n",
    "mqtt_host = thingsboard_host_name\n",
    "mqtt_port = 1883  # Default MQTT port\n",
    "\n",
    "publish.single(mqtt_topic, payload=mqtt_payload, qos=1, hostname=mqtt_host, port=mqtt_port, auth={'username': device_token})\n"
   ]
  },
  {
   "cell_type": "markdown",
   "id": "e9a29ab4-4f1c-495e-b64c-70e2c62a2df1",
   "metadata": {},
   "source": [
    "# this code sends dummy data to localhost tb ( All Devices)"
   ]
  },
  {
   "cell_type": "code",
   "execution_count": null,
   "id": "c081181b-96cf-44c7-8938-b5a9f460b376",
   "metadata": {
    "scrolled": true
   },
   "outputs": [],
   "source": [
    "import paho.mqtt.publish as publish\n",
    "import time\n",
    "import random\n",
    "\n",
    "thingsboard_host_name = \"mytb\"\n",
    "access_tokens = [\n",
    "    \"bJtR9Q72YuFnrlauOz2I\",\n",
    "    \"cjS6zpU57XwclQf31YsH\",\n",
    "    \"hQDoHevlPTBiHukOy3rA\",\n",
    "    \"1nCMHLF10N5XDUSvGVCU\",\n",
    "    \"ZfaupINUEUhJ1Dn3lHGO\",\n",
    "    \"cDIN9QzNN8CptommVRlO\",\n",
    "    \"rhJAkl9S6pRBtkcfFrDY\",\n",
    "    \"Z3UD5kYGKfeUlvGaE2fg\",\n",
    "    \"KYGpekIKV6ZgnekuOsny\",\n",
    "    \"z1oKFx9S57LCHO8tIv8T\",\n",
    "    \"9hUTH56Tvuif0jMikGM9\",\n",
    "    \"4MT7VWsyUv7cDuQcvYNY\",\n",
    "    \"MEPYIKmcxs6QiHdChIlh\",\n",
    "    \"J1Fn0WXVkiYyRXYya666\",\n",
    "    \"GxIj5G0nBCg252rKLBYB\",\n",
    "    \"ZDMNcntJcSDyiHdHXsvh\",\n",
    "    \"kV4s5cd6usMAzBhas0DY\",\n",
    "    \"9mnbPWAw0zPycZ5lsgpq\",\n",
    "    \"WRv5yDaODnH2fXiO3FH6\",\n",
    "    \"4W3KoKTyv54AP0HNgGMP\",\n",
    "    \"7O7oywIPLR71YkaKhhDD\",\n",
    "    \"WhXnfSuhoePcvLSTbzu0\",\n",
    "    \"pKIgLkN8DzDnOI9KjQm3\",\n",
    "    \"TYvszs2xGXFmz1944P1n\",\n",
    "    \"N8TvJqj49HFZhVZnHL2o\",\n",
    "    \"pEmsSNtKKiJx2Iry36V5\",\n",
    "    \"3HN3tNJm3qXrAbF9YoAq\",\n",
    "    \"OIl0HwBh6D4JgshHf4wB\",\n",
    "    \"u9zgemN2v2f9FC5dhufz\",\n",
    "    \"3NwrcyZR0wzAWrCMWnNl\",\n",
    "    \"wB4LKJotiCQbhvItdOmh\",\n",
    "    \"cVr9WVIejp4mIE1FiRFQ\",\n",
    "    \"phXrZxYnm5gEAPEvLPca\",\n",
    "    \"rXp0cpTzQVPMivSsIEmY\"\n",
    "\n",
    "]\n",
    "\n",
    "mqtt_topic = \"v1/devices/me/telemetry\"\n",
    "\n",
    "def generate_random_data():\n",
    "    data = {\n",
    "        \"UV_light\": round(random.uniform(0, 0.1), 2),\n",
    "        \"Loudness\": random.randint(300, 400),\n",
    "        \"PM1.0Atmospheric\": random.randint(8, 10),\n",
    "        \"PM2.5Atmospheric\": random.randint(12, 14),\n",
    "        \"PM10Atmospheric\": random.randint(12, 14),\n",
    "        \"tVOC_Concentration\": random.randint(18, 20),\n",
    "        \"CO2eq_Concentration\": random.randint(390, 410),\n",
    "        \"MQ2_sensor_voltage\": round(random.uniform(0.25, 0.35), 2),\n",
    "        \"MQ2_Rs_ratio\": round(random.uniform(15, 16), 2),\n",
    "        \"MQ2_Rs/R0_Ratio\": round(random.uniform(150, 160), 2),\n",
    "        \"MQ3_sensor_voltage\": round(random.uniform(0.30, 0.35), 2),\n",
    "        \"MQ3_Rs_ratio\": round(random.uniform(14, 16), 2),\n",
    "        \"MQ3_Rs/R0_Ratio\": round(random.uniform(750, 770), 2),\n",
    "        \"HCHO_ppm\": round(random.uniform(0, 0.01), 2),\n",
    "        \"Air_Quality\": \"Fresh air\",\n",
    "        \"Light_value\": random.randint(170, 175),\n",
    "        \"Visible_light\": random.randint(260, 265),\n",
    "        \"IR_light\": random.randint(270, 280),\n",
    "        \"MQ5_sensor_voltage\": round(random.uniform(0.65, 0.75), 2),\n",
    "        \"MQ5_Rs_ratio\": round(random.uniform(5.8, 6.2), 2),\n",
    "        \"MQ5_Rs/R0_Ratio\": round(random.uniform(40, 42), 2),\n",
    "        \"MQ9_sensor_voltage\": round(random.uniform(0.35, 0.40), 2),\n",
    "        \"MQ9_Rs_ratio\": round(random.uniform(12, 13), 2),\n",
    "        \"MQ9_Rs/R0_Ratio\": round(random.uniform(82, 84), 2),\n",
    "        \"O2_22.10_N2_gas\": random.randint(192, 196),\n",
    "        \"C2H5CH_gas\": random.randint(287, 291),\n",
    "        \"VOC_gas\": random.randint(245, 251),\n",
    "        \"CO_gas\": random.randint(176, 182),\n",
    "        \"Co2\": random.randint(598, 608),\n",
    "        \"Temperature\": round(random.uniform(30, 32), 2),\n",
    "        \"Humidity\": round(random.uniform(17, 19), 2),\n",
    "        \"Luminance\": round(random.uniform(30, 32), 2)\n",
    "    }\n",
    "    return data\n",
    "\n",
    "while True:\n",
    "    for access_token in access_tokens:\n",
    "        data = generate_random_data()\n",
    "        publish.single(mqtt_topic, payload=str(data), qos=1, hostname=thingsboard_host_name, port=1883, auth={'username': access_token})\n",
    "    time.sleep(10)\n"
   ]
  },
  {
   "cell_type": "code",
   "execution_count": null,
   "id": "7eac7391-117b-4041-96fb-f1d3d4cd934e",
   "metadata": {},
   "outputs": [],
   "source": []
  }
 ],
 "metadata": {
  "kernelspec": {
   "display_name": "Python 3 (ipykernel)",
   "language": "python",
   "name": "python3"
  },
  "language_info": {
   "codemirror_mode": {
    "name": "ipython",
    "version": 3
   },
   "file_extension": ".py",
   "mimetype": "text/x-python",
   "name": "python",
   "nbconvert_exporter": "python",
   "pygments_lexer": "ipython3",
   "version": "3.10.11"
  }
 },
 "nbformat": 4,
 "nbformat_minor": 5
}
