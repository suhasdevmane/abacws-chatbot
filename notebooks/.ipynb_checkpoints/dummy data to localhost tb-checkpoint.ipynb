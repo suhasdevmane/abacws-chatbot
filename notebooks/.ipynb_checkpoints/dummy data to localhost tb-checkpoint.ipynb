{
 "cells": [
  {
   "cell_type": "code",
   "execution_count": 1,
   "id": "7b937ef7-2abb-428c-9706-b3f5ae99ac45",
   "metadata": {},
   "outputs": [
    {
     "name": "stdout",
     "output_type": "stream",
     "text": [
      "Collecting paho-mqtt==1.6.1\n",
      "  Downloading paho-mqtt-1.6.1.tar.gz (99 kB)\n",
      "\u001b[2K     \u001b[90m━━━━━━━━━━━━━━━━━━━━━━━━━━━━━━━━━━━━━━━━\u001b[0m \u001b[32m99.4/99.4 kB\u001b[0m \u001b[31m4.8 MB/s\u001b[0m eta \u001b[36m0:00:00\u001b[0m\n",
      "\u001b[?25h  Preparing metadata (setup.py) ... \u001b[?25ldone\n",
      "\u001b[?25hBuilding wheels for collected packages: paho-mqtt\n",
      "  Building wheel for paho-mqtt (setup.py) ... \u001b[?25ldone\n",
      "\u001b[?25h  Created wheel for paho-mqtt: filename=paho_mqtt-1.6.1-py3-none-any.whl size=62117 sha256=0815335f69725cc64723a037aa124204e960341ce99578a17147a3575323dc5e\n",
      "  Stored in directory: /home/jovyan/.cache/pip/wheels/8b/bb/0c/79444d1dee20324d442856979b5b519b48828b0bd3d05df84a\n",
      "Successfully built paho-mqtt\n",
      "Installing collected packages: paho-mqtt\n",
      "Successfully installed paho-mqtt-1.6.1\n",
      "Note: you may need to restart the kernel to use updated packages.\n"
     ]
    }
   ],
   "source": [
    "pip install paho-mqtt==1.6.1"
   ]
  },
  {
   "cell_type": "markdown",
   "id": "13928c8a-d121-4471-b545-c8f0d969eb9f",
   "metadata": {},
   "source": [
    "# this code sends dummy data to localhost tb ( 1 Device)"
   ]
  },
  {
   "cell_type": "code",
   "execution_count": 3,
   "id": "cd56f634-7eae-40cb-a348-51d32003b664",
   "metadata": {},
   "outputs": [],
   "source": [
    "import paho.mqtt.publish as publish\n",
    "\n",
    "thingsboard_host_name = \"mytb\"\n",
    "access_token = \"bJtR9Q72YuFnrlauOz2I\"\n",
    "mqtt_topic = \"v1/devices/me/telemetry\"\n",
    "mqtt_payload = '{\"temperature\": 42}'\n",
    "\n",
    "mqtt_host = thingsboard_host_name\n",
    "mqtt_port = 1883  # Default MQTT port\n",
    "\n",
    "publish.single(mqtt_topic, payload=mqtt_payload, qos=1, hostname=mqtt_host, port=mqtt_port, auth={'username': access_token})\n"
   ]
  },
  {
   "cell_type": "markdown",
   "id": "e9a29ab4-4f1c-495e-b64c-70e2c62a2df1",
   "metadata": {},
   "source": [
    "# this code sends dummy data to localhost tb ( All Devices)"
   ]
  },
  {
   "cell_type": "code",
   "execution_count": null,
   "id": "c081181b-96cf-44c7-8938-b5a9f460b376",
   "metadata": {
    "scrolled": true
   },
   "outputs": [],
   "source": [
    "import paho.mqtt.publish as publish\n",
    "import time\n",
    "import random\n",
    "\n",
    "thingsboard_host_name = \"mytb\"\n",
    "access_tokens = [\n",
    "    \"bJtR9Q72YuFnrlauOz2I\",\n",
    "    \"cjS6zpU57XwclQf31YsH\",\n",
    "    \"hQDoHevlPTBiHukOy3rA\",\n",
    "    \"1nCMHLF10N5XDUSvGVCU\",\n",
    "    \"ZfaupINUEUhJ1Dn3lHGO\",\n",
    "    \"cDIN9QzNN8CptommVRlO\",\n",
    "    \"rhJAkl9S6pRBtkcfFrDY\",\n",
    "    \"Z3UD5kYGKfeUlvGaE2fg\",\n",
    "    \"KYGpekIKV6ZgnekuOsny\",\n",
    "    \"z1oKFx9S57LCHO8tIv8T\",\n",
    "    \"9hUTH56Tvuif0jMikGM9\",\n",
    "    \"4MT7VWsyUv7cDuQcvYNY\",\n",
    "    \"MEPYIKmcxs6QiHdChIlh\",\n",
    "    \"J1Fn0WXVkiYyRXYya666\",\n",
    "    \"GxIj5G0nBCg252rKLBYB\",\n",
    "    \"ZDMNcntJcSDyiHdHXsvh\",\n",
    "    \"kV4s5cd6usMAzBhas0DY\",\n",
    "    \"9mnbPWAw0zPycZ5lsgpq\",\n",
    "    \"WRv5yDaODnH2fXiO3FH6\",\n",
    "    \"4W3KoKTyv54AP0HNgGMP\",\n",
    "    \"7O7oywIPLR71YkaKhhDD\",\n",
    "    \"WhXnfSuhoePcvLSTbzu0\",\n",
    "    \"pKIgLkN8DzDnOI9KjQm3\",\n",
    "    \"TYvszs2xGXFmz1944P1n\",\n",
    "    \"N8TvJqj49HFZhVZnHL2o\",\n",
    "    \"pEmsSNtKKiJx2Iry36V5\",\n",
    "    \"3HN3tNJm3qXrAbF9YoAq\",\n",
    "    \"OIl0HwBh6D4JgshHf4wB\",\n",
    "    \"u9zgemN2v2f9FC5dhufz\",\n",
    "    \"3NwrcyZR0wzAWrCMWnNl\",\n",
    "    \"wB4LKJotiCQbhvItdOmh\",\n",
    "    \"cVr9WVIejp4mIE1FiRFQ\",\n",
    "    \"phXrZxYnm5gEAPEvLPca\",\n",
    "    \"rXp0cpTzQVPMivSsIEmY\"\n",
    "\n",
    "]\n",
    "\n",
    "mqtt_topic = \"v1/devices/me/telemetry\"\n",
    "\n",
    "def generate_random_data():\n",
    "    data = {\n",
    "        \"UV_light\": round(random.uniform(0, 0.1), 2),\n",
    "        \"Loudness\": random.randint(300, 400),\n",
    "        \"PM1.0Atmospheric\": random.randint(8, 10),\n",
    "        \"PM2.5Atmospheric\": random.randint(12, 14),\n",
    "        \"PM10Atmospheric\": random.randint(12, 14),\n",
    "        \"tVOC_Concentration\": random.randint(18, 20),\n",
    "        \"CO2eq_Concentration\": random.randint(390, 410),\n",
    "        \"MQ2_sensor_voltage\": round(random.uniform(0.25, 0.35), 2),\n",
    "        \"MQ2_Rs_ratio\": round(random.uniform(15, 16), 2),\n",
    "        \"MQ2_Rs/R0_Ratio\": round(random.uniform(150, 160), 2),\n",
    "        \"MQ3_sensor_voltage\": round(random.uniform(0.30, 0.35), 2),\n",
    "        \"MQ3_Rs_ratio\": round(random.uniform(14, 16), 2),\n",
    "        \"MQ3_Rs/R0_Ratio\": round(random.uniform(750, 770), 2),\n",
    "        \"HCHO_ppm\": round(random.uniform(0, 0.01), 2),\n",
    "        \"Air_Quality\": \"Fresh air\",\n",
    "        \"Light_value\": random.randint(170, 175),\n",
    "        \"Visible_light\": random.randint(260, 265),\n",
    "        \"IR_light\": random.randint(270, 280),\n",
    "        \"MQ5_sensor_voltage\": round(random.uniform(0.65, 0.75), 2),\n",
    "        \"MQ5_Rs_ratio\": round(random.uniform(5.8, 6.2), 2),\n",
    "        \"MQ5_Rs/R0_Ratio\": round(random.uniform(40, 42), 2),\n",
    "        \"MQ9_sensor_voltage\": round(random.uniform(0.35, 0.40), 2),\n",
    "        \"MQ9_Rs_ratio\": round(random.uniform(12, 13), 2),\n",
    "        \"MQ9_Rs/R0_Ratio\": round(random.uniform(82, 84), 2),\n",
    "        \"O2_22.10_N2_gas\": random.randint(192, 196),\n",
    "        \"C2H5CH_gas\": random.randint(287, 291),\n",
    "        \"VOC_gas\": random.randint(245, 251),\n",
    "        \"CO_gas\": random.randint(176, 182),\n",
    "        \"Co2\": random.randint(598, 608),\n",
    "        \"Temperature\": round(random.uniform(30, 32), 2),\n",
    "        \"Humidity\": round(random.uniform(17, 19), 2),\n",
    "        \"Luminance\": round(random.uniform(30, 32), 2)\n",
    "    }\n",
    "    return data\n",
    "\n",
    "while True:\n",
    "    for access_token in access_tokens:\n",
    "        data = generate_random_data()\n",
    "        publish.single(mqtt_topic, payload=str(data), qos=1, hostname=thingsboard_host_name, port=1883, auth={'username': access_token})\n",
    "    time.sleep(3)\n"
   ]
  },
  {
   "cell_type": "code",
   "execution_count": null,
   "id": "7eac7391-117b-4041-96fb-f1d3d4cd934e",
   "metadata": {},
   "outputs": [],
   "source": []
  }
 ],
 "metadata": {
  "kernelspec": {
   "display_name": "Python 3 (ipykernel)",
   "language": "python",
   "name": "python3"
  },
  "language_info": {
   "codemirror_mode": {
    "name": "ipython",
    "version": 3
   },
   "file_extension": ".py",
   "mimetype": "text/x-python",
   "name": "python",
   "nbconvert_exporter": "python",
   "pygments_lexer": "ipython3",
   "version": "3.10.11"
  }
 },
 "nbformat": 4,
 "nbformat_minor": 5
}
