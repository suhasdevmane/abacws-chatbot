version https://git-lfs.github.com/spec/v1
oid sha256:170dde96c6271d5343f919ad8be39ed96045cf7f49d69d5df2351778f5fc2474
size 43883
