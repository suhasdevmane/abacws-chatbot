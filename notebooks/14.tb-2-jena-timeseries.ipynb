version https://git-lfs.github.com/spec/v1
oid sha256:a245120aa2017327fd3b6c4336d034f1cbcf053fda58099d54642535cb25cfa7
size 43934
