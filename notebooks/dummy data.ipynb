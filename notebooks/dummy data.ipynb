{
 "cells": [
  {
   "cell_type": "code",
   "execution_count": null,
   "id": "7b937ef7-2abb-428c-9706-b3f5ae99ac45",
   "metadata": {},
   "outputs": [],
   "source": [
    "pip install paho-mqtt==1.6.1"
   ]
  },
  {
   "cell_type": "code",
   "execution_count": 1,
   "id": "91966b27-4335-4060-8dd8-4b18f5d44d4d",
   "metadata": {
    "scrolled": true
   },
   "outputs": [
    {
     "ename": "ModuleNotFoundError",
     "evalue": "No module named 'paho'",
     "output_type": "error",
     "traceback": [
      "\u001b[0;31m---------------------------------------------------------------------------\u001b[0m",
      "\u001b[0;31mModuleNotFoundError\u001b[0m                       Traceback (most recent call last)",
      "Cell \u001b[0;32mIn[1], line 1\u001b[0m\n\u001b[0;32m----> 1\u001b[0m \u001b[38;5;28;01mimport\u001b[39;00m \u001b[38;5;21;01mpaho\u001b[39;00m\u001b[38;5;21;01m.\u001b[39;00m\u001b[38;5;21;01mmqtt\u001b[39;00m\u001b[38;5;21;01m.\u001b[39;00m\u001b[38;5;21;01mpublish\u001b[39;00m \u001b[38;5;28;01mas\u001b[39;00m \u001b[38;5;21;01mpublish\u001b[39;00m\n\u001b[1;32m      2\u001b[0m \u001b[38;5;28;01mimport\u001b[39;00m \u001b[38;5;21;01mrandom\u001b[39;00m\n\u001b[1;32m      3\u001b[0m \u001b[38;5;28;01mimport\u001b[39;00m \u001b[38;5;21;01mtime\u001b[39;00m\n",
      "\u001b[0;31mModuleNotFoundError\u001b[0m: No module named 'paho'"
     ]
    }
   ],
   "source": [
    "import paho.mqtt.publish as publish\n",
    "import random\n",
    "import time\n",
    "\n",
    "# MQTT broker configuration\n",
    "mqtt_broker = \"192.168.1.85\"\n",
    "mqtt_port = 1883\n",
    "mqtt_topic = \"v1/devices/me/telemetry\"\n",
    "mqtt_username = \"bW9z8pFxLGQWmmRauup6\"\n",
    "\n",
    "while True:\n",
    "    temperature = random.randint(24, 26)\n",
    "    humidity = random.randint(70, 90)\n",
    "    A = random.randint(20, 25)\n",
    "    B = random.uniform(70, 80)\n",
    "    C = random.randint(80, 90)\n",
    "    D = random.uniform(10, 16)\n",
    "    E = random.randint(70, 86)\n",
    "    F = random.uniform(165, 250)\n",
    "    G = random.randint(745, 790)\n",
    "\n",
    "    payload = f'''\n",
    "        {{\n",
    "            \"temperature\": {temperature},\n",
    "            \"humidity\": {humidity},\n",
    "            \"A\": {A},\n",
    "            \"B\": {B},\n",
    "            \"C\": {C},\n",
    "            \"D\": {D},\n",
    "            \"E\": {E},\n",
    "            \"F\": {F},\n",
    "            \"G\": {G}\n",
    "        }}\n",
    "    '''\n",
    "\n",
    "    try:\n",
    "        publish.single(\n",
    "            mqtt_topic,\n",
    "            payload,\n",
    "            hostname=mqtt_broker,\n",
    "            port=mqtt_port,\n",
    "            auth={'username': mqtt_username},\n",
    "            qos=1,\n",
    "            retain=False\n",
    "        )\n",
    "        print(\".\")\n",
    "    except Exception as e:\n",
    "        print(f\"Error: {e}\")\n",
    "\n",
    "    time.sleep(2)\n"
   ]
  },
  {
   "cell_type": "code",
   "execution_count": null,
   "id": "759bc386-3e9b-4afd-a56c-cb7967c303d3",
   "metadata": {},
   "outputs": [],
   "source": []
  }
 ],
 "metadata": {
  "kernelspec": {
   "display_name": "Python 3 (ipykernel)",
   "language": "python",
   "name": "python3"
  },
  "language_info": {
   "codemirror_mode": {
    "name": "ipython",
    "version": 3
   },
   "file_extension": ".py",
   "mimetype": "text/x-python",
   "name": "python",
   "nbconvert_exporter": "python",
   "pygments_lexer": "ipython3",
   "version": "3.10.11"
  }
 },
 "nbformat": 4,
 "nbformat_minor": 5
}
