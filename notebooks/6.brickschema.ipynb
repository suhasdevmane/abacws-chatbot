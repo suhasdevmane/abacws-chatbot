{
 "cells": [
  {
   "cell_type": "code",
   "execution_count": 1,
   "metadata": {},
   "outputs": [
    {
     "data": {
      "text/plain": [
       "<Graph identifier=N94a2f17a4b584258809db163ce26d50f (<class 'brickschema.graph.Graph'>)>"
      ]
     },
     "execution_count": 1,
     "metadata": {},
     "output_type": "execute_result"
    }
   ],
   "source": [
    "import brickschema\n",
    "\n",
    "# creates a new rdflib.Graph with a recent version of the Brick ontology\n",
    "# preloaded.\n",
    "g = brickschema.Graph(load_brick=True)\n",
    "# OR use the absolute latest Brick:\n",
    "# g = brickschema.Graph(load_brick_nightly=True)\n",
    "# OR create from an existing model\n",
    "# g = brickschema.Graph(load_brick=True).from_haystack(...)\n",
    "\n",
    "# load in data files from your file system\n",
    "# g.load_file(\"mbuilding.ttl\")\n",
    "# ...or by URL (using rdflib)\n",
    "g.parse(\"https://brickschema.org/ttl/soda_brick.ttl\", format=\"ttl\")"
   ]
  },
  {
   "cell_type": "code",
   "execution_count": 2,
   "metadata": {},
   "outputs": [
    {
     "name": "stdout",
     "output_type": "stream",
     "text": [
      "Graph is not valid!\n",
      "Validation Report\n",
      "Conforms: False\n",
      "Results (2):\n",
      "Constraint Violation in ClassConstraintComponent (http://www.w3.org/ns/shacl#ClassConstraintComponent):\n",
      "\tSeverity: sh:Violation\n",
      "\tSource Shape: [ sh:class brick:Location ; sh:message Literal(\"A Location's parts should be always Locations.\") ; sh:path brick:isPartOf ]\n",
      "\tFocus Node: soda_hall:room_zone_337A\n",
      "\tValue Node: soda_hall:floor_o\n",
      "\tResult Path: brick:isPartOf\n",
      "\tMessage: A Location's parts should be always Locations.\n",
      "Constraint Violation in ClassConstraintComponent (http://www.w3.org/ns/shacl#ClassConstraintComponent):\n",
      "\tSeverity: sh:Violation\n",
      "\tSource Shape: [ sh:class brick:Location ; sh:message Literal(\"A Location's parts should be always Locations.\") ; sh:path brick:isPartOf ]\n",
      "\tFocus Node: soda_hall:room_R800A\n",
      "\tValue Node: soda_hall:floor_8\n",
      "\tResult Path: brick:isPartOf\n",
      "\tMessage: A Location's parts should be always Locations.\n",
      "\n"
     ]
    }
   ],
   "source": [
    "\n",
    "# perform reasoning on the graph (edits in-place)\n",
    "# g.expand(profile=\"shacl\")\n",
    "\n",
    "# validate your Brick graph against built-in shapes (or add your own)\n",
    "valid, _, resultsText = g.validate()\n",
    "if not valid:\n",
    "    print(\"Graph is not valid!\")\n",
    "    print(resultsText)"
   ]
  },
  {
   "cell_type": "code",
   "execution_count": 7,
   "metadata": {},
   "outputs": [
    {
     "name": "stdout",
     "output_type": "stream",
     "text": [
      "Graph g has 55967 statements.\n"
     ]
    }
   ],
   "source": [
    "# Print the number of \"triples\" in the Graph\n",
    "print(f\"Graph g has {len(g)} statements.\")\n",
    "# Prints: Graph g has 86 statements."
   ]
  },
  {
   "cell_type": "code",
   "execution_count": null,
   "metadata": {},
   "outputs": [],
   "source": [
    "# perform SPARQL queries on the graph\n",
    "res = g.query(\"\"\"SELECT ?afs ?afsp ?vav WHERE  {\n",
    "    ?afs    a       brick:Air_Flow_Sensor .\n",
    "    ?afsp   a       brick:Air_Flow_Setpoint .\n",
    "    ?afs    brick:isPointOf ?vav .\n",
    "    ?afsp   brick:isPointOf ?vav .\n",
    "    ?vav    a   brick:VAV\n",
    "}\"\"\")\n",
    "for row in res:\n",
    "    print(row)\n",
    "\n"
   ]
  },
  {
   "cell_type": "code",
   "execution_count": 6,
   "metadata": {},
   "outputs": [
    {
     "name": "stdout",
     "output_type": "stream",
     "text": [
      " * Serving Flask app 'brickschema.web'\n",
      " * Debug mode: off\n"
     ]
    },
    {
     "name": "stderr",
     "output_type": "stream",
     "text": [
      "2023-09-07:15:32:25,413 INFO    [_internal.py:187] \u001b[31m\u001b[1mWARNING: This is a development server. Do not use it in a production deployment. Use a production WSGI server instead.\u001b[0m\n",
      " * Running on http://localhost:8080\n",
      "2023-09-07:15:32:25,418 INFO    [_internal.py:187] \u001b[33mPress CTRL+C to quit\u001b[0m\n",
      "2023-09-07:15:32:32,442 INFO    [_internal.py:187] 127.0.0.1 - - [07/Sep/2023 15:32:32] \"GET / HTTP/1.1\" 200 -\n",
      "2023-09-07:15:32:33,590 INFO    [_internal.py:187] 127.0.0.1 - - [07/Sep/2023 15:32:33] \"GET /bindings HTTP/1.1\" 200 -\n",
      "2023-09-07:15:50:11,273 INFO    [_internal.py:187] 127.0.0.1 - - [07/Sep/2023 15:50:11] \"POST /query HTTP/1.1\" 200 -\n"
     ]
    },
    {
     "name": "stdout",
     "output_type": "stream",
     "text": [
      "PREFIX xsd: <http://www.w3.org/2001/XMLSchema#>\n",
      "PREFIX xml: <http://www.w3.org/XML/1998/namespace>\n",
      "PREFIX wgs: <https://www.w3.org/2003/01/geo/wgs84_pos#>\n",
      "PREFIX void: <http://rdfs.org/ns/void#>\n",
      "PREFIX vcard: <http://www.w3.org/2006/vcard/ns#>\n",
      "PREFIX vann: <http://purl.org/vocab/vann/>\n",
      "PREFIX unit: <http://qudt.org/vocab/unit/>\n",
      "PREFIX time: <http://www.w3.org/2006/time#>\n",
      "PREFIX tag: <https://brickschema.org/schema/BrickTag#>\n",
      "PREFIX ssn: <http://www.w3.org/ns/ssn/>\n",
      "PREFIX sosa: <http://www.w3.org/ns/sosa/>\n",
      "PREFIX soda_hall: <https://brickschema.org/schema/1.0.2/building_example#>\n",
      "PREFIX skos: <http://www.w3.org/2004/02/skos/core#>\n",
      "PREFIX sh: <http://www.w3.org/ns/shacl#>\n",
      "PREFIX sdo: <http://schema.org/>\n",
      "PREFIX schema: <https://schema.org/>\n",
      "PREFIX s223: <http://data.ashrae.org/standard223#>\n",
      "PREFIX ref: <https://brickschema.org/schema/Brick/ref#>\n",
      "PREFIX qudtqk: <http://qudt.org/vocab/quantitykind/>\n",
      "PREFIX qudt: <http://qudt.org/schema/qudt/>\n",
      "PREFIX qb: <http://purl.org/linked-data/cube#>\n",
      "PREFIX prov: <http://www.w3.org/ns/prov#>\n",
      "PREFIX prof: <http://www.w3.org/ns/dx/prof/>\n",
      "PREFIX owl: <http://www.w3.org/2002/07/owl#>\n",
      "PREFIX org: <http://www.w3.org/ns/org#>\n",
      "PREFIX odrl: <http://www.w3.org/ns/odrl/2/>\n",
      "PREFIX geo: <http://www.opengis.net/ont/geosparql#>\n",
      "PREFIX foaf: <http://xmlns.com/foaf/0.1/>\n",
      "PREFIX doap: <http://usefulinc.com/ns/doap#>\n",
      "PREFIX dcterms: <http://purl.org/dc/terms/>\n",
      "PREFIX dcmitype: <http://purl.org/dc/dcmitype/>\n",
      "PREFIX dcat: <http://www.w3.org/ns/dcat#>\n",
      "PREFIX dcam: <http://purl.org/dc/dcam/>\n",
      "PREFIX dc: <http://purl.org/dc/elements/1.1/>\n",
      "PREFIX csvw: <http://www.w3.org/ns/csvw#>\n",
      "PREFIX btag: <https://brickschema.org/schema/1.0.2/BrickTag#>\n",
      "PREFIX bsh: <https://brickschema.org/schema/BrickShape#>\n",
      "PREFIX brickframe: <https://brickschema.org/schema/1.0.2/BrickFrame#>\n",
      "PREFIX brick_v_1_0_2: <https://brickschema.org/schema/1.0.2/Brick#>\n",
      "PREFIX brick: <https://brickschema.org/schema/Brick#>\n",
      "PREFIX bacnet: <http://data.ashrae.org/bacnet/2020#>\n",
      "PREFIX rdf: <http://www.w3.org/1999/02/22-rdf-syntax-ns#>\n",
      "PREFIX rdfs: <http://www.w3.org/2000/01/rdf-schema#>\n",
      "SELECT ?afs ?afsp ?vav WHERE  {\n",
      "?s ?p ?o\n",
      "} LIMIT 10\n"
     ]
    }
   ],
   "source": [
    "# start a blocking web server with an interface for performing\n",
    "# reasoning + querying functions\n",
    "g.serve(\"localhost:8080\")\n",
    "# now visit in http://localhost:8080"
   ]
  }
 ],
 "metadata": {
  "kernelspec": {
   "display_name": "Python 3 (ipykernel)",
   "language": "python",
   "name": "python3"
  },
  "language_info": {
   "codemirror_mode": {
    "name": "ipython",
    "version": 3
   },
   "file_extension": ".py",
   "mimetype": "text/x-python",
   "name": "python",
   "nbconvert_exporter": "python",
   "pygments_lexer": "ipython3",
   "version": "3.10.11"
  }
 },
 "nbformat": 4,
 "nbformat_minor": 4
}
