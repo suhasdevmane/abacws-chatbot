{
 "cells": [
  {
   "cell_type": "markdown",
   "metadata": {},
   "source": [
    "<span style=\"color:blue;font-family:Georgia\">Level 1: Basic queries(Questions)</span> \\\n",
    "<span style=\"color:blue;font-family:Georgia\">Level 2: Simple Queries with Aggregation (basic maths)</span> \\\n",
    "<span style=\"color:blue;font-family:Georgia\">Level 3: Queries with Multiple Conditions</span> \\\n",
    "<span style=\"color:blue;font-family:Georgia\">Level 4: Queries with Optional Clauses</span> \\\n",
    "<span style=\"color:blue;font-family:Georgia\">Level 5: Complex Queries with Multiple Clauses</span>\n"
   ]
  },
  {
   "cell_type": "markdown",
   "metadata": {},
   "source": [
    "\n",
    "*** \n",
    "---\n",
    "___"
   ]
  },
  {
   "cell_type": "markdown",
   "metadata": {},
   "source": [
    "\n",
    "\n",
    "\n",
    "###  <span style=\"color:blue;font-family:Georgia\">Level 1: Basic Information Retrieval (Basic queries)</span> \n",
    "\n",
    "1. What is the name of the building?\n",
    "2. What is the location of the building?\n",
    "3. What is the total number of floors in the building?\n",
    "4. What is the total number of rooms in the building?\n",
    "5. What is the total number of sensors in the building?\n",
    "6. What is the current temperature in the building?\n",
    "7. Can you provide the current air quality status on the third floor?\n",
    "8. List all the available sensors on the fifth floor.\n",
    "9. What is the highest CO2 level recorded in the building so far?\n",
    "10. What is the current temperature in the building?\n",
    "11. What is the current humidity in the building?\n",
    "12. What is the current CO2 level in the building?\n",
    "13. What is the current HCHO level in the building?\n",
    "14. What is the current VOC level in the building?\n",
    "15. Retrieve all the data from the HCHO sensor.\n",
    "16. Check if the Air Quality sensor is active.\n",
    "17. Retrieve the metadata of the VOC sensor.\n",
    "18. Retrieve the data from the Digital Light sensor and its metadata.\n",
    "19. Retrieve the last 10 data points from the Sunlight sensor.\n",
    "20. What is the current temperature on the third floor?\n",
    "21. List all available sensors in the building.\n",
    "22. Can you provide the latest air quality reading?\n",
    "23. What is the current PM2.5 level in Room 5.12?\n",
    "24. Tell me the current sunlight intensity on the fifth floor.\n",
    "25. What are the gas sensors installed in the building?\n",
    "26. Give me the latest VOC reading in the building.\n",
    "27. List all the rooms on the second floor.\n",
    "28. What is the current humidity level in the lobby?\n",
    "29. Provide the latest oxygen level in Room 5.25.\n",
    "30. Which sensors are present on the fourth floor?\n",
    "31. What is the latest CO2 level in the conference room?\n",
    "32. Tell me about the current temperature in Room 5.15.\n",
    "33. List all the floors with gas sensors.\n",
    "34. Provide the latest humidity reading in the building.\n",
    "35. What is the current sunlight intensity in the cafeteria?\n",
    "36. Give me the latest PM2.5 reading on the first floor.\n",
    "37. List all the available sensors in the basement.\n",
    "38. What is the current air quality status in the gym?\n",
    "39. Can you provide the current temperature in the server room?\n"
   ]
  },
  {
   "cell_type": "markdown",
   "metadata": {},
   "source": [
    "### <span style=\"color:blue;font-family:Georgia\">Level 2: Basic Aggregation(Maths) and Comparison (conditions) </span> \n",
    "\n",
    "1.\tWhat is the average temperature of the building?\n",
    "2.\tWhat is the average humidity of the building?\n",
    "3.\tWhat is the average CO2 level of the building?\n",
    "4.\tWhat is the average VOC level of the building?\n",
    "5.\tWhat is the average PM2.5 level of the building?\n",
    "6.\tWhat is the average temperature in the building over the last hour?\n",
    "7.\tWhat is the maximum humidity in the building over the last day?\n",
    "8.\tWhat is the minimum CO2 level in the building over the last week?\n",
    "9.\tWhat is the maximum HCHO level in the building over the last month?\n",
    "10.\tWhat is the average VOC level in the building over the last year?\n",
    "11.\tCompare the current humidity levels on the second and fourth floors.\n",
    "12.\tList the floors with average VOC levels exceeding a certain threshold.\n",
    "13.\tHow many rooms on the first floor have a PM2.5 level above a certain limit?\n",
    "14.\tFind the timestamp of the latest gas leak detected in the building.\n",
    "15.\tRetrieve the data from the HCHO sensor between 9 AM and 5 PM.\n",
    "16.\tCheck if the Air Quality sensor is active between 9 AM and 5 PM.\n",
    "17.\tRetrieve the metadata of the VOC sensor with the property manufacturer.\n",
    "18.\tRetrieve the data from the Digital Light sensor and its metadata with the property location.\n",
    "19.\tRetrieve the last 10 data points from the Sunlight sensor between 9 AM and 5 PM.\n",
    "20.\tCalculate the average temperature in the building.\n",
    "21.\tFind the total number of gas sensors installed.\n",
    "22.\tCompute the sum of all PM2.5 levels in the building.\n",
    "23.\tWhat is the average VOC level in the conference rooms?\n",
    "24.\tCalculate the total number of rooms on each floor.\n",
    "25.\tFind the average humidity level in the lobby.\n",
    "26.\tCompute the sum of all oxygen levels in the building.\n",
    "27.\tWhat is the average CO2 level on the third floor?\n",
    "28.\tCalculate the total number of floors in the building.\n",
    "29.\tFind the average sunlight intensity on each floor.\n",
    "30.\tCompute the sum of all gas levels in the gym.\n",
    "31.\tWhat is the average PM2.5 level in the cafeteria?\n",
    "32.\tCalculate the total number of sensors on the second floor.\n",
    "33.\tFind the average temperature in the basement.\n",
    "34.\tCompute the sum of all air quality levels in Room 201.\n",
    "35.\tWhat is the average VOC level on the fourth floor?\n",
    "36.\tCalculate the total number of rooms in the building.\n",
    "37.\tFind the average humidity level on the fifth floor.\n",
    "38.\tCompute the sum of all oxygen levels in the lobby.\n",
    "39.\tWhat is the average CO2 level in the server room?\n"
   ]
  },
  {
   "cell_type": "markdown",
   "metadata": {},
   "source": [
    "### <span style=\"color:blue;font-family:Georgia\">Level 3: Advanced Aggregation and Filtering (Multiple Conditions) </span> \n",
    "\n",
    "1.\tWhat is the average temperature of the building on the 5th floor?\n",
    "2.\tWhat is the average humidity of the building on the 5th floor?\n",
    "3.\tWhat is the average CO2 level of the building on the 5th floor?\n",
    "4.\tWhat is the average VOC level of the building on the 5th floor?\n",
    "5.\tWhat is the average PM2.5 level of the building on the 5th floor?\n",
    "6.\tList the floors with the highest average sunlight intensity.\n",
    "7.\tShow me the top three rooms with the lowest oxygen levels.\n",
    "8.\tFind the average CO2 level on each floor during working hours.\n",
    "9.\tIdentify rooms with abnormal levels of multiple gases at the same time.\n",
    "10.\tWhat is the current temperature in the building on the 3rd floor?\n",
    "11.\tWhat is the current humidity in the building in room 101?\n",
    "12.\tWhat is the current CO2 level in the building on the 5th floor?\n",
    "13.\tWhat is the current HCHO level in the building in room 201?\n",
    "14.\tWhat is the current VOC level in the building in room 301?\n",
    "15.\tList the rooms on the second floor with high temperature and low humidity.\n",
    "16.\tFind the rooms with abnormal levels of both CO2 and VOC.\n",
    "17.\tProvide the average PM2.5 level on the third floor during working hours.\n",
    "18.\tList all the rooms with high sunlight intensity and low oxygen levels.\n",
    "19.\tFind the floors with abnormal air quality levels and high CO2 readings.\n",
    "20.\tList the rooms where humidity is high, but the temperature is low.\n",
    "21.\tProvide the average VOC level in the conference rooms during weekdays.\n",
    "22.\tFind the rooms with abnormal PM2.5 levels and low sunlight intensity.\n",
    "23.\tList all the floors with high CO2 levels and low oxygen levels.\n",
    "24.\tFind the rooms with abnormal gas levels and low humidity.\n",
    "25.\tProvide the average temperature on the fourth floor during weekends.\n",
    "26.\tList the rooms with high air quality and high sunlight intensity.\n",
    "27.\tFind the floors with abnormal humidity levels and low VOC readings.\n",
    "28.\tList the rooms where sunlight intensity is high, but the air quality is low.\n",
    "29.\tProvide the average CO2 level in the gym during working hours.\n",
    "30.\tFind the rooms with abnormal oxygen levels and high temperature.\n",
    "31.\tList the floors with high PM2.5 levels and low sunlight intensity.\n",
    "32.\tFind the rooms with abnormal temperatures and low CO2 levels.\n",
    "33.\tProvide the average humidity level in the cafeteria during weekdays.\n",
    "34.\tList the rooms with abnormal gas levels and high air quality.\n"
   ]
  },
  {
   "cell_type": "markdown",
   "metadata": {},
   "source": [
    "### <span style=\"color:blue;font-family:Georgia\">Level 4: Queries with Joins and Optional Clauses </span> \n",
    "\n",
    "1.\tProvide a list of rooms with their respective temperature and humidity readings.\n",
    "2.\tFind the rooms with abnormal CO2 levels and check if there are correlated abnormal PM2.5 levels.\n",
    "3.\tList the rooms where the temperature is higher than the building average.\n",
    "4.\tShow the correlation between sunlight intensity and VOC levels on each floor.\n",
    "5.\tRetrieve the data from the HCHO sensor between 9 AM and 5 PM with the optional property temperature.\n",
    "6.\tCheck if the Air Quality sensor is active between 9 AM and 5 PM with the optional property humidity.\n",
    "7.\tRetrieve the metadata of the VOC sensor with the optional property manufacturer and its value ABC.\n",
    "8.\tRetrieve the data from the Digital Light sensor and its metadata with the optional property location and its value floor 1.\n",
    "9.\tRetrieve the last 10 data points from the Sunlight sensor between 9 AM and 5 PM with the optional property temperature.\n",
    "10.\tWhat is the current temperature in the building on the 2nd floor, if it is above 25 degrees Celsius?\n",
    "11.\tWhat is the current humidity in the building in room 102, if it is below 50%?\n",
    "12.\tWhat is the current CO2 level in the building on the 4th floor, if it is above 1000 ppm?\n",
    "13.\tWhat is the current HCHO level in the building in room 202, if it is above 0.1 ppm?\n",
    "14.\tWhat is the current VOC level in the building in room 302, if it is above 0.5 ppm?\n",
    "15.\tList the rooms with abnormal CO2 levels, and if available, show the correlated PM2.5 levels.\n",
    "16.\tProvide the average temperature on the third floor, and if available, include the humidity readings.\n",
    "17.\tFind the rooms with abnormal gas levels, and if available, display the air quality status.\n",
    "18.\tList the floors with high VOC levels, and if available, show the correlated sunlight intensity.\n",
    "19.\tFind the rooms with abnormal humidity levels, and if available, include the temperature readings.\n",
    "20.\tList the floors with abnormal PM2.5 levels, and if available, show the correlated gas levels.\n",
    "21.\tProvide the average CO2 level in the lobby, and if available, include the oxygen readings.\n",
    "22.\tFind the rooms with abnormal sunlight intensity, and if available, display the air quality status.\n",
    "23.\tList the floors with high temperatures, and if available, show the correlated humidity levels.\n",
    "24.\tProvide the average VOC level in Room 201, and if available, include the sunlight intensity.\n",
    "25.\tFind the rooms with abnormal air quality, and if available, display the correlated gas levels.\n",
    "26.\tList the floors with abnormal oxygen levels, and if available, show the correlated CO2 readings.\n",
    "27.\tFind the rooms with abnormal PM2.5 levels, and if available, include the sunlight intensity.\n",
    "28.\tList the floors with high humidity, and if available, show the correlated temperature.\n",
    "29.\tProvide the average CO2 level in the conference rooms, and if available, include the VOC readings.\n",
    "30.\tFind the rooms with abnormal sunlight intensity, and if available, display the correlated air quality.\n",
    "31.\tList the floors with high gas levels, and if available, show the correlated oxygen readings.\n",
    "32.\tProvide the average VOC level in the gym, and if available, include the humidity readings.\n",
    "33.\tFind the rooms with abnormal oxygen levels, and if available, show the correlated CO2 levels.\n",
    "34.\tList the floors with abnormal temperature, and if available, include the correlated PM2.5 levels.\n"
   ]
  },
  {
   "cell_type": "markdown",
   "metadata": {},
   "source": [
    "### <span style=\"color:blue;font-family:Georgia\">Level 5: Advanced Analysis and Predictive Queries (Complex Queries with Multiple Clauses) </span> \n",
    "\n",
    "1.\tAnalyse the correlation between PM2.5 levels and external weather conditions.\n",
    "2.\tPredict potential issues with temperature regulation in specific rooms based on historical data.\n",
    "3.\tExplore the impact of external factors on VOC levels and provide insights.\n",
    "4.\tAnalyse historical data to predict potential issues with air quality in specific areas.\n",
    "5.\tProvide recommendations for optimizing lighting based on historical sunlight intensity data.\n",
    "6.\tPredict the potential gas leak risks based on historical data and current sensor readings.\n",
    "7.\tAnalyse the correlation between gas levels and external weather conditions.\n",
    "8.\tPredict the future CO2 levels in the building based on the current trend.\n",
    "9.\tProvide recommendations for optimizing energy consumption based on sensor data.\n",
    "10.\tRetrieve the data from the HCHO sensor between 9 AM and 5 PM with a filter on the property temperature greater than 25°C.\n",
    "11.\tWhat is the average temperature in the building over the last hour, if the CO2 level is above 1000 ppm?\n",
    "12.\tWhat is the maximum humidity in the building over the last day, if the HCHO level is below 0.1 ppm?\n",
    "13.\tWhat is the minimum CO2 level in the building over the last week, if the VOC level is above 0.5 ppm?\n",
    "14.\tWhat is the maximum HCHO level in the building over the last month, if the temperature is above 25 degrees Celsius?\n",
    "15.\tWhat is the average VOC level in the building over the last year, if the humidity is below 50%?\n",
    "16.\tAnalyse the correlation between gas levels and external weather conditions over time.\n",
    "17.\tPredict future CO2 levels in the building based on historical data and current trend analysis.\n",
    "18.\tProvide recommendations for optimizing energy consumption based on sensor data and historical patterns.\n",
    "19.\tIdentify rooms with abnormal levels of multiple gases at the same time and analyse patterns.\n",
    "20.\tExplore the correlation between sunlight intensity, VOC levels, and air quality on each floor.\n",
    "21.\tPerform a trend analysis on temperature and humidity data to predict future conditions.\n",
    "22.\tAnalyse historical PM2.5 levels and identify potential causes for abnormal readings.\n",
    "23.\tPredict potential gas leak risks in specific rooms based on historical and current data.\n",
    "24.\tAnalyse the impact of external factors on oxygen levels and provide insights.\n",
    "25.\tPredict future trends in air quality based on historical data and current sensor readings.\n",
    "26.\tProvide recommendations for optimizing ventilation based on real-time CO2 levels and historical patterns.\n",
    "27.\tIdentify rooms with abnormal levels of multiple gases and analyse correlations over time.\n",
    "28.\tExplore the impact of sunlight intensity on gas levels and recommend adjustments.\n",
    "29.\tPerform a predictive analysis of humidity levels based on historical data and current conditions.\n",
    "30. what is the average temperature of the building on the 5th floor during the last week?\n",
    "31.\tWhat is the minimum humidity of the building on the 5th floor during the last week?\n",
    "32.\tWhat is the average CO2 level of the building on the 5th floor during the last week?\n",
    "33.\tWhat is the maximum VOC level of the building on the 5th floor during the last week?\n",
    "34.\tWhat is the average PM2.5 level of the building on the 5th floor during the last week?\n"
   ]
  },
  {
   "cell_type": "markdown",
   "metadata": {},
   "source": [
    "\n",
    "# Level 1: Basic queries"
   ]
  },
  {
   "cell_type": "markdown",
   "metadata": {},
   "source": [
    "\n",
    "1. Retrieve all the data from the HCHO sensor:"
   ]
  },
  {
   "cell_type": "code",
   "execution_count": null,
   "metadata": {},
   "outputs": [],
   "source": [
    "SELECT ?data\n",
    "WHERE {\n",
    "  ?sensor rdf:type brick:Air_Quality_Sensor .\n",
    "  ?sensor brick:hasPart ?data .\n",
    "  ?data rdf:type brick:HCHO_Sensor_Data .\n",
    "}"
   ]
  },
  {
   "cell_type": "markdown",
   "metadata": {},
   "source": [
    "2. Check if the Air Quality sensor is active:"
   ]
  },
  {
   "cell_type": "code",
   "execution_count": null,
   "metadata": {},
   "outputs": [],
   "source": [
    "ASK WHERE {\n",
    "  ?sensor rdf:type brick:Air_Quality_Sensor .\n",
    "  ?sensor brick:status \"active\" .\n",
    "}"
   ]
  },
  {
   "cell_type": "markdown",
   "metadata": {},
   "source": [
    "3. Retrieve the metadata of the VOC sensor:"
   ]
  },
  {
   "cell_type": "code",
   "execution_count": null,
   "metadata": {},
   "outputs": [],
   "source": [
    "DESCRIBE ?sensor\n",
    "WHERE {\n",
    "  ?sensor rdf:type brick:Air_Quality_Sensor .\n",
    "  ?sensor brick:hasPart ?metadata .\n",
    "  ?metadata rdf:type brick:VOC_Sensor_Metadata .\n",
    "}"
   ]
  },
  {
   "cell_type": "markdown",
   "metadata": {},
   "source": [
    "4. Retrieve the data from the Digital Light sensor and its metadata:"
   ]
  },
  {
   "cell_type": "code",
   "execution_count": null,
   "metadata": {},
   "outputs": [],
   "source": [
    "CONSTRUCT {\n",
    "  ?sensor brick:hasPart ?data .\n",
    "  ?sensor brick:hasPart ?metadata .\n",
    "}\n",
    "WHERE {\n",
    "  ?sensor rdf:type brick:Light_Sensor .\n",
    "  ?sensor brick:hasPart ?data .\n",
    "  ?data rdf:type brick:Digital_Light_Sensor_Data .\n",
    "  ?sensor brick:hasPart ?metadata .\n",
    "  ?metadata rdf:type brick:Light_Sensor_Metadata .\n",
    "}"
   ]
  },
  {
   "cell_type": "markdown",
   "metadata": {},
   "source": [
    "5. Retrieve the last 10 data points from the Sunlight sensor:"
   ]
  },
  {
   "cell_type": "code",
   "execution_count": null,
   "metadata": {},
   "outputs": [],
   "source": [
    "SELECT ?data\n",
    "WHERE {\n",
    "  ?sensor rdf:type brick:Light_Sensor .\n",
    "  ?sensor brick:hasPart ?data .\n",
    "  ?data rdf:type brick:Sunlight_Sensor_Data .\n",
    "}\n",
    "ORDER BY DESC(?timestamp)\n",
    "LIMIT 10"
   ]
  },
  {
   "cell_type": "markdown",
   "metadata": {},
   "source": [
    "# Level 2: Queries with conditions"
   ]
  },
  {
   "cell_type": "markdown",
   "metadata": {},
   "source": [
    "1. Retrieve the data from the HCHO sensor between 9 AM and 5 PM:\n",
    "\n"
   ]
  },
  {
   "cell_type": "code",
   "execution_count": null,
   "metadata": {},
   "outputs": [],
   "source": [
    "SELECT ?data\n",
    "WHERE {\n",
    "  ?sensor rdf:type brick:Air_Quality_Sensor .\n",
    "  ?sensor brick:hasPart ?data .\n",
    "  ?data rdf:type brick:HCHO_Sensor_Data .\n",
    "  ?data brick:timestamp ?timestamp .\n",
    "  FILTER(?timestamp >= \"2024-01-19T09:00:00Z\"^^xsd:dateTime && ?timestamp <= \"2024-01-19T17:00:00Z\"^^xsd:dateTime)\n",
    "}"
   ]
  },
  {
   "cell_type": "markdown",
   "metadata": {},
   "source": [
    "2. Check if the Air Quality sensor is active between 9 AM and 5 PM:"
   ]
  },
  {
   "cell_type": "code",
   "execution_count": null,
   "metadata": {},
   "outputs": [],
   "source": [
    "\n",
    "ASK WHERE {\n",
    "  ?sensor rdf:type brick:Air_Quality_Sensor .\n",
    "  ?sensor brick:status \"active\" .\n",
    "  ?sensor brick:hasPart ?data .\n",
    "  ?data rdf:type brick:Air_Quality_Sensor_Data .\n",
    "  ?data brick:timestamp ?timestamp .\n",
    "  FILTER(?timestamp >= \"2024-01-19T09:00:00Z\"^^xsd:dateTime && ?timestamp <= \"2024-01-19T17:00:00Z\"^^xsd:dateTime)\n",
    "}"
   ]
  },
  {
   "cell_type": "markdown",
   "metadata": {},
   "source": [
    "3. Retrieve the metadata of the VOC sensor with the property \"manufacturer\":"
   ]
  },
  {
   "cell_type": "code",
   "execution_count": null,
   "metadata": {},
   "outputs": [],
   "source": [
    "\n",
    "DESCRIBE ?metadata\n",
    "WHERE {\n",
    "  ?sensor rdf:type brick:Air_Quality_Sensor .\n",
    "  ?sensor brick:hasPart ?metadata .\n",
    "  ?metadata rdf:type brick:VOC_Sensor_Metadata .\n",
    "  ?metadata brick:manufacturer \"ABC\" .\n",
    "}"
   ]
  },
  {
   "cell_type": "markdown",
   "metadata": {},
   "source": [
    "4. Retrieve the data from the Digital Light sensor and its metadata with the property \"location\":"
   ]
  },
  {
   "cell_type": "code",
   "execution_count": null,
   "metadata": {},
   "outputs": [],
   "source": [
    "CONSTRUCT {\n",
    "  ?sensor brick:hasPart ?data .\n",
    "  ?sensor brick:hasPart ?metadata .\n",
    "}\n",
    "WHERE {\n",
    "  ?sensor rdf:type brick:Light_Sensor .\n",
    "  ?sensor brick:hasPart ?data .\n",
    "  ?data rdf:type brick:Digital_Light_Sensor_Data .\n",
    "  ?sensor brick:hasPart ?metadata .\n",
    "  ?metadata rdf:type brick:Light_Sensor_Metadata .\n",
    "  ?metadata brick:location \"floor 1\" .\n",
    "}"
   ]
  },
  {
   "cell_type": "markdown",
   "metadata": {},
   "source": [
    "5. Retrieve the last 10 data points from the Sunlight sensor between 9 AM and 5 PM:"
   ]
  },
  {
   "cell_type": "code",
   "execution_count": null,
   "metadata": {},
   "outputs": [],
   "source": [
    "SELECT ?data\n",
    "WHERE {\n",
    "  ?sensor rdf:type brick:Light_Sensor .\n",
    "  ?sensor brick:hasPart ?data .\n",
    "  ?data rdf:type brick:Sunlight_Sensor_Data .\n",
    "  ?data brick:timestamp ?timestamp .\n",
    "  FILTER(?timestamp >= \"2024-01-19T09:00:00Z\"^^xsd:dateTime && ?timestamp <= \"2024-01-19T17:00:00Z\"^^xsd:dateTime)\n",
    "}\n",
    "ORDER BY DESC(?timestamp)\n",
    "LIMIT 10"
   ]
  },
  {
   "cell_type": "markdown",
   "metadata": {},
   "source": [
    "# Level 3: Queries with optional clauses"
   ]
  },
  {
   "cell_type": "markdown",
   "metadata": {},
   "source": [
    "\n",
    "\n",
    "1. Retrieve the data from the HCHO sensor between 9 AM and 5 PM with the optional property \"temperature\":"
   ]
  },
  {
   "cell_type": "code",
   "execution_count": null,
   "metadata": {},
   "outputs": [],
   "source": [
    "SELECT ?data\n",
    "WHERE {\n",
    "  ?sensor rdf:type brick:Air_Quality_Sensor .\n",
    "  ?sensor brick:hasPart ?data .\n",
    "  ?data rdf:type brick:HCHO_Sensor_Data .\n",
    "  ?data brick:timestamp ?timestamp .\n",
    "  OPTIONAL { ?data brick:temperature ?temperature }\n",
    "  FILTER(?timestamp >= \"2024-01-19T09:00:00Z\"^^xsd:dateTime && ?timestamp <= \"2024-01-19T17:00:00Z\"^^xsd:dateTime)\n",
    "}\n",
    "\n"
   ]
  },
  {
   "cell_type": "markdown",
   "metadata": {},
   "source": [
    "2. Check if the Air Quality sensor is active between 9 AM and 5 PM with the optional property “humidity”:"
   ]
  },
  {
   "cell_type": "code",
   "execution_count": null,
   "metadata": {},
   "outputs": [],
   "source": [
    "ASK WHERE {\n",
    "  ?sensor rdf:type brick:Air_Quality_Sensor .\n",
    "  ?sensor brick:status \"active\" .\n",
    "  ?sensor brick:hasPart ?data .\n",
    "  ?data rdf:type brick:Air_Quality_Sensor_Data .\n",
    "  ?data brick:timestamp ?timestamp .\n",
    "  OPTIONAL { ?data brick:humidity ?humidity }\n",
    "  FILTER(?timestamp >= \"2024-01-19T09:00:00Z\"^^xsd:dateTime && ?timestamp <= \"2024-01-19T17:00:00Z\"^^xsd:dateTime)\n",
    "}\n"
   ]
  },
  {
   "cell_type": "markdown",
   "metadata": {},
   "source": [
    "3. Retrieve the metadata of the VOC sensor with the optional property “manufacturer” and its value “ABC”:"
   ]
  },
  {
   "cell_type": "code",
   "execution_count": null,
   "metadata": {},
   "outputs": [],
   "source": [
    "DESCRIBE ?metadata\n",
    "WHERE {\n",
    "  ?sensor rdf:type brick:Air_Quality_Sensor .\n",
    "  ?sensor brick:hasPart ?metadata .\n",
    "  ?metadata rdf:type brick:VOC_Sensor_Metadata .\n",
    "  OPTIONAL { ?metadata brick:manufacturer \"ABC\" }\n",
    "}\n"
   ]
  },
  {
   "cell_type": "markdown",
   "metadata": {},
   "source": [
    "4. Retrieve the data from the Digital Light sensor and its metadata with the optional property “location” and its value “floor 1”:"
   ]
  },
  {
   "cell_type": "code",
   "execution_count": null,
   "metadata": {},
   "outputs": [],
   "source": [
    "CONSTRUCT {\n",
    "  ?sensor brick:hasPart ?data .\n",
    "  ?sensor brick:hasPart ?metadata .\n",
    "}\n",
    "WHERE {\n",
    "  ?sensor rdf:type brick:Light_Sensor .\n",
    "  ?sensor brick:hasPart ?data .\n",
    "  ?data rdf:type brick:Digital_Light_Sensor_Data .\n",
    "  ?sensor brick:hasPart ?metadata .\n",
    "  ?metadata rdf:type brick:Light_Sensor_Metadata .\n",
    "  OPTIONAL { ?metadata brick:location \"floor 1\" }\n",
    "}\n"
   ]
  },
  {
   "cell_type": "markdown",
   "metadata": {},
   "source": [
    "5. Retrieve the last 10 data points from the Sunlight sensor between 9 AM and 5 PM with the optional property “temperature”:"
   ]
  },
  {
   "cell_type": "code",
   "execution_count": null,
   "metadata": {},
   "outputs": [],
   "source": [
    "SELECT ?data\n",
    "WHERE {\n",
    "  ?sensor rdf:type brick:Light_Sensor .\n",
    "  ?sensor brick:hasPart ?data .\n",
    "  ?data rdf:type brick:Sunlight_Sensor_Data .\n",
    "  ?data brick:timestamp ?timestamp .\n",
    "  OPTIONAL { ?data brick:temperature ?temperature }\n",
    "  FILTER(?timestamp >= \"2024-01-19T09:00:00Z\"^^xsd:dateTime && ?timestamp <= \"2024-01-19T17:00:00Z\"^^xsd:dateTime)\n",
    "}\n",
    "ORDER BY DESC(?timestamp)\n",
    "LIMIT 10\n"
   ]
  },
  {
   "cell_type": "markdown",
   "metadata": {},
   "source": [
    "# Level 4: Queries with filter clauses"
   ]
  },
  {
   "cell_type": "markdown",
   "metadata": {},
   "source": [
    "1. Retrieve the data from the HCHO sensor between 9 AM and 5 PM with a filter on the property “temperature” greater than 25°C:"
   ]
  },
  {
   "cell_type": "code",
   "execution_count": null,
   "metadata": {},
   "outputs": [],
   "source": [
    "SELECT ?data\n",
    "WHERE {\n",
    "  ?sensor rdf:type brick:Air_Quality_Sensor .\n",
    "  ?sensor brick:hasPart ?data .\n",
    "  ?data rdf:type brick:HCHO_Sensor_Data .\n",
    "  ?data brick:timestamp ?timestamp .\n",
    "  ?data brick:temperature ?temperature .\n",
    "  FILTER(?timestamp >= \"2024-01-19T09:00:00Z\"^^xsd:dateTime && ?timestamp <= \"2024-01-19T17:00:00Z\"^^xsd:dateTime && ?temperature > 25)\n",
    "}\n"
   ]
  },
  {
   "cell_type": "markdown",
   "metadata": {},
   "source": [
    "2. Check if the Air Quality sensor is active between 9 AM and 5 PM with a filter on the property “humidity” less than 50%"
   ]
  },
  {
   "cell_type": "code",
   "execution_count": null,
   "metadata": {},
   "outputs": [],
   "source": [
    "ASK WHERE {\n",
    "  ?sensor rdf:type brick:Air_Quality_Sensor .\n",
    "  ?sensor brick:status \"active\" .\n",
    "  ?sensor brick:hasPart ?data .\n",
    "  ?data rdf:type brick:Air_Quality_Sensor_Data .\n",
    "  ?data brick:timestamp ?timestamp .\n",
    "  ?data brick:humidity ?humidity .\n",
    "  FILTER(?timestamp >= \"2024-01-19T09:00:00Z\"^^xsd:dateTime && ?timestamp <= \"2024-01-19T17:00:00Z\"^^xsd:dateTime && ?humidity < 50)\n",
    "}\n"
   ]
  },
  {
   "cell_type": "markdown",
   "metadata": {},
   "source": [
    "3. Retrieve the metadata of the VOC sensor with the filter on the property “manufacturer” and its value “ABC”:"
   ]
  },
  {
   "cell_type": "code",
   "execution_count": null,
   "metadata": {},
   "outputs": [],
   "source": [
    "DESCRIBE ?metadata\n",
    "WHERE {\n",
    "  ?sensor rdf:type brick:Air_Quality_Sensor .\n",
    "  ?sensor brick:hasPart ?metadata .\n",
    "  ?metadata rdf:type brick:VOC_Sensor_Metadata .\n",
    "  FILTER(?metadata brick:manufacturer = \"ABC\")\n",
    "}\n"
   ]
  },
  {
   "cell_type": "markdown",
   "metadata": {},
   "source": [
    "4. Retrieve the data from the Digital Light sensor and its metadata with the filter on the property “location” and its value “floor 5”:"
   ]
  },
  {
   "cell_type": "code",
   "execution_count": null,
   "metadata": {},
   "outputs": [],
   "source": [
    "CONSTRUCT {\n",
    "  ?sensor brick:hasPart ?data .\n",
    "  ?sensor brick:hasPart ?metadata .\n",
    "}\n",
    "WHERE {\n",
    "  ?sensor rdf:type brick:Light_Sensor .\n",
    "  ?sensor brick:hasPart ?data .\n",
    "  ?data rdf:type brick:Digital_Light_Sensor_Data .\n",
    "  ?sensor brick:hasPart ?metadata .\n",
    "  ?metadata rdf:type brick:Light_Sensor_Metadata .\n",
    "  FILTER(?metadata brick:location = \"floor 1\")\n",
    "}\n"
   ]
  },
  {
   "cell_type": "markdown",
   "metadata": {},
   "source": [
    "5. Retrieve the last 10 data points from the Sunlight sensor between 9 AM and 5 PM with the filter on the property “temperature” greater than 25°C:"
   ]
  },
  {
   "cell_type": "code",
   "execution_count": null,
   "metadata": {},
   "outputs": [],
   "source": [
    "SELECT ?data\n",
    "WHERE {\n",
    "  ?sensor rdf:type brick:Light_Sensor .\n",
    "  ?sensor brick:hasPart ?data .\n",
    "  ?data rdf:type brick:Sunlight_Sensor_Data .\n",
    "  ?data brick:timestamp ?timestamp .\n",
    "  ?data brick:temperature ?temperature .\n",
    "  FILTER(?timestamp >= \"2024-01-19T09:00:00Z\"^^xsd:dateTime && ?timestamp <= \"2024-01-19T17:00:00Z\"^^xsd:dateTime && ?temperature > 25)\n",
    "}\n",
    "ORDER BY DESC(?timestamp)\n",
    "LIMIT 10\n"
   ]
  },
  {
   "cell_type": "markdown",
   "metadata": {},
   "source": [
    "# Level 5: Queries with aggregate functions"
   ]
  },
  {
   "cell_type": "markdown",
   "metadata": {},
   "source": [
    "1. Retrieve the average value of the HCHO sensor between 9 AM and 5 PM:"
   ]
  },
  {
   "cell_type": "markdown",
   "metadata": {},
   "source": [
    "SELECT AVG(?value) AS ?average_value\n",
    "WHERE {\n",
    "  ?sensor rdf:type brick:Air_Quality_Sensor .\n",
    "  ?sensor brick:hasPart ?data .\n",
    "  ?data rdf:type brick:HCHO_Sensor_Data .\n",
    "  ?data brick:timestamp ?timestamp .\n",
    "  ?data brick:value ?value .\n",
    "  FILTER(?timestamp >= \"2024-01-19T09:00:00Z\"^^xsd:dateTime && ?timestamp <= \"2024-01-19T17:00:00Z\"^^xsd:dateTime)\n",
    "}\n"
   ]
  },
  {
   "cell_type": "markdown",
   "metadata": {},
   "source": [
    "2. Check if the average value of the Air Quality sensor between 9 AM and 5 PM is within a specific range:"
   ]
  },
  {
   "cell_type": "code",
   "execution_count": null,
   "metadata": {},
   "outputs": [],
   "source": [
    "ASK WHERE {\n",
    "  SELECT (AVG(?value) AS ?average_value)\n",
    "  WHERE {\n",
    "    ?sensor rdf:type brick:Air_Quality_Sensor .\n",
    "    ?sensor brick:hasPart ?data .\n",
    "    ?data rdf:type brick:Air_Quality_Sensor_Data .\n",
    "    ?data brick:timestamp ?timestamp .\n",
    "    ?data brick:value ?value .\n",
    "    FILTER(?timestamp >= \"2024-01-19T09:00:00Z\"^^xsd:dateTime && ?timestamp <= \"2024-01-19T17:00:00Z\"^^xsd:dateTime)\n",
    "  }"
   ]
  },
  {
   "cell_type": "markdown",
   "metadata": {},
   "source": [
    "3. Predict potential gas leak risks based on historical data and current sensor readings:"
   ]
  },
  {
   "cell_type": "code",
   "execution_count": null,
   "metadata": {},
   "outputs": [],
   "source": [
    "PREFIX : <my-ontology-namespace>\n",
    "\n",
    "SELECT ?room ?gasLevelAvg\n",
    "WHERE {\n",
    "  ?room a :Room ;\n",
    "        :hasSensor ?gasSensor .\n",
    "  ?gasSensor a :GasSensor ;\n",
    "              :hasReading ?reading .\n",
    "  ?reading a :GasReading ;\n",
    "           :gasLevel ?gasLevel .\n",
    "  \n",
    "  {\n",
    "    SELECT ?room (AVG(?gasLevel) AS ?gasLevelAvg)\n",
    "    WHERE {\n",
    "      ?room a :Room ;\n",
    "            :hasSensor ?gasSensor .\n",
    "      ?gasSensor a :GasSensor ;\n",
    "                  :hasReading ?reading .\n",
    "      ?reading a :GasReading ;\n",
    "               :gasLevel ?gasLevel .\n",
    "    }\n",
    "    GROUP BY ?room\n",
    "  }\n",
    "  FILTER (?gasLevelAvg > thresholdValue)\n",
    "}\n"
   ]
  },
  {
   "cell_type": "markdown",
   "metadata": {},
   "source": [
    "4. Analyze the correlation between gas levels and external weather conditions over time"
   ]
  },
  {
   "cell_type": "code",
   "execution_count": null,
   "metadata": {},
   "outputs": [],
   "source": [
    "PREFIX : <my-ontology-namespace>\n",
    "\n",
    "SELECT ?timestamp ?gasLevelAvg ?weatherCondition\n",
    "WHERE {\n",
    "  ?building a :Building ;\n",
    "            :hasSensor ?gasSensor, ?weatherSensor .\n",
    "  ?gasSensor a :GasSensor ;\n",
    "             :hasReading ?gasReading .\n",
    "  ?gasReading a :GasReading ;\n",
    "              :gasLevel ?gasLevel ;\n",
    "              :timestamp ?timestamp .\n",
    "  ?weatherSensor a :WeatherSensor ;\n",
    "                 :hasReading ?weatherReading .\n",
    "  ?weatherReading a :WeatherReading ;\n",
    "                  :condition ?weatherCondition ;\n",
    "                  :timestamp ?timestamp .\n",
    "  \n",
    "  {\n",
    "    SELECT ?timestamp (AVG(?gasLevel) AS ?gasLevelAvg)\n",
    "    WHERE {\n",
    "      ?building a :Building ;\n",
    "                :hasSensor ?gasSensor .\n",
    "      ?gasSensor a :GasSensor ;\n",
    "                 :hasReading ?gasReading .\n",
    "      ?gasReading a :GasReading ;\n",
    "                  :gasLevel ?gasLevel ;\n",
    "                  :timestamp ?timestamp .\n",
    "    }\n",
    "    GROUP BY ?timestamp\n",
    "  }\n",
    "}\n"
   ]
  },
  {
   "cell_type": "markdown",
   "metadata": {},
   "source": [
    "5. Predict future CO2 levels in the building based on historical data and current trend analysis:"
   ]
  },
  {
   "cell_type": "code",
   "execution_count": null,
   "metadata": {},
   "outputs": [],
   "source": [
    "PREFIX : <my-ontology-namespace>\n",
    "\n",
    "SELECT ?timestamp ?co2LevelAvg\n",
    "WHERE {\n",
    "  ?building a :Building ;\n",
    "            :hasSensor ?co2Sensor .\n",
    "  ?co2Sensor a :CO2Sensor ;\n",
    "             :hasReading ?co2Reading .\n",
    "  ?co2Reading a :CO2Reading ;\n",
    "               :co2Level ?co2Level ;\n",
    "               :timestamp ?timestamp .\n",
    "\n",
    "  {\n",
    "    SELECT ?timestamp (AVG(?co2Level) AS ?co2LevelAvg)\n",
    "    WHERE {\n",
    "      ?building a :Building ;\n",
    "                :hasSensor ?co2Sensor .\n",
    "      ?co2Sensor a :CO2Sensor ;\n",
    "                 :hasReading ?co2Reading .\n",
    "      ?co2Reading a :CO2Reading ;\n",
    "                   :co2Level ?co2Level ;\n",
    "                   :timestamp ?timestamp .\n",
    "    }\n",
    "    GROUP BY ?timestamp\n",
    "  }\n",
    "}\n",
    "ORDER BY ?timestamp\n"
   ]
  },
  {
   "cell_type": "markdown",
   "metadata": {},
   "source": [
    "6. Provide recommendations for optimizing energy consumption based on sensor data and historical patterns:"
   ]
  },
  {
   "cell_type": "code",
   "execution_count": null,
   "metadata": {},
   "outputs": [],
   "source": [
    "PREFIX : <my-ontology-namespace>\n",
    "\n",
    "SELECT ?room ?energyConsumptionAvg\n",
    "WHERE {\n",
    "  ?room a :Room ;\n",
    "        :hasSensor ?energySensor .\n",
    "  ?energySensor a :EnergySensor ;\n",
    "                :hasReading ?energyReading .\n",
    "  ?energyReading a :EnergyReading ;\n",
    "                 :consumption ?energyConsumption .\n",
    "\n",
    "  {\n",
    "    SELECT ?room (AVG(?energyConsumption) AS ?energyConsumptionAvg)\n",
    "    WHERE {\n",
    "      ?room a :Room ;\n",
    "            :hasSensor ?energySensor .\n",
    "      ?energySensor a :EnergySensor ;\n",
    "                    :hasReading ?energyReading .\n",
    "      ?energyReading a :EnergyReading ;\n",
    "                     :consumption ?energyConsumption .\n",
    "    }\n",
    "    GROUP BY ?room\n",
    "  }\n",
    "  ORDER BY DESC(?energyConsumptionAvg)\n",
    "}\n"
   ]
  },
  {
   "cell_type": "markdown",
   "metadata": {},
   "source": [
    "7. Identify rooms with abnormal levels of multiple gases at the same time and analyze patterns:"
   ]
  },
  {
   "cell_type": "markdown",
   "metadata": {},
   "source": [
    "PREFIX : <my-ontology-namespace>\n",
    "\n",
    "SELECT ?room ?gasType ?gasLevel\n",
    "WHERE {\n",
    "  ?room a :Room ;\n",
    "        :hasSensor ?gasSensor .\n",
    "  ?gasSensor a :GasSensor ;\n",
    "             :hasReading ?gasReading .\n",
    "  ?gasReading a :GasReading ;\n",
    "              :gasLevel ?gasLevel ;\n",
    "              :timestamp ?timestamp .\n",
    "  \n",
    "  {\n",
    "    SELECT ?room ?gasType ?gasLevel\n",
    "    WHERE {\n",
    "      ?room a :Room ;\n",
    "            :hasSensor ?gasSensor .\n",
    "      ?gasSensor a :GasSensor ;\n",
    "                 :hasReading ?gasReading .\n",
    "      ?gasReading a :GasReading ;\n",
    "                  :gasLevel ?gasLevel ;\n",
    "                  :timestamp ?timestamp .\n",
    "    }\n",
    "    GROUP BY ?room ?gasType ?gasLevel\n",
    "    HAVING (COUNT(?gasType) > 1)\n",
    "  }\n",
    "}\n",
    "ORDER BY ?room ?timestamp\n"
   ]
  },
  {
   "cell_type": "markdown",
   "metadata": {},
   "source": [
    "# Stakeholders\n",
    "\n",
    "## Owners and Investors:\n",
    "\n",
    "1. How can we optimize our investment strategy for the upcoming building project?\n",
    "2. What is the expected return on investment for this particular construction project?\n",
    "3. Are there any financial risks associated with the development of this building?\n",
    "4. Can we explore sustainable building options while staying within our budget constraints?\n",
    "5. What financial incentives or tax benefits are available for investing in green building projects?\n",
    "\n",
    "## Developers:\n",
    "\n",
    "6. How do we ensure the seamless coordination of design, construction, and financing activities?\n",
    "7. What is the timeline for the completion of the building project, and are we on schedule?\n",
    "8. What strategies can we implement to attract potential tenants or buyers to the building?\n",
    "9. How can we address unforeseen challenges during the development process?\n",
    "10. What innovative technologies can be integrated into the building to enhance its market appeal?\n",
    "\n",
    "## Architects and Designers:\n",
    "\n",
    "11. Can you create a design that maximizes natural light while minimizing energy consumption?\n",
    "12. What materials and design elements will contribute to the building's aesthetic appeal?\n",
    "13. How can we incorporate sustainable and eco-friendly design principles into the project?\n",
    "14. What measures are in place to ensure the building design complies with safety regulations?\n",
    "15. Can you provide design options that prioritize accessibility for all occupants?\n",
    "\n",
    "## Contractors and Construction Teams:\n",
    "\n",
    "16. How will you ensure the safety of construction workers during the building process?\n",
    "17. What strategies are in place to manage and minimize construction-related disruptions to the community?\n",
    "18. Can you provide a detailed construction schedule with milestones and deadlines?\n",
    "19. How do you plan to handle unexpected delays or challenges during construction?\n",
    "20. What measures will be taken to ensure the quality and durability of the building materials used?\n",
    "\n",
    "## Facility Managers:\n",
    "\n",
    "21. What are the key considerations for daily maintenance and operations of the building?\n",
    "22. How do you plan to address routine maintenance without disrupting building occupants?\n",
    "23. Can you implement energy-efficient systems to reduce operational costs over time?\n",
    "24. What strategies are in place to ensure a safe and comfortable environment for building occupants?\n",
    "25. How will you handle emergency response and evacuation procedures in the building?\n",
    "\n",
    "## Building Occupants:\n",
    "\n",
    "26. What amenities and services will be available for building occupants?\n",
    "27. How can we provide feedback on building conditions and suggest improvements?\n",
    "28. Are there any upcoming changes or renovations that will affect our daily activities in the building?\n",
    "29. What measures are in place to promote a healthy and productive work environment?\n",
    "30. Can we access real-time information on building conditions and occupancy levels?\n",
    "\n",
    "## Government and Regulatory Authorities:\n",
    "\n",
    "31. What are the specific building codes and regulations that apply to this construction project?\n",
    "32. How will you ensure that the building project complies with safety and environmental standards?\n",
    "33. Can you provide details on the permit approval process for this building development?\n",
    "34. What measures are in place to address any potential environmental impact of the construction?\n",
    "35. How often will inspections be conducted during the various phases of construction?\n",
    "\n",
    "## Environmental Consultants:\n",
    "\n",
    "36. What recommendations do you have for enhancing the building's energy efficiency?\n",
    "37. Can you assess the environmental impact of the building's design and construction materials?\n",
    "38. What certifications or green building standards can be applied to this project?\n",
    "39. How can we incorporate sustainable landscaping practices around the building?\n",
    "40. What technologies can be integrated to monitor and reduce the building's carbon footprint?\n",
    "\n",
    "## Utilities and Service Providers:\n",
    "\n",
    "41. What is the process for connecting the building to essential services such as water and electricity?\n",
    "42. How do you ensure reliable and uninterrupted service delivery to the building?\n",
    "43. Can we explore renewable energy options to power the building?\n",
    "44. What measures are in place to address potential service disruptions during maintenance?\n",
    "45. What technologies can be implemented to optimize resource consumption within the building?\n",
    "\n",
    "## Community and Neighborhood Representatives:\n",
    "\n",
    "46. How can community members provide input or feedback on the building project?\n",
    "47. What measures will be taken to minimize any negative impact on the local community?\n",
    "48. Can you provide information on job opportunities for local residents during construction?\n",
    "49. How will the building project contribute to the overall development of the neighborhood?\n",
    "50. What community engagement initiatives are planned during and after the construction phase?\n",
    "\n",
    "## Insurance Providers:\n",
    "\n",
    "51. What types of insurance coverage are recommended for this building project?\n",
    "52. How do you assess and determine insurance premiums for construction-related risks?\n",
    "53. Can you provide details on the claims process in the event of unforeseen incidents?\n",
    "54. What measures can be taken to minimize potential risks and insurance claims?\n",
    "55. How often will risk assessments be conducted to ensure adequate coverage?\n"
   ]
  },
  {
   "cell_type": "markdown",
   "metadata": {},
   "source": [
    "# SPARQL Overview\n",
    "\n",
    "## SPARQL Basics\n",
    "\n",
    "SPARQL is a query language used to retrieve and manipulate data stored in RDF format.\n",
    "\n",
    "### Functions\n",
    "\n",
    "- SPARQL **Filter Functions**: Used to filter query results based on conditions.\n",
    "  - Examples: `!`, `&&`, `||`, `=`, `!=`, `>`, `<`, `IN`, `NOT IN`, `isIRI`, `isURI`, `isBlank`, `isLiteral`, `isNumeric`, `bound`, `str`, `lang`, `datatype`, `sameTerm`, `langMatches`, `regex`, `REPLACE`, `IF`, `COALESCE`, `EXISTS`, `NOT EXISTS`, `URI`, `BNODE`, `STRDT`, `STRLANG`, `UUID`, `STRUUID`, `STRLEN`, `SUBSTR`, `UCASE`, `LCASE`, `STRSTARTS`, `STRENDS`, `CONTAINS`, `STRBEFORE`, `STRAFTER`, `CONCAT`, `ENCODE_FOR_URI`, `abs`, `round`, `ceil`, `floor`, `RAND`, `now`, `year`, `month`, `day`, `hours`, `minutes`, `seconds`, `timezone`, `tz`, `MD5`, `SHA1`, `SHA256`, `SHA384`, `SHA512`.\n",
    "\n",
    "- SPARQL **Aggregate Functions**: Used for calculations on groups of data.\n",
    "  - Examples: `MAX()`, `MIN()`, `COUNT()`, `SUM()`, `AVG()`, `GROUP_CONCAT()`.\n",
    "\n",
    "- SPARQL **Math Functions**: Used for mathematical operations on data.\n",
    "  - Examples: `+`, `-`, `*`, `/`.\n",
    "\n",
    "### Query Types\n",
    "\n",
    "- **SELECT**: Retrieve data from the ontology.\n",
    "- **ASK**: Check whether a certain condition is true or false.\n",
    "- **DESCRIBE**: Retrieve information about a resource.\n",
    "- **CONSTRUCT**: Create a new RDF graph based on query results.\n",
    "\n",
    "## Sub-queries\n",
    "\n",
    "SPARQL supports sub-queries, which are queries nested inside another query. The inner query is evaluated first, and the results are used in the outer query.\n",
    "\n",
    "## Filters\n",
    "\n",
    "SPARQL filters are used to filter query results based on certain conditions.\n",
    "\n",
    "---\n",
    "\n"
   ]
  },
  {
   "cell_type": "markdown",
   "metadata": {},
   "source": []
  }
 ],
 "metadata": {
  "language_info": {
   "name": "python"
  }
 },
 "nbformat": 4,
 "nbformat_minor": 2
}
