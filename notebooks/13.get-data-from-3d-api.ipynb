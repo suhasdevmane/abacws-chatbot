{
 "cells": [
  {
   "cell_type": "markdown",
   "id": "383752b8-1939-44e1-95f9-4150eefdf508",
   "metadata": {},
   "source": [
    "Get data from 3D API"
   ]
  },
  {
   "cell_type": "markdown",
   "id": "9cbda72f-0ada-4f78-9a26-e910b4d95e76",
   "metadata": {},
   "source": [
    "1. get device info"
   ]
  },
  {
   "cell_type": "code",
   "execution_count": 2,
   "id": "2b8c4731-66b5-4ba3-9304-f2ea88e0f17a",
   "metadata": {},
   "outputs": [
    {
     "name": "stdout",
     "output_type": "stream",
     "text": [
      "{'name': 'node_5.05', 'type': 'Corridor', 'floor': 5, 'position': {'x': 162.304, 'y': 70, 'z': -96.273}}\n"
     ]
    }
   ],
   "source": [
    "import requests\n",
    "\n",
    "url = 'http://visualiser:80/api/devices/node_5.05' #use your local IPv4 address\n",
    "headers = {'accept': 'application/json'}\n",
    "\n",
    "try:\n",
    "    response = requests.get(url, headers=headers)\n",
    "\n",
    "    if response.status_code == 200:\n",
    "        json_data = response.json()\n",
    "        # Process the JSON data as needed\n",
    "        print(json_data)\n",
    "    else:\n",
    "        print(f\"Error: {response.status_code}\")\n",
    "        print(response.text)\n",
    "\n",
    "except requests.exceptions.RequestException as e:\n",
    "    print(f\"Request error: {e}\")\n"
   ]
  },
  {
   "cell_type": "markdown",
   "id": "b90969c4-c6ac-48e2-93c7-f9ed878d8c9a",
   "metadata": {},
   "source": [
    "2. get list of all devices"
   ]
  },
  {
   "cell_type": "code",
   "execution_count": 4,
   "id": "cc291581-449d-4f7a-aea9-f54cda7fc460",
   "metadata": {},
   "outputs": [
    {
     "name": "stdout",
     "output_type": "stream",
     "text": [
      "[{'name': 'node_5.01', 'type': 'Corridor', 'floor': 5, 'position': {'x': 49.8, 'y': 70, 'z': -96.273}}, {'name': 'node_5.02', 'type': 'Corridor', 'floor': 5, 'position': {'x': 61.855999999999995, 'y': 70, 'z': -87.64500000000001}}, {'name': 'node_5.03', 'type': 'Corridor', 'floor': 5, 'position': {'x': 79.36, 'y': 70, 'z': -96.273}}, {'name': 'node_5.04', 'type': 'Corridor', 'floor': 5, 'position': {'x': 119.29599999999999, 'y': 70, 'z': -96.273}}, {'name': 'node_5.05', 'type': 'Corridor', 'floor': 5, 'position': {'x': 162.304, 'y': 70, 'z': -96.273}}, {'name': 'node_5.06', 'type': 'Corridor', 'floor': 5, 'position': {'x': 207.61599999999999, 'y': 70, 'z': -96.273}}, {'name': 'node_5.07', 'type': 'Corridor', 'floor': 5, 'position': {'x': 242.176, 'y': 70, 'z': -96.273}}, {'name': 'node_5.08', 'type': 'Corridor', 'floor': 5, 'position': {'x': 261.144, 'y': 70, 'z': -87.64500000000001}}, {'name': 'node_5.09', 'type': 'Corridor', 'floor': 5, 'position': {'x': 270.2, 'y': 70, 'z': -96.273}}, {'name': 'node_5.10', 'type': 'Corridor', 'floor': 5, 'position': {'x': 268.288, 'y': 70, 'z': -120}}, {'name': 'node_5.11', 'type': 'Corridor', 'floor': 5, 'position': {'x': 277.504, 'y': 70, 'z': -140}}, {'name': 'node_5.12', 'type': 'Corridor', 'floor': 5, 'position': {'x': 259.072, 'y': 70, 'z': -140}}, {'name': 'node_5.13', 'type': 'Corridor', 'floor': 5, 'position': {'x': 207.61599999999999, 'y': 70, 'z': -140}}, {'name': 'node_5.14', 'type': 'Corridor', 'floor': 5, 'position': {'x': 175.36, 'y': 70, 'z': -140}}, {'name': 'node_5.15', 'type': 'Corridor', 'floor': 5, 'position': {'x': 121.6, 'y': 70, 'z': -140}}, {'name': 'node_5.16', 'type': 'Corridor', 'floor': 5, 'position': {'x': 79.36, 'y': 70, 'z': -140}}, {'name': 'node_5.17', 'type': 'Corridor', 'floor': 5, 'position': {'x': 47.495999999999995, 'y': 70, 'z': -140}}, {'name': 'node_5.18', 'type': 'Corridor', 'floor': 5, 'position': {'x': 57.712, 'y': 70, 'z': -120}}, {'name': 'node_5.19', 'type': 'private_room', 'floor': 5, 'position': {'x': 272.896, 'y': 70, 'z': -87.64500000000001}}, {'name': 'node_5.20', 'type': 'private_room', 'floor': 5, 'position': {'x': 281.344, 'y': 70, 'z': -87.64500000000001}}, {'name': 'node_5.21', 'type': 'teaching_space', 'floor': 5, 'position': {'x': 190.72, 'y': 70, 'z': -111.372}}, {'name': 'node_5.22', 'type': 'teaching_space', 'floor': 5, 'position': {'x': 221.44, 'y': 70, 'z': -111.372}}, {'name': 'node_5.23', 'type': 'teaching_space', 'floor': 5, 'position': {'x': 190.72, 'y': 70, 'z': -128.628}}, {'name': 'node_5.24', 'type': 'teaching_space', 'floor': 5, 'position': {'x': 221.44, 'y': 70, 'z': -128.628}}, {'name': 'node_5.25', 'type': 'teaching_space', 'floor': 5, 'position': {'x': 129.28, 'y': 70, 'z': -111.372}}, {'name': 'node_5.26', 'type': 'teaching_space', 'floor': 5, 'position': {'x': 98.56, 'y': 70, 'z': -111.372}}, {'name': 'node_5.27', 'type': 'teaching_space', 'floor': 5, 'position': {'x': 129.28, 'y': 70, 'z': -128.628}}, {'name': 'node_5.28', 'type': 'teaching_space', 'floor': 5, 'position': {'x': 98.56, 'y': 70, 'z': -128.628}}, {'name': 'node_5.29', 'type': 'lift_out', 'floor': 5, 'position': {'x': 223.744, 'y': 70, 'z': -147.446}}, {'name': 'node_5.30', 'type': 'lift_out', 'floor': 5, 'position': {'x': 101.256, 'y': 70, 'z': -147.446}}, {'name': 'node_5.31', 'type': 'staircase_out', 'floor': 5, 'position': {'x': 223.744, 'y': 70, 'z': -157.074}}, {'name': 'node_5.32', 'type': 'staircase_out', 'floor': 5, 'position': {'x': 101.256, 'y': 70, 'z': -157.074}}, {'name': 'node_5.33', 'type': 'shared_room', 'floor': 5, 'position': {'x': 245.624, 'y': 70, 'z': -109.215}}, {'name': 'node_5.34', 'type': 'shared_room', 'floor': 5, 'position': {'x': 84.216, 'y': 70, 'z': -109.215}}]\n"
     ]
    }
   ],
   "source": [
    "import requests\n",
    "\n",
    "url = 'http://visualiser:80/api/devices'\n",
    "headers = {'accept': 'application/json'}\n",
    "\n",
    "response = requests.get(url, headers=headers)\n",
    "\n",
    "print(response.json())\n"
   ]
  },
  {
   "cell_type": "code",
   "execution_count": null,
   "id": "83888968-1e11-4d46-b3b6-2ba41b8bc015",
   "metadata": {},
   "outputs": [],
   "source": []
  }
 ],
 "metadata": {
  "kernelspec": {
   "display_name": "Python 3 (ipykernel)",
   "language": "python",
   "name": "python3"
  },
  "language_info": {
   "codemirror_mode": {
    "name": "ipython",
    "version": 3
   },
   "file_extension": ".py",
   "mimetype": "text/x-python",
   "name": "python",
   "nbconvert_exporter": "python",
   "pygments_lexer": "ipython3",
   "version": "3.10.11"
  }
 },
 "nbformat": 4,
 "nbformat_minor": 5
}
