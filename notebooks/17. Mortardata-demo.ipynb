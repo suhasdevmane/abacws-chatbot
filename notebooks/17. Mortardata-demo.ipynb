{
 "cells": [
  {
   "cell_type": "markdown",
   "metadata": {},
   "source": [
    "requires python 3.8"
   ]
  },
  {
   "cell_type": "code",
   "execution_count": 1,
   "id": "4ddb7194-0bc3-4b47-89a1-bdabe3adf8ce",
   "metadata": {},
   "outputs": [],
   "source": [
    "import matplotlib\n",
    "%matplotlib inline"
   ]
  },
  {
   "cell_type": "code",
   "execution_count": 2,
   "id": "4def162f-2824-4e85-9aef-c92cd0bddba2",
   "metadata": {},
   "outputs": [],
   "source": [
    "# these are the environment variables required to access Mortar\n",
    "import os\n",
    "os.environ[\"MORTARDATA_S3_REGION\"] = \"us-east-2\"\n",
    "os.environ[\"MORTARDATA_S3_BUCKET\"] = \"mortar-data-parquet\"\n",
    "os.environ[\"MORTARDATA_QUERY_ENDPOINT\"] = \"https://xm22xldyclv3vmindlc6v7bsya0gbdui.lambda-url.us-east-1.on.aws/\"\n",
    "os.environ[\"MORTARDATA_SITES_ENDPOINT\"] = \"https://fym4sqrcwqxrz2wmgxdszyre2i0tnrld.lambda-url.us-east-1.on.aws/\""
   ]
  },
  {
   "cell_type": "code",
   "execution_count": 3,
   "id": "dff900ff-0b03-44ed-81b0-55e609d45d47",
   "metadata": {},
   "outputs": [
    {
     "name": "stderr",
     "output_type": "stream",
     "text": [
      "\u001b[32m2023-11-24 10:12:51.052\u001b[0m | \u001b[1mINFO    \u001b[0m | \u001b[36mmortardata\u001b[0m:\u001b[36m__init__\u001b[0m:\u001b[36m47\u001b[0m - \u001b[1mConnected to Parquet dataset\u001b[0m\n",
      "\u001b[32m2023-11-24 10:12:52.084\u001b[0m | \u001b[1mINFO    \u001b[0m | \u001b[36mmortardata\u001b[0m:\u001b[36msites\u001b[0m:\u001b[36m76\u001b[0m - \u001b[1mFetched 45 sites in 1.03sec\u001b[0m\n"
     ]
    },
    {
     "name": "stdout",
     "output_type": "stream",
     "text": [
      "['urn:bldg31#', 'urn:bldg38#', 'urn:bldg4#', 'urn:bldg32#', 'urn:bldg41#', 'urn:bldg23#', 'urn:bldg21#', 'urn:bldg3#', 'urn:bldg6#', 'urn:bldg5#', 'urn:smc#', 'urn:bldg43#', 'urn:bldg28#', 'urn:bldg13#', 'urn:bldg18#', 'urn:bldg22#', 'urn:bldg15#', 'urn:bldg35#', 'urn:bldg20#', 'urn:bldg16#', 'urn:bldg17#', 'urn:bldg34#', 'urn:bldg7#', 'urn:bldg40#', 'urn:bldg30#', 'urn:bldg12#', 'urn:bldg19#', 'urn:bldg25#', 'urn:bldg42#', 'urn:bldg14#', 'urn:bldg36#', 'urn:bldg27#', 'urn:bldg29#', 'urn:bldg44#', 'urn:bldg26#', 'urn:bldg39#', 'urn:bldg9#', 'urn:bldg37#', 'urn:bldg24#', 'urn:bldg2#', 'urn:bldg8#', 'urn:bldg10#', 'urn:bldg1#', 'urn:bldg33#', 'urn:bldg11#']\n"
     ]
    }
   ],
   "source": [
    "from mortardata import Client\n",
    "\n",
    "# connect client\n",
    "c = Client()\n",
    "\n",
    "# list all sites in Mortar\n",
    "print(c.sites)"
   ]
  },
  {
   "cell_type": "code",
   "execution_count": 4,
   "id": "47370a6d-27ef-444c-95c7-780417f34934",
   "metadata": {},
   "outputs": [
    {
     "name": "stderr",
     "output_type": "stream",
     "text": [
      "\u001b[32m2023-11-24 10:12:52.100\u001b[0m | \u001b[1mINFO    \u001b[0m | \u001b[36mmortardata\u001b[0m:\u001b[36msparql\u001b[0m:\u001b[36m94\u001b[0m - \u001b[1mDispatching parallel SPARQL queries for 20 sites\u001b[0m\n",
      "\u001b[32m2023-11-24 10:12:56.686\u001b[0m | \u001b[1mINFO    \u001b[0m | \u001b[36mmortardata\u001b[0m:\u001b[36msparql\u001b[0m:\u001b[36m107\u001b[0m - \u001b[1mFetched 0 SPARQL rows\u001b[0m\n",
      "\u001b[32m2023-11-24 10:12:56.693\u001b[0m | \u001b[1mINFO    \u001b[0m | \u001b[36mmortardata\u001b[0m:\u001b[36msparql\u001b[0m:\u001b[36m107\u001b[0m - \u001b[1mFetched 0 SPARQL rows\u001b[0m\n",
      "\u001b[32m2023-11-24 10:12:57.039\u001b[0m | \u001b[1mINFO    \u001b[0m | \u001b[36mmortardata\u001b[0m:\u001b[36msparql\u001b[0m:\u001b[36m107\u001b[0m - \u001b[1mFetched 0 SPARQL rows\u001b[0m\n",
      "\u001b[32m2023-11-24 10:12:57.041\u001b[0m | \u001b[1mINFO    \u001b[0m | \u001b[36mmortardata\u001b[0m:\u001b[36msparql\u001b[0m:\u001b[36m107\u001b[0m - \u001b[1mFetched 0 SPARQL rows\u001b[0m\n",
      "\u001b[32m2023-11-24 10:12:57.070\u001b[0m | \u001b[1mINFO    \u001b[0m | \u001b[36mmortardata\u001b[0m:\u001b[36msparql\u001b[0m:\u001b[36m107\u001b[0m - \u001b[1mFetched 0 SPARQL rows\u001b[0m\n",
      "\u001b[32m2023-11-24 10:12:57.102\u001b[0m | \u001b[1mINFO    \u001b[0m | \u001b[36mmortardata\u001b[0m:\u001b[36msparql\u001b[0m:\u001b[36m107\u001b[0m - \u001b[1mFetched 0 SPARQL rows\u001b[0m\n",
      "\u001b[32m2023-11-24 10:12:57.137\u001b[0m | \u001b[1mINFO    \u001b[0m | \u001b[36mmortardata\u001b[0m:\u001b[36msparql\u001b[0m:\u001b[36m107\u001b[0m - \u001b[1mFetched 0 SPARQL rows\u001b[0m\n",
      "\u001b[32m2023-11-24 10:12:57.309\u001b[0m | \u001b[1mINFO    \u001b[0m | \u001b[36mmortardata\u001b[0m:\u001b[36msparql\u001b[0m:\u001b[36m107\u001b[0m - \u001b[1mFetched 0 SPARQL rows\u001b[0m\n",
      "\u001b[32m2023-11-24 10:12:57.312\u001b[0m | \u001b[1mINFO    \u001b[0m | \u001b[36mmortardata\u001b[0m:\u001b[36msparql\u001b[0m:\u001b[36m107\u001b[0m - \u001b[1mFetched 2 SPARQL rows\u001b[0m\n",
      "\u001b[32m2023-11-24 10:12:57.313\u001b[0m | \u001b[1mINFO    \u001b[0m | \u001b[36mmortardata\u001b[0m:\u001b[36msparql\u001b[0m:\u001b[36m107\u001b[0m - \u001b[1mFetched 20 SPARQL rows\u001b[0m\n",
      "\u001b[32m2023-11-24 10:12:57.400\u001b[0m | \u001b[1mINFO    \u001b[0m | \u001b[36mmortardata\u001b[0m:\u001b[36msparql\u001b[0m:\u001b[36m107\u001b[0m - \u001b[1mFetched 0 SPARQL rows\u001b[0m\n",
      "\u001b[32m2023-11-24 10:12:57.514\u001b[0m | \u001b[1mINFO    \u001b[0m | \u001b[36mmortardata\u001b[0m:\u001b[36msparql\u001b[0m:\u001b[36m107\u001b[0m - \u001b[1mFetched 121 SPARQL rows\u001b[0m\n",
      "\u001b[32m2023-11-24 10:12:57.549\u001b[0m | \u001b[1mINFO    \u001b[0m | \u001b[36mmortardata\u001b[0m:\u001b[36msparql\u001b[0m:\u001b[36m107\u001b[0m - \u001b[1mFetched 142 SPARQL rows\u001b[0m\n",
      "\u001b[32m2023-11-24 10:12:57.681\u001b[0m | \u001b[1mINFO    \u001b[0m | \u001b[36mmortardata\u001b[0m:\u001b[36msparql\u001b[0m:\u001b[36m107\u001b[0m - \u001b[1mFetched 39 SPARQL rows\u001b[0m\n",
      "\u001b[32m2023-11-24 10:12:57.766\u001b[0m | \u001b[1mINFO    \u001b[0m | \u001b[36mmortardata\u001b[0m:\u001b[36msparql\u001b[0m:\u001b[36m107\u001b[0m - \u001b[1mFetched 31 SPARQL rows\u001b[0m\n",
      "\u001b[32m2023-11-24 10:12:57.897\u001b[0m | \u001b[1mINFO    \u001b[0m | \u001b[36mmortardata\u001b[0m:\u001b[36msparql\u001b[0m:\u001b[36m107\u001b[0m - \u001b[1mFetched 0 SPARQL rows\u001b[0m\n",
      "\u001b[32m2023-11-24 10:12:58.540\u001b[0m | \u001b[1mINFO    \u001b[0m | \u001b[36mmortardata\u001b[0m:\u001b[36msparql\u001b[0m:\u001b[36m107\u001b[0m - \u001b[1mFetched 214 SPARQL rows\u001b[0m\n",
      "\u001b[32m2023-11-24 10:12:58.591\u001b[0m | \u001b[1mINFO    \u001b[0m | \u001b[36mmortardata\u001b[0m:\u001b[36msparql\u001b[0m:\u001b[36m107\u001b[0m - \u001b[1mFetched 198 SPARQL rows\u001b[0m\n",
      "\u001b[32m2023-11-24 10:12:58.601\u001b[0m | \u001b[1mINFO    \u001b[0m | \u001b[36mmortardata\u001b[0m:\u001b[36msparql\u001b[0m:\u001b[36m107\u001b[0m - \u001b[1mFetched 260 SPARQL rows\u001b[0m\n",
      "\u001b[32m2023-11-24 10:12:58.817\u001b[0m | \u001b[1mINFO    \u001b[0m | \u001b[36mmortardata\u001b[0m:\u001b[36msparql\u001b[0m:\u001b[36m107\u001b[0m - \u001b[1mFetched 138 SPARQL rows\u001b[0m\n"
     ]
    },
    {
     "data": {
      "text/html": [
       "<div>\n",
       "<style scoped>\n",
       "    .dataframe tbody tr th:only-of-type {\n",
       "        vertical-align: middle;\n",
       "    }\n",
       "\n",
       "    .dataframe tbody tr th {\n",
       "        vertical-align: top;\n",
       "    }\n",
       "\n",
       "    .dataframe thead th {\n",
       "        text-align: right;\n",
       "    }\n",
       "</style>\n",
       "<table border=\"1\" class=\"dataframe\">\n",
       "  <thead>\n",
       "    <tr style=\"text-align: right;\">\n",
       "      <th></th>\n",
       "      <th>point</th>\n",
       "      <th>equip</th>\n",
       "      <th>id</th>\n",
       "    </tr>\n",
       "  </thead>\n",
       "  <tbody>\n",
       "    <tr>\n",
       "      <th>0</th>\n",
       "      <td>http://buildsys.org/ontologies/bldg22#bldg22.Z...</td>\n",
       "      <td>http://buildsys.org/ontologies/bldg22#VAVRM060</td>\n",
       "      <td>5f3036cd-41d6-4c78-8dfa-b940eb217b80</td>\n",
       "    </tr>\n",
       "    <tr>\n",
       "      <th>1</th>\n",
       "      <td>http://buildsys.org/ontologies/bldg22#bldg22.Z...</td>\n",
       "      <td>http://buildsys.org/ontologies/bldg22#VAVRM060...</td>\n",
       "      <td>34ee6d12-8882-4159-8a04-b43a8ba40904</td>\n",
       "    </tr>\n",
       "    <tr>\n",
       "      <th>0</th>\n",
       "      <td>http://buildsys.org/ontologies/bldg20#bldg20.Z...</td>\n",
       "      <td>http://buildsys.org/ontologies/bldg20#VAVRM141</td>\n",
       "      <td>6feb9c61-f2ab-42d9-9be3-629ad79b4bcf</td>\n",
       "    </tr>\n",
       "    <tr>\n",
       "      <th>1</th>\n",
       "      <td>http://buildsys.org/ontologies/bldg20#bldg20.Z...</td>\n",
       "      <td>http://buildsys.org/ontologies/bldg20#VAVRM151</td>\n",
       "      <td>833e6ca6-bff7-4268-ad77-d97ac20a88ff</td>\n",
       "    </tr>\n",
       "    <tr>\n",
       "      <th>2</th>\n",
       "      <td>http://buildsys.org/ontologies/bldg20#bldg20.Z...</td>\n",
       "      <td>http://buildsys.org/ontologies/bldg20#VAVRM146...</td>\n",
       "      <td>718e535b-a959-49c5-8f4d-3baa0671ce75</td>\n",
       "    </tr>\n",
       "  </tbody>\n",
       "</table>\n",
       "</div>"
      ],
      "text/plain": [
       "                                               point  \\\n",
       "0  http://buildsys.org/ontologies/bldg22#bldg22.Z...   \n",
       "1  http://buildsys.org/ontologies/bldg22#bldg22.Z...   \n",
       "0  http://buildsys.org/ontologies/bldg20#bldg20.Z...   \n",
       "1  http://buildsys.org/ontologies/bldg20#bldg20.Z...   \n",
       "2  http://buildsys.org/ontologies/bldg20#bldg20.Z...   \n",
       "\n",
       "                                               equip  \\\n",
       "0     http://buildsys.org/ontologies/bldg22#VAVRM060   \n",
       "1  http://buildsys.org/ontologies/bldg22#VAVRM060...   \n",
       "0     http://buildsys.org/ontologies/bldg20#VAVRM141   \n",
       "1     http://buildsys.org/ontologies/bldg20#VAVRM151   \n",
       "2  http://buildsys.org/ontologies/bldg20#VAVRM146...   \n",
       "\n",
       "                                     id  \n",
       "0  5f3036cd-41d6-4c78-8dfa-b940eb217b80  \n",
       "1  34ee6d12-8882-4159-8a04-b43a8ba40904  \n",
       "0  6feb9c61-f2ab-42d9-9be3-629ad79b4bcf  \n",
       "1  833e6ca6-bff7-4268-ad77-d97ac20a88ff  \n",
       "2  718e535b-a959-49c5-8f4d-3baa0671ce75  "
      ]
     },
     "execution_count": 4,
     "metadata": {},
     "output_type": "execute_result"
    }
   ],
   "source": [
    "# queries to retrieve the timeseries IDs. You *need* to access the ref:hasExternalReference/ref:hasTimeseriesId\n",
    "# property of a Point and include the id in your output for the client to find the data\n",
    "vav_points = \"\"\"\n",
    "PREFIX brick: <https://brickschema.org/schema/Brick#>\n",
    "PREFIX rdfs: <http://www.w3.org/2000/01/rdf-schema#>\n",
    "PREFIX rdf: <http://www.w3.org/1999/02/22-rdf-syntax-ns#>\n",
    "PREFIX ref: <https://brickschema.org/schema/Brick/ref#>\n",
    "SELECT ?point ?equip ?id WHERE {\n",
    "    ?point rdf:type/rdfs:subClassOf* brick:Air_Temperature_Sensor .\n",
    "    ?point brick:isPointOf ?equip .\n",
    "    ?equip rdf:type/rdfs:subClassOf* brick:VAV .\n",
    "    ?point ref:hasExternalReference/ref:hasTimeseriesId ?id .\n",
    "}\"\"\"\n",
    "# get metadata for first 20 sites\n",
    "df = c.sparql(vav_points, sites=c.sites[:20]) \n",
    "# most operations return dataframes\n",
    "df.to_csv(\"vav_points.csv\")\n",
    "df.head()"
   ]
  },
  {
   "cell_type": "code",
   "execution_count": 5,
   "id": "cbcc0586-5b12-404c-b5fc-b84d6434e9d1",
   "metadata": {},
   "outputs": [
    {
     "name": "stderr",
     "output_type": "stream",
     "text": [
      "\u001b[32m2023-11-24 10:12:58.847\u001b[0m | \u001b[1mINFO    \u001b[0m | \u001b[36mmortardata\u001b[0m:\u001b[36msparql\u001b[0m:\u001b[36m94\u001b[0m - \u001b[1mDispatching parallel SPARQL queries for 2 sites\u001b[0m\n",
      "\u001b[32m2023-11-24 10:13:03.948\u001b[0m | \u001b[1mINFO    \u001b[0m | \u001b[36mmortardata\u001b[0m:\u001b[36msparql\u001b[0m:\u001b[36m107\u001b[0m - \u001b[1mFetched 0 SPARQL rows\u001b[0m\n",
      "\u001b[32m2023-11-24 10:13:04.691\u001b[0m | \u001b[1mINFO    \u001b[0m | \u001b[36mmortardata\u001b[0m:\u001b[36msparql\u001b[0m:\u001b[36m107\u001b[0m - \u001b[1mFetched 121 SPARQL rows\u001b[0m\n",
      "\u001b[32m2023-11-24 10:13:04.697\u001b[0m | \u001b[1mINFO    \u001b[0m | \u001b[36mmortardata\u001b[0m:\u001b[36m_to_batches\u001b[0m:\u001b[36m143\u001b[0m - \u001b[1mFetching data for ['urn:bldg2#', 'urn:bldg5#'] with start=Timestamp('2016-01-01 00:00:00') end=Timestamp('2016-04-01 00:00:00') (limit=1000000.0)\u001b[0m\n"
     ]
    },
    {
     "name": "stdout",
     "output_type": "stream",
     "text": [
      "['bldg2', 'bldg5']\n"
     ]
    },
    {
     "name": "stderr",
     "output_type": "stream",
     "text": [
      "Downloading data from s3: 121batches [00:17,  7.11batches/s]\n"
     ]
    },
    {
     "data": {
      "text/html": [
       "<div>\n",
       "<style scoped>\n",
       "    .dataframe tbody tr th:only-of-type {\n",
       "        vertical-align: middle;\n",
       "    }\n",
       "\n",
       "    .dataframe tbody tr th {\n",
       "        vertical-align: top;\n",
       "    }\n",
       "\n",
       "    .dataframe thead th {\n",
       "        text-align: right;\n",
       "    }\n",
       "</style>\n",
       "<table border=\"1\" class=\"dataframe\">\n",
       "  <thead>\n",
       "    <tr style=\"text-align: right;\">\n",
       "      <th></th>\n",
       "      <th>value</th>\n",
       "      <th>collection</th>\n",
       "      <th>uri</th>\n",
       "    </tr>\n",
       "    <tr>\n",
       "      <th>time</th>\n",
       "      <th></th>\n",
       "      <th></th>\n",
       "      <th></th>\n",
       "    </tr>\n",
       "  </thead>\n",
       "  <tbody>\n",
       "    <tr>\n",
       "      <th>2016-03-09 05:45:00+00:00</th>\n",
       "      <td>70.0</td>\n",
       "      <td>bldg5</td>\n",
       "      <td>http://buildsys.org/ontologies/bldg5#bldg5.ZON...</td>\n",
       "    </tr>\n",
       "    <tr>\n",
       "      <th>2016-03-09 06:00:00+00:00</th>\n",
       "      <td>70.0</td>\n",
       "      <td>bldg5</td>\n",
       "      <td>http://buildsys.org/ontologies/bldg5#bldg5.ZON...</td>\n",
       "    </tr>\n",
       "    <tr>\n",
       "      <th>2016-03-09 06:15:00+00:00</th>\n",
       "      <td>70.0</td>\n",
       "      <td>bldg5</td>\n",
       "      <td>http://buildsys.org/ontologies/bldg5#bldg5.ZON...</td>\n",
       "    </tr>\n",
       "    <tr>\n",
       "      <th>2016-03-09 06:30:00+00:00</th>\n",
       "      <td>70.0</td>\n",
       "      <td>bldg5</td>\n",
       "      <td>http://buildsys.org/ontologies/bldg5#bldg5.ZON...</td>\n",
       "    </tr>\n",
       "    <tr>\n",
       "      <th>2016-03-09 06:45:00+00:00</th>\n",
       "      <td>70.0</td>\n",
       "      <td>bldg5</td>\n",
       "      <td>http://buildsys.org/ontologies/bldg5#bldg5.ZON...</td>\n",
       "    </tr>\n",
       "  </tbody>\n",
       "</table>\n",
       "</div>"
      ],
      "text/plain": [
       "                           value collection  \\\n",
       "time                                          \n",
       "2016-03-09 05:45:00+00:00   70.0      bldg5   \n",
       "2016-03-09 06:00:00+00:00   70.0      bldg5   \n",
       "2016-03-09 06:15:00+00:00   70.0      bldg5   \n",
       "2016-03-09 06:30:00+00:00   70.0      bldg5   \n",
       "2016-03-09 06:45:00+00:00   70.0      bldg5   \n",
       "\n",
       "                                                                         uri  \n",
       "time                                                                          \n",
       "2016-03-09 05:45:00+00:00  http://buildsys.org/ontologies/bldg5#bldg5.ZON...  \n",
       "2016-03-09 06:00:00+00:00  http://buildsys.org/ontologies/bldg5#bldg5.ZON...  \n",
       "2016-03-09 06:15:00+00:00  http://buildsys.org/ontologies/bldg5#bldg5.ZON...  \n",
       "2016-03-09 06:30:00+00:00  http://buildsys.org/ontologies/bldg5#bldg5.ZON...  \n",
       "2016-03-09 06:45:00+00:00  http://buildsys.org/ontologies/bldg5#bldg5.ZON...  "
      ]
     },
     "execution_count": 5,
     "metadata": {},
     "output_type": "execute_result"
    }
   ],
   "source": [
    "# get timeseries data into a dataframe for 2 sites, maximum of 1 million points for January 2016 (feel free to remove limit)\n",
    "df = c.data_sparql(vav_points, start=\"2016-01-01\", end=\"2016-04-01\", sites=['urn:bldg2#','urn:bldg5#'], limit=1e6)\n",
    "df.head()"
   ]
  },
  {
   "cell_type": "code",
   "execution_count": 6,
   "id": "156154f3-49ef-4474-9556-adf8e22e8dce",
   "metadata": {},
   "outputs": [
    {
     "data": {
      "text/html": [
       "<div>\n",
       "<style scoped>\n",
       "    .dataframe tbody tr th:only-of-type {\n",
       "        vertical-align: middle;\n",
       "    }\n",
       "\n",
       "    .dataframe tbody tr th {\n",
       "        vertical-align: top;\n",
       "    }\n",
       "\n",
       "    .dataframe thead th {\n",
       "        text-align: right;\n",
       "    }\n",
       "</style>\n",
       "<table border=\"1\" class=\"dataframe\">\n",
       "  <thead>\n",
       "    <tr style=\"text-align: right;\">\n",
       "      <th></th>\n",
       "      <th>value</th>\n",
       "    </tr>\n",
       "  </thead>\n",
       "  <tbody>\n",
       "    <tr>\n",
       "      <th>count</th>\n",
       "      <td>257205.000000</td>\n",
       "    </tr>\n",
       "    <tr>\n",
       "      <th>mean</th>\n",
       "      <td>71.534484</td>\n",
       "    </tr>\n",
       "    <tr>\n",
       "      <th>std</th>\n",
       "      <td>3.017607</td>\n",
       "    </tr>\n",
       "    <tr>\n",
       "      <th>min</th>\n",
       "      <td>0.000000</td>\n",
       "    </tr>\n",
       "    <tr>\n",
       "      <th>25%</th>\n",
       "      <td>70.000000</td>\n",
       "    </tr>\n",
       "    <tr>\n",
       "      <th>50%</th>\n",
       "      <td>71.000000</td>\n",
       "    </tr>\n",
       "    <tr>\n",
       "      <th>75%</th>\n",
       "      <td>74.000000</td>\n",
       "    </tr>\n",
       "    <tr>\n",
       "      <th>max</th>\n",
       "      <td>85.250000</td>\n",
       "    </tr>\n",
       "  </tbody>\n",
       "</table>\n",
       "</div>"
      ],
      "text/plain": [
       "               value\n",
       "count  257205.000000\n",
       "mean       71.534484\n",
       "std         3.017607\n",
       "min         0.000000\n",
       "25%        70.000000\n",
       "50%        71.000000\n",
       "75%        74.000000\n",
       "max        85.250000"
      ]
     },
     "execution_count": 6,
     "metadata": {},
     "output_type": "execute_result"
    }
   ],
   "source": [
    "df.describe()"
   ]
  },
  {
   "cell_type": "code",
   "execution_count": 7,
   "id": "732ab662-77e9-4d51-b0dc-b213105c28bf",
   "metadata": {},
   "outputs": [
    {
     "data": {
      "text/plain": [
       "<Axes: xlabel='time'>"
      ]
     },
     "execution_count": 7,
     "metadata": {},
     "output_type": "execute_result"
    },
    {
     "data": {
      "image/png": "[encoded data removed]",
      "text/plain": [
       "<Figure size 640x480 with 1 Axes>"
      ]
     },
     "metadata": {},
     "output_type": "display_data"
    }
   ],
   "source": [
    "df.resample('24H').agg({'value': ['min','mean','max']}).plot(style='-o')"
   ]
  },
  {
   "cell_type": "code",
   "execution_count": null,
   "id": "1626b6a0-3a65-4ac3-b976-cebc3102fccc",
   "metadata": {},
   "outputs": [],
   "source": []
  }
 ],
 "metadata": {
  "kernelspec": {
   "display_name": "mortardata-serverless",
   "language": "python",
   "name": "mortardata-serverless"
  },
  "language_info": {
   "codemirror_mode": {
    "name": "ipython",
    "version": 3
   },
   "file_extension": ".py",
   "mimetype": "text/x-python",
   "name": "python",
   "nbconvert_exporter": "python",
   "pygments_lexer": "ipython3",
   "version": "3.11.6"
  }
 },
 "nbformat": 4,
 "nbformat_minor": 5
}
