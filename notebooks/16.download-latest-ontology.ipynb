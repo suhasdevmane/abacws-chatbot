{
 "cells": [
  {
   "cell_type": "code",
   "execution_count": 3,
   "metadata": {},
   "outputs": [
    {
     "ename": "PluginException",
     "evalue": "No plugin registered for (<rdflib.plugins.sparql.sparql.Query object at 0x000002E8D53F2AB0>, <class 'rdflib.query.Processor'>)",
     "output_type": "error",
     "traceback": [
      "\u001b[1;31m---------------------------------------------------------------------------\u001b[0m",
      "\u001b[1;31mKeyError\u001b[0m                                  Traceback (most recent call last)",
      "File \u001b[1;32mc:\\Python312\\Lib\\site-packages\\rdflib\\plugin.py:132\u001b[0m, in \u001b[0;36mget\u001b[1;34m(name, kind)\u001b[0m\n\u001b[0;32m    131\u001b[0m \u001b[39mtry\u001b[39;00m:\n\u001b[1;32m--> 132\u001b[0m     p: Plugin[PluginT] \u001b[39m=\u001b[39m _plugins[(name, kind)]\n\u001b[0;32m    133\u001b[0m \u001b[39mexcept\u001b[39;00m \u001b[39mKeyError\u001b[39;00m:\n",
      "\u001b[1;31mKeyError\u001b[0m: (<rdflib.plugins.sparql.sparql.Query object at 0x000002E8D53F2AB0>, <class 'rdflib.query.Processor'>)",
      "\nDuring handling of the above exception, another exception occurred:\n",
      "\u001b[1;31mPluginException\u001b[0m                           Traceback (most recent call last)",
      "\u001b[1;32mc:\\_PHD_\\Github\\abacws-chatbot\\notebooks\\16.download-latest-ontology.ipynb Cell 1\u001b[0m line \u001b[0;36m1\n\u001b[0;32m     <a href='vscode-notebook-cell:/c%3A/_PHD_/Github/abacws-chatbot/notebooks/16.download-latest-ontology.ipynb#W0sZmlsZQ%3D%3D?line=12'>13</a>\u001b[0m g \u001b[39m=\u001b[39m ConjunctiveGraph()\n\u001b[0;32m     <a href='vscode-notebook-cell:/c%3A/_PHD_/Github/abacws-chatbot/notebooks/16.download-latest-ontology.ipynb#W0sZmlsZQ%3D%3D?line=13'>14</a>\u001b[0m query \u001b[39m=\u001b[39m prepareQuery(query_str, initNs\u001b[39m=\u001b[39m{\u001b[39m\"\u001b[39m\u001b[39mrdf\u001b[39m\u001b[39m\"\u001b[39m: RDF})\n\u001b[1;32m---> <a href='vscode-notebook-cell:/c%3A/_PHD_/Github/abacws-chatbot/notebooks/16.download-latest-ontology.ipynb#W0sZmlsZQ%3D%3D?line=14'>15</a>\u001b[0m result \u001b[39m=\u001b[39m g\u001b[39m.\u001b[39;49mquery(endpoint_url, query)\n\u001b[0;32m     <a href='vscode-notebook-cell:/c%3A/_PHD_/Github/abacws-chatbot/notebooks/16.download-latest-ontology.ipynb#W0sZmlsZQ%3D%3D?line=16'>17</a>\u001b[0m \u001b[39m# Serialize the result to Turtle format and save to a file\u001b[39;00m\n\u001b[0;32m     <a href='vscode-notebook-cell:/c%3A/_PHD_/Github/abacws-chatbot/notebooks/16.download-latest-ontology.ipynb#W0sZmlsZQ%3D%3D?line=17'>18</a>\u001b[0m output_file \u001b[39m=\u001b[39m \u001b[39m\"\u001b[39m\u001b[39moutput.ttl\u001b[39m\u001b[39m\"\u001b[39m\n",
      "File \u001b[1;32mc:\\Python312\\Lib\\site-packages\\rdflib\\graph.py:1562\u001b[0m, in \u001b[0;36mGraph.query\u001b[1;34m(self, query_object, processor, result, initNs, initBindings, use_store_provided, **kwargs)\u001b[0m\n\u001b[0;32m   1560\u001b[0m     result \u001b[39m=\u001b[39m plugin\u001b[39m.\u001b[39mget(cast(\u001b[39mstr\u001b[39m, result), query\u001b[39m.\u001b[39mResult)\n\u001b[0;32m   1561\u001b[0m \u001b[39mif\u001b[39;00m \u001b[39mnot\u001b[39;00m \u001b[39misinstance\u001b[39m(processor, query\u001b[39m.\u001b[39mProcessor):\n\u001b[1;32m-> 1562\u001b[0m     processor \u001b[39m=\u001b[39m plugin\u001b[39m.\u001b[39;49mget(processor, query\u001b[39m.\u001b[39;49mProcessor)(\u001b[39mself\u001b[39m)\n\u001b[0;32m   1564\u001b[0m \u001b[39m# type error: Argument 1 to \"Result\" has incompatible type \"Mapping[str, Any]\"; expected \"str\"\u001b[39;00m\n\u001b[0;32m   1565\u001b[0m \u001b[39mreturn\u001b[39;00m result(processor\u001b[39m.\u001b[39mquery(query_object, initBindings, initNs, \u001b[39m*\u001b[39m\u001b[39m*\u001b[39mkwargs))\n",
      "File \u001b[1;32mc:\\Python312\\Lib\\site-packages\\rdflib\\plugin.py:134\u001b[0m, in \u001b[0;36mget\u001b[1;34m(name, kind)\u001b[0m\n\u001b[0;32m    132\u001b[0m     p: Plugin[PluginT] \u001b[39m=\u001b[39m _plugins[(name, kind)]\n\u001b[0;32m    133\u001b[0m \u001b[39mexcept\u001b[39;00m \u001b[39mKeyError\u001b[39;00m:\n\u001b[1;32m--> 134\u001b[0m     \u001b[39mraise\u001b[39;00m PluginException(\u001b[39m\"\u001b[39m\u001b[39mNo plugin registered for (\u001b[39m\u001b[39m%s\u001b[39;00m\u001b[39m, \u001b[39m\u001b[39m%s\u001b[39;00m\u001b[39m)\u001b[39m\u001b[39m\"\u001b[39m \u001b[39m%\u001b[39m (name, kind))\n\u001b[0;32m    135\u001b[0m \u001b[39mreturn\u001b[39;00m p\u001b[39m.\u001b[39mgetClass()\n",
      "\u001b[1;31mPluginException\u001b[0m: No plugin registered for (<rdflib.plugins.sparql.sparql.Query object at 0x000002E8D53F2AB0>, <class 'rdflib.query.Processor'>)"
     ]
    }
   ],
   "source": [
    "\n",
    "from rdflib import Graph, ConjunctiveGraph, Namespace, URIRef, Literal\n",
    "from rdflib.plugins.sparql import prepareQuery\n",
    "from rdflib.namespace import RDF\n",
    "\n",
    "# Define your endpoint URL and query\n",
    "endpoint_url= \"http://localhost:3030/abacws-sensor-network/sparql\"\n",
    "query_str = \"\"\"\n",
    "    CONSTRUCT {?s ?p ?o}\n",
    "    WHERE {?s ?p ?o}\n",
    "\"\"\"\n",
    "\n",
    "# Create a graph and execute the SPARQL query\n",
    "g = ConjunctiveGraph()\n",
    "query = prepareQuery(query_str, initNs={\"rdf\": RDF})\n",
    "result = g.query(endpoint_url, query)\n",
    "\n",
    "# Serialize the result to Turtle format and save to a file\n",
    "output_file = \"output.ttl\"\n",
    "g.serialize(destination=output_file, format=\"turtle\")\n",
    "\n"
   ]
  },
  {
   "cell_type": "code",
   "execution_count": 6,
   "metadata": {},
   "outputs": [
    {
     "data": {
      "text/plain": [
       "<Graph identifier=Na271065a7f784f4da3e3755107243351 (<class 'rdflib.graph.ConjunctiveGraph'>)>"
      ]
     },
     "execution_count": 6,
     "metadata": {},
     "output_type": "execute_result"
    }
   ],
   "source": [
    "from rdflib import ConjunctiveGraph, Namespace, Literal\n",
    "from rdflib.plugins.sparql import prepareQuery\n",
    "from rdflib.namespace import RDF\n",
    "\n",
    "# Define your endpoint URL and query\n",
    "endpoint_url = \"http://localhost:3030/abacws-sensor-network/sparql\"\n",
    "query_str = \"\"\"\n",
    "    CONSTRUCT {?s ?p ?o}\n",
    "    WHERE {?s ?p ?o}\n",
    "\"\"\"\n",
    "\n",
    "# Create a graph and execute the SPARQL query\n",
    "g = ConjunctiveGraph()\n",
    "query = prepareQuery(query_str, initNs={\"rdf\": RDF})\n",
    "result = g.query(query, initBindings={'s': None, 'p': None, 'o': None})\n",
    "\n",
    "# Serialize the result to Turtle format and save to a file\n",
    "output_file = \"output.ttl\"\n",
    "g.serialize(destination=output_file, format=\"turtle\")\n"
   ]
  },
  {
   "cell_type": "code",
   "execution_count": 9,
   "metadata": {},
   "outputs": [
    {
     "name": "stdout",
     "output_type": "stream",
     "text": [
      "Failed to download dataset. Status code: 400\n"
     ]
    }
   ],
   "source": [
    "import requests\n",
    "\n",
    "def download_dataset(fuseki_url, dataset_name, destination_path):\n",
    "    # Construct the SPARQL query to get the dataset\n",
    "    sparql_query = f\"SELECT * WHERE {{ ?s ?p ?o }}\"\n",
    "\n",
    "    # Construct the Fuseki query URL\n",
    "    fuseki_query_url = f\"{fuseki_url}/dataset.html?tab=query&ds={dataset_name}&query={sparql_query}\"\n",
    "\n",
    "    # Make a request to Fuseki to get the dataset\n",
    "    response = requests.get(fuseki_query_url)\n",
    "\n",
    "    # Check if the request was successful (status code 200)\n",
    "    if response.status_code == 200:\n",
    "        # Save the dataset to the specified destination path\n",
    "        with open(destination_path, 'w', encoding='utf-8') as file:\n",
    "            file.write(response.text)\n",
    "        print(f\"Dataset downloaded successfully and saved to {destination_path}\")\n",
    "    else:\n",
    "        print(f\"Failed to download dataset. Status code: {response.status_code}\")\n",
    "\n",
    "# Example usage\n",
    "fuseki_url = \"http://localhost:3030/\"\n",
    "dataset_name = \"abacws-sensor-network\"\n",
    "destination_path = \"dataset.ttl\"\n",
    "\n",
    "download_dataset(fuseki_url, dataset_name, destination_path)\n"
   ]
  },
  {
   "cell_type": "code",
   "execution_count": null,
   "metadata": {},
   "outputs": [],
   "source": [
    "curl -H \"Accept: text/turtle\" -G \"http://localhost:3030/dataset-name/sparql\" --data-urlencode \"query=CONSTRUCT {?s ?p ?o} WHERE {?s ?p ?o}\" -o output.ttl\n"
   ]
  }
 ],
 "metadata": {
  "kernelspec": {
   "display_name": "Python 3",
   "language": "python",
   "name": "python3"
  },
  "language_info": {
   "codemirror_mode": {
    "name": "ipython",
    "version": 3
   },
   "file_extension": ".py",
   "mimetype": "text/x-python",
   "name": "python",
   "nbconvert_exporter": "python",
   "pygments_lexer": "ipython3",
   "version": "3.12.0"
  }
 },
 "nbformat": 4,
 "nbformat_minor": 2
}
