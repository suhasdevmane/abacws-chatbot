{
 "cells": [
  {
   "cell_type": "code",
   "execution_count": 1,
   "metadata": {},
   "outputs": [],
   "source": [
    "# https://www.psycopg.org/docs/usage.html\n",
    "import psycopg2"
   ]
  },
  {
   "cell_type": "code",
   "execution_count": 3,
   "metadata": {},
   "outputs": [],
   "source": [
    "\n",
    "# Connect to existing database\n",
    "conn = psycopg2.connect(\n",
    "    database=\"exampledb\",\n",
    "    user=\"docker\",\n",
    "    password=\"docker\",\n",
    "    host=\"localhost\",\n",
    "    port=\"5432\"\n",
    ")"
   ]
  },
  {
   "cell_type": "code",
   "execution_count": 4,
   "metadata": {},
   "outputs": [
    {
     "ename": "SyntaxError",
     "evalue": "syntax error at or near \"show_version\"\nLINE 1: show_version();\n        ^\n",
     "output_type": "error",
     "traceback": [
      "\u001b[1;31m---------------------------------------------------------------------------\u001b[0m",
      "\u001b[1;31mSyntaxError\u001b[0m                               Traceback (most recent call last)",
      "\u001b[1;32mc:\\_PHD_\\Github\\abacws-chatbot\\trial\\demo.ipynb Cell 3\u001b[0m line \u001b[0;36m5\n\u001b[0;32m      <a href='vscode-notebook-cell:/c%3A/_PHD_/Github/abacws-chatbot/trial/demo.ipynb#W0sZmlsZQ%3D%3D?line=1'>2</a>\u001b[0m cur \u001b[39m=\u001b[39m conn\u001b[39m.\u001b[39mcursor()\n\u001b[0;32m      <a href='vscode-notebook-cell:/c%3A/_PHD_/Github/abacws-chatbot/trial/demo.ipynb#W0sZmlsZQ%3D%3D?line=3'>4</a>\u001b[0m \u001b[39m# Query the database \u001b[39;00m\n\u001b[1;32m----> <a href='vscode-notebook-cell:/c%3A/_PHD_/Github/abacws-chatbot/trial/demo.ipynb#W0sZmlsZQ%3D%3D?line=4'>5</a>\u001b[0m cur\u001b[39m.\u001b[39;49mexecute(\u001b[39m\"\u001b[39;49m\u001b[39mshow_version();\u001b[39;49m\u001b[39m\"\u001b[39;49m)\n\u001b[0;32m      <a href='vscode-notebook-cell:/c%3A/_PHD_/Github/abacws-chatbot/trial/demo.ipynb#W0sZmlsZQ%3D%3D?line=5'>6</a>\u001b[0m rows \u001b[39m=\u001b[39m cur\u001b[39m.\u001b[39mfetchall()\n\u001b[0;32m      <a href='vscode-notebook-cell:/c%3A/_PHD_/Github/abacws-chatbot/trial/demo.ipynb#W0sZmlsZQ%3D%3D?line=6'>7</a>\u001b[0m \u001b[39mfor\u001b[39;00m row \u001b[39min\u001b[39;00m rows:\n",
      "\u001b[1;31mSyntaxError\u001b[0m: syntax error at or near \"show_version\"\nLINE 1: show_version();\n        ^\n"
     ]
    }
   ],
   "source": [
    "\n",
    "\n",
    "# Open cursor to perform database operation\n",
    "cur = conn.cursor()\n",
    "\n",
    "# Query the database \n",
    "cur.execute(\"show_version();\")\n",
    "rows = cur.fetchall()\n",
    "for row in rows:\n",
    "    print(row)\n",
    "\n",
    "# Close communications with database\n",
    "cur.close()\n",
    "conn.close()"
   ]
  },
  {
   "cell_type": "code",
   "execution_count": 2,
   "metadata": {},
   "outputs": [
    {
     "name": "stdout",
     "output_type": "stream",
     "text": [
      "Requirement already satisfied: SpeechRecognition in c:\\_phd_\\github\\abacws-chatbot\\abacws-chatbot-venv\\lib\\site-packages (from -r C:\\_PHD_\\Github\\abacws-chatbot\\requirements.txt (line 1)) (3.10.0)\n",
      "Requirement already satisfied: nltk in c:\\_phd_\\github\\abacws-chatbot\\abacws-chatbot-venv\\lib\\site-packages (from -r C:\\_PHD_\\Github\\abacws-chatbot\\requirements.txt (line 2)) (3.8.1)\n",
      "Requirement already satisfied: PyAudio in c:\\_phd_\\github\\abacws-chatbot\\abacws-chatbot-venv\\lib\\site-packages (from -r C:\\_PHD_\\Github\\abacws-chatbot\\requirements.txt (line 3)) (0.2.13)\n",
      "Requirement already satisfied: pocketsphinx in c:\\_phd_\\github\\abacws-chatbot\\abacws-chatbot-venv\\lib\\site-packages (from -r C:\\_PHD_\\Github\\abacws-chatbot\\requirements.txt (line 4)) (5.0.2)\n",
      "Requirement already satisfied: rdflib in c:\\_phd_\\github\\abacws-chatbot\\abacws-chatbot-venv\\lib\\site-packages (from -r C:\\_PHD_\\Github\\abacws-chatbot\\requirements.txt (line 5)) (6.3.2)\n",
      "Requirement already satisfied: npm in c:\\_phd_\\github\\abacws-chatbot\\abacws-chatbot-venv\\lib\\site-packages (from -r C:\\_PHD_\\Github\\abacws-chatbot\\requirements.txt (line 6)) (0.1.1)\n",
      "Requirement already satisfied: requests in c:\\_phd_\\github\\abacws-chatbot\\abacws-chatbot-venv\\lib\\site-packages (from -r C:\\_PHD_\\Github\\abacws-chatbot\\requirements.txt (line 7)) (2.31.0)\n",
      "Requirement already satisfied: spacy in c:\\_phd_\\github\\abacws-chatbot\\abacws-chatbot-venv\\lib\\site-packages (from -r C:\\_PHD_\\Github\\abacws-chatbot\\requirements.txt (line 8)) (3.7.2)\n",
      "Requirement already satisfied: svgling in c:\\_phd_\\github\\abacws-chatbot\\abacws-chatbot-venv\\lib\\site-packages (from -r C:\\_PHD_\\Github\\abacws-chatbot\\requirements.txt (line 9)) (0.4.0)\n",
      "Requirement already satisfied: SPARQLWrapper in c:\\_phd_\\github\\abacws-chatbot\\abacws-chatbot-venv\\lib\\site-packages (from -r C:\\_PHD_\\Github\\abacws-chatbot\\requirements.txt (line 10)) (2.0.0)\n",
      "Requirement already satisfied: subprocess.run in c:\\_phd_\\github\\abacws-chatbot\\abacws-chatbot-venv\\lib\\site-packages (from -r C:\\_PHD_\\Github\\abacws-chatbot\\requirements.txt (line 11)) (0.0.8)\n",
      "Requirement already satisfied: psycopg2 in c:\\_phd_\\github\\abacws-chatbot\\abacws-chatbot-venv\\lib\\site-packages (from -r C:\\_PHD_\\Github\\abacws-chatbot\\requirements.txt (line 13)) (2.9.9)\n",
      "Requirement already satisfied: brickschema[all] in c:\\_phd_\\github\\abacws-chatbot\\abacws-chatbot-venv\\lib\\site-packages (from -r C:\\_PHD_\\Github\\abacws-chatbot\\requirements.txt (line 12)) (0.7.1)\n",
      "Requirement already satisfied: click in c:\\_phd_\\github\\abacws-chatbot\\abacws-chatbot-venv\\lib\\site-packages (from nltk->-r C:\\_PHD_\\Github\\abacws-chatbot\\requirements.txt (line 2)) (8.1.7)\n",
      "Requirement already satisfied: joblib in c:\\_phd_\\github\\abacws-chatbot\\abacws-chatbot-venv\\lib\\site-packages (from nltk->-r C:\\_PHD_\\Github\\abacws-chatbot\\requirements.txt (line 2)) (1.3.2)\n",
      "Requirement already satisfied: regex>=2021.8.3 in c:\\_phd_\\github\\abacws-chatbot\\abacws-chatbot-venv\\lib\\site-packages (from nltk->-r C:\\_PHD_\\Github\\abacws-chatbot\\requirements.txt (line 2)) (2023.10.3)\n",
      "Requirement already satisfied: tqdm in c:\\_phd_\\github\\abacws-chatbot\\abacws-chatbot-venv\\lib\\site-packages (from nltk->-r C:\\_PHD_\\Github\\abacws-chatbot\\requirements.txt (line 2)) (4.66.1)\n",
      "Requirement already satisfied: sounddevice in c:\\_phd_\\github\\abacws-chatbot\\abacws-chatbot-venv\\lib\\site-packages (from pocketsphinx->-r C:\\_PHD_\\Github\\abacws-chatbot\\requirements.txt (line 4)) (0.4.6)\n",
      "Requirement already satisfied: isodate<0.7.0,>=0.6.0 in c:\\_phd_\\github\\abacws-chatbot\\abacws-chatbot-venv\\lib\\site-packages (from rdflib->-r C:\\_PHD_\\Github\\abacws-chatbot\\requirements.txt (line 5)) (0.6.1)\n",
      "Requirement already satisfied: pyparsing<4,>=2.1.0 in c:\\_phd_\\github\\abacws-chatbot\\abacws-chatbot-venv\\lib\\site-packages (from rdflib->-r C:\\_PHD_\\Github\\abacws-chatbot\\requirements.txt (line 5)) (3.1.1)\n",
      "Requirement already satisfied: optional-django==0.1.0 in c:\\_phd_\\github\\abacws-chatbot\\abacws-chatbot-venv\\lib\\site-packages (from npm->-r C:\\_PHD_\\Github\\abacws-chatbot\\requirements.txt (line 6)) (0.1.0)\n",
      "Requirement already satisfied: charset-normalizer<4,>=2 in c:\\_phd_\\github\\abacws-chatbot\\abacws-chatbot-venv\\lib\\site-packages (from requests->-r C:\\_PHD_\\Github\\abacws-chatbot\\requirements.txt (line 7)) (3.3.0)\n",
      "Requirement already satisfied: idna<4,>=2.5 in c:\\_phd_\\github\\abacws-chatbot\\abacws-chatbot-venv\\lib\\site-packages (from requests->-r C:\\_PHD_\\Github\\abacws-chatbot\\requirements.txt (line 7)) (3.4)\n",
      "Requirement already satisfied: urllib3<3,>=1.21.1 in c:\\_phd_\\github\\abacws-chatbot\\abacws-chatbot-venv\\lib\\site-packages (from requests->-r C:\\_PHD_\\Github\\abacws-chatbot\\requirements.txt (line 7)) (2.0.7)\n",
      "Requirement already satisfied: certifi>=2017.4.17 in c:\\_phd_\\github\\abacws-chatbot\\abacws-chatbot-venv\\lib\\site-packages (from requests->-r C:\\_PHD_\\Github\\abacws-chatbot\\requirements.txt (line 7)) (2023.7.22)\n",
      "Requirement already satisfied: spacy-legacy<3.1.0,>=3.0.11 in c:\\_phd_\\github\\abacws-chatbot\\abacws-chatbot-venv\\lib\\site-packages (from spacy->-r C:\\_PHD_\\Github\\abacws-chatbot\\requirements.txt (line 8)) (3.0.12)\n",
      "Requirement already satisfied: spacy-loggers<2.0.0,>=1.0.0 in c:\\_phd_\\github\\abacws-chatbot\\abacws-chatbot-venv\\lib\\site-packages (from spacy->-r C:\\_PHD_\\Github\\abacws-chatbot\\requirements.txt (line 8)) (1.0.5)\n",
      "Requirement already satisfied: murmurhash<1.1.0,>=0.28.0 in c:\\_phd_\\github\\abacws-chatbot\\abacws-chatbot-venv\\lib\\site-packages (from spacy->-r C:\\_PHD_\\Github\\abacws-chatbot\\requirements.txt (line 8)) (1.0.10)\n",
      "Requirement already satisfied: cymem<2.1.0,>=2.0.2 in c:\\_phd_\\github\\abacws-chatbot\\abacws-chatbot-venv\\lib\\site-packages (from spacy->-r C:\\_PHD_\\Github\\abacws-chatbot\\requirements.txt (line 8)) (2.0.8)\n",
      "Requirement already satisfied: preshed<3.1.0,>=3.0.2 in c:\\_phd_\\github\\abacws-chatbot\\abacws-chatbot-venv\\lib\\site-packages (from spacy->-r C:\\_PHD_\\Github\\abacws-chatbot\\requirements.txt (line 8)) (3.0.9)\n",
      "Requirement already satisfied: thinc<8.3.0,>=8.1.8 in c:\\_phd_\\github\\abacws-chatbot\\abacws-chatbot-venv\\lib\\site-packages (from spacy->-r C:\\_PHD_\\Github\\abacws-chatbot\\requirements.txt (line 8)) (8.2.1)\n",
      "Requirement already satisfied: wasabi<1.2.0,>=0.9.1 in c:\\_phd_\\github\\abacws-chatbot\\abacws-chatbot-venv\\lib\\site-packages (from spacy->-r C:\\_PHD_\\Github\\abacws-chatbot\\requirements.txt (line 8)) (1.1.2)\n",
      "Requirement already satisfied: srsly<3.0.0,>=2.4.3 in c:\\_phd_\\github\\abacws-chatbot\\abacws-chatbot-venv\\lib\\site-packages (from spacy->-r C:\\_PHD_\\Github\\abacws-chatbot\\requirements.txt (line 8)) (2.4.8)\n",
      "Requirement already satisfied: catalogue<2.1.0,>=2.0.6 in c:\\_phd_\\github\\abacws-chatbot\\abacws-chatbot-venv\\lib\\site-packages (from spacy->-r C:\\_PHD_\\Github\\abacws-chatbot\\requirements.txt (line 8)) (2.0.10)\n",
      "Requirement already satisfied: weasel<0.4.0,>=0.1.0 in c:\\_phd_\\github\\abacws-chatbot\\abacws-chatbot-venv\\lib\\site-packages (from spacy->-r C:\\_PHD_\\Github\\abacws-chatbot\\requirements.txt (line 8)) (0.3.3)\n",
      "Requirement already satisfied: typer<0.10.0,>=0.3.0 in c:\\_phd_\\github\\abacws-chatbot\\abacws-chatbot-venv\\lib\\site-packages (from spacy->-r C:\\_PHD_\\Github\\abacws-chatbot\\requirements.txt (line 8)) (0.4.2)\n",
      "Requirement already satisfied: smart-open<7.0.0,>=5.2.1 in c:\\_phd_\\github\\abacws-chatbot\\abacws-chatbot-venv\\lib\\site-packages (from spacy->-r C:\\_PHD_\\Github\\abacws-chatbot\\requirements.txt (line 8)) (6.4.0)\n",
      "Requirement already satisfied: pydantic!=1.8,!=1.8.1,<3.0.0,>=1.7.4 in c:\\_phd_\\github\\abacws-chatbot\\abacws-chatbot-venv\\lib\\site-packages (from spacy->-r C:\\_PHD_\\Github\\abacws-chatbot\\requirements.txt (line 8)) (2.4.2)\n",
      "Requirement already satisfied: jinja2 in c:\\_phd_\\github\\abacws-chatbot\\abacws-chatbot-venv\\lib\\site-packages (from spacy->-r C:\\_PHD_\\Github\\abacws-chatbot\\requirements.txt (line 8)) (3.1.2)\n",
      "Requirement already satisfied: setuptools in c:\\_phd_\\github\\abacws-chatbot\\abacws-chatbot-venv\\lib\\site-packages (from spacy->-r C:\\_PHD_\\Github\\abacws-chatbot\\requirements.txt (line 8)) (57.4.0)\n",
      "Requirement already satisfied: packaging>=20.0 in c:\\_phd_\\github\\abacws-chatbot\\abacws-chatbot-venv\\lib\\site-packages (from spacy->-r C:\\_PHD_\\Github\\abacws-chatbot\\requirements.txt (line 8)) (23.2)\n",
      "Requirement already satisfied: langcodes<4.0.0,>=3.2.0 in c:\\_phd_\\github\\abacws-chatbot\\abacws-chatbot-venv\\lib\\site-packages (from spacy->-r C:\\_PHD_\\Github\\abacws-chatbot\\requirements.txt (line 8)) (3.3.0)\n",
      "Requirement already satisfied: numpy>=1.19.0 in c:\\_phd_\\github\\abacws-chatbot\\abacws-chatbot-venv\\lib\\site-packages (from spacy->-r C:\\_PHD_\\Github\\abacws-chatbot\\requirements.txt (line 8)) (1.26.1)\n",
      "Requirement already satisfied: svgwrite in c:\\_phd_\\github\\abacws-chatbot\\abacws-chatbot-venv\\lib\\site-packages (from svgling->-r C:\\_PHD_\\Github\\abacws-chatbot\\requirements.txt (line 9)) (1.4.3)\n",
      "Requirement already satisfied: importlib-resources<4.0.0,>=3.3.0 in c:\\_phd_\\github\\abacws-chatbot\\abacws-chatbot-venv\\lib\\site-packages (from brickschema[all]->-r C:\\_PHD_\\Github\\abacws-chatbot\\requirements.txt (line 12)) (3.3.1)\n",
      "Requirement already satisfied: owlrl<7.0,>=6.0 in c:\\_phd_\\github\\abacws-chatbot\\abacws-chatbot-venv\\lib\\site-packages (from brickschema[all]->-r C:\\_PHD_\\Github\\abacws-chatbot\\requirements.txt (line 12)) (6.0.2)\n",
      "Requirement already satisfied: pyshacl<0.23,>=0.22 in c:\\_phd_\\github\\abacws-chatbot\\abacws-chatbot-venv\\lib\\site-packages (from brickschema[all]->-r C:\\_PHD_\\Github\\abacws-chatbot\\requirements.txt (line 12)) (0.22.2)\n",
      "Requirement already satisfied: BAC0<23.0,>=22.9 in c:\\_phd_\\github\\abacws-chatbot\\abacws-chatbot-venv\\lib\\site-packages (from brickschema[all]->-r C:\\_PHD_\\Github\\abacws-chatbot\\requirements.txt (line 12)) (22.9.21)\n",
      "Requirement already satisfied: Flask<3.0,>=2.3 in c:\\_phd_\\github\\abacws-chatbot\\abacws-chatbot-venv\\lib\\site-packages (from brickschema[all]->-r C:\\_PHD_\\Github\\abacws-chatbot\\requirements.txt (line 12)) (2.3.3)\n",
      "Requirement already satisfied: PyYAML<6.0.0,>=5.3.1 in c:\\_phd_\\github\\abacws-chatbot\\abacws-chatbot-venv\\lib\\site-packages (from brickschema[all]->-r C:\\_PHD_\\Github\\abacws-chatbot\\requirements.txt (line 12)) (5.4.1)\n",
      "Requirement already satisfied: click-spinner<0.2.0,>=0.1.10 in c:\\_phd_\\github\\abacws-chatbot\\abacws-chatbot-venv\\lib\\site-packages (from brickschema[all]->-r C:\\_PHD_\\Github\\abacws-chatbot\\requirements.txt (line 12)) (0.1.10)\n",
      "Requirement already satisfied: colorama<0.5.0,>=0.4.4 in c:\\_phd_\\github\\abacws-chatbot\\abacws-chatbot-venv\\lib\\site-packages (from brickschema[all]->-r C:\\_PHD_\\Github\\abacws-chatbot\\requirements.txt (line 12)) (0.4.6)\n",
      "Requirement already satisfied: dedupe<3.0,>=2.0 in c:\\_phd_\\github\\abacws-chatbot\\abacws-chatbot-venv\\lib\\site-packages (from brickschema[all]->-r C:\\_PHD_\\Github\\abacws-chatbot\\requirements.txt (line 12)) (2.0.23)\n",
      "Requirement already satisfied: networkx<3.0,>=2.6 in c:\\_phd_\\github\\abacws-chatbot\\abacws-chatbot-venv\\lib\\site-packages (from brickschema[all]->-r C:\\_PHD_\\Github\\abacws-chatbot\\requirements.txt (line 12)) (2.8.8)\n",
      "Requirement already satisfied: rdflib_sqlalchemy<0.6,>=0.5 in c:\\_phd_\\github\\abacws-chatbot\\abacws-chatbot-venv\\lib\\site-packages (from brickschema[all]->-r C:\\_PHD_\\Github\\abacws-chatbot\\requirements.txt (line 12)) (0.5.4)\n",
      "Requirement already satisfied: reasonable<0.3.0,>=0.2.2a4 in c:\\_phd_\\github\\abacws-chatbot\\abacws-chatbot-venv\\lib\\site-packages (from brickschema[all]->-r C:\\_PHD_\\Github\\abacws-chatbot\\requirements.txt (line 12)) (0.2.6)\n",
      "Requirement already satisfied: sqlalchemy<2.0,>=1.4 in c:\\_phd_\\github\\abacws-chatbot\\abacws-chatbot-venv\\lib\\site-packages (from brickschema[all]->-r C:\\_PHD_\\Github\\abacws-chatbot\\requirements.txt (line 12)) (1.4.49)\n",
      "Requirement already satisfied: tabulate<0.9.0,>=0.8.7 in c:\\_phd_\\github\\abacws-chatbot\\abacws-chatbot-venv\\lib\\site-packages (from brickschema[all]->-r C:\\_PHD_\\Github\\abacws-chatbot\\requirements.txt (line 12)) (0.8.10)\n",
      "Requirement already satisfied: xlrd<2.0.0,>=1.2.0 in c:\\_phd_\\github\\abacws-chatbot\\abacws-chatbot-venv\\lib\\site-packages (from brickschema[all]->-r C:\\_PHD_\\Github\\abacws-chatbot\\requirements.txt (line 12)) (1.2.0)\n",
      "Requirement already satisfied: bacpypes in c:\\_phd_\\github\\abacws-chatbot\\abacws-chatbot-venv\\lib\\site-packages (from BAC0<23.0,>=22.9->brickschema[all]->-r C:\\_PHD_\\Github\\abacws-chatbot\\requirements.txt (line 12)) (0.18.7)\n",
      "Requirement already satisfied: scikit-learn in c:\\_phd_\\github\\abacws-chatbot\\abacws-chatbot-venv\\lib\\site-packages (from dedupe<3.0,>=2.0->brickschema[all]->-r C:\\_PHD_\\Github\\abacws-chatbot\\requirements.txt (line 12)) (1.3.1)\n",
      "Requirement already satisfied: affinegap>=1.3 in c:\\_phd_\\github\\abacws-chatbot\\abacws-chatbot-venv\\lib\\site-packages (from dedupe<3.0,>=2.0->brickschema[all]->-r C:\\_PHD_\\Github\\abacws-chatbot\\requirements.txt (line 12)) (1.12)\n",
      "Requirement already satisfied: categorical-distance>=1.9 in c:\\_phd_\\github\\abacws-chatbot\\abacws-chatbot-venv\\lib\\site-packages (from dedupe<3.0,>=2.0->brickschema[all]->-r C:\\_PHD_\\Github\\abacws-chatbot\\requirements.txt (line 12)) (1.9)\n",
      "Requirement already satisfied: dedupe-variable-datetime in c:\\_phd_\\github\\abacws-chatbot\\abacws-chatbot-venv\\lib\\site-packages (from dedupe<3.0,>=2.0->brickschema[all]->-r C:\\_PHD_\\Github\\abacws-chatbot\\requirements.txt (line 12)) (0.1.5)\n",
      "Requirement already satisfied: doublemetaphone in c:\\_phd_\\github\\abacws-chatbot\\abacws-chatbot-venv\\lib\\site-packages (from dedupe<3.0,>=2.0->brickschema[all]->-r C:\\_PHD_\\Github\\abacws-chatbot\\requirements.txt (line 12)) (1.1)\n",
      "Requirement already satisfied: highered>=0.2.0 in c:\\_phd_\\github\\abacws-chatbot\\abacws-chatbot-venv\\lib\\site-packages (from dedupe<3.0,>=2.0->brickschema[all]->-r C:\\_PHD_\\Github\\abacws-chatbot\\requirements.txt (line 12)) (0.2.1)\n",
      "Requirement already satisfied: simplecosine>=1.2 in c:\\_phd_\\github\\abacws-chatbot\\abacws-chatbot-venv\\lib\\site-packages (from dedupe<3.0,>=2.0->brickschema[all]->-r C:\\_PHD_\\Github\\abacws-chatbot\\requirements.txt (line 12)) (1.2)\n",
      "Requirement already satisfied: haversine>=0.4.1 in c:\\_phd_\\github\\abacws-chatbot\\abacws-chatbot-venv\\lib\\site-packages (from dedupe<3.0,>=2.0->brickschema[all]->-r C:\\_PHD_\\Github\\abacws-chatbot\\requirements.txt (line 12)) (2.8.0)\n",
      "Requirement already satisfied: BTrees>=4.1.4 in c:\\_phd_\\github\\abacws-chatbot\\abacws-chatbot-venv\\lib\\site-packages (from dedupe<3.0,>=2.0->brickschema[all]->-r C:\\_PHD_\\Github\\abacws-chatbot\\requirements.txt (line 12)) (5.1)\n",
      "Requirement already satisfied: zope.index in c:\\_phd_\\github\\abacws-chatbot\\abacws-chatbot-venv\\lib\\site-packages (from dedupe<3.0,>=2.0->brickschema[all]->-r C:\\_PHD_\\Github\\abacws-chatbot\\requirements.txt (line 12)) (6.0)\n",
      "Requirement already satisfied: dedupe-Levenshtein-search in c:\\_phd_\\github\\abacws-chatbot\\abacws-chatbot-venv\\lib\\site-packages (from dedupe<3.0,>=2.0->brickschema[all]->-r C:\\_PHD_\\Github\\abacws-chatbot\\requirements.txt (line 12)) (1.4.5)\n",
      "Requirement already satisfied: typing-extensions in c:\\_phd_\\github\\abacws-chatbot\\abacws-chatbot-venv\\lib\\site-packages (from dedupe<3.0,>=2.0->brickschema[all]->-r C:\\_PHD_\\Github\\abacws-chatbot\\requirements.txt (line 12)) (4.8.0)\n",
      "Requirement already satisfied: Werkzeug>=2.3.7 in c:\\_phd_\\github\\abacws-chatbot\\abacws-chatbot-venv\\lib\\site-packages (from Flask<3.0,>=2.3->brickschema[all]->-r C:\\_PHD_\\Github\\abacws-chatbot\\requirements.txt (line 12)) (3.0.0)\n",
      "Requirement already satisfied: itsdangerous>=2.1.2 in c:\\_phd_\\github\\abacws-chatbot\\abacws-chatbot-venv\\lib\\site-packages (from Flask<3.0,>=2.3->brickschema[all]->-r C:\\_PHD_\\Github\\abacws-chatbot\\requirements.txt (line 12)) (2.1.2)\n",
      "Requirement already satisfied: blinker>=1.6.2 in c:\\_phd_\\github\\abacws-chatbot\\abacws-chatbot-venv\\lib\\site-packages (from Flask<3.0,>=2.3->brickschema[all]->-r C:\\_PHD_\\Github\\abacws-chatbot\\requirements.txt (line 12)) (1.6.3)\n",
      "Requirement already satisfied: six in c:\\_phd_\\github\\abacws-chatbot\\abacws-chatbot-venv\\lib\\site-packages (from isodate<0.7.0,>=0.6.0->rdflib->-r C:\\_PHD_\\Github\\abacws-chatbot\\requirements.txt (line 5)) (1.16.0)\n",
      "Requirement already satisfied: MarkupSafe>=2.0 in c:\\_phd_\\github\\abacws-chatbot\\abacws-chatbot-venv\\lib\\site-packages (from jinja2->spacy->-r C:\\_PHD_\\Github\\abacws-chatbot\\requirements.txt (line 8)) (2.1.3)\n",
      "Requirement already satisfied: annotated-types>=0.4.0 in c:\\_phd_\\github\\abacws-chatbot\\abacws-chatbot-venv\\lib\\site-packages (from pydantic!=1.8,!=1.8.1,<3.0.0,>=1.7.4->spacy->-r C:\\_PHD_\\Github\\abacws-chatbot\\requirements.txt (line 8)) (0.6.0)\n",
      "Requirement already satisfied: pydantic-core==2.10.1 in c:\\_phd_\\github\\abacws-chatbot\\abacws-chatbot-venv\\lib\\site-packages (from pydantic!=1.8,!=1.8.1,<3.0.0,>=1.7.4->spacy->-r C:\\_PHD_\\Github\\abacws-chatbot\\requirements.txt (line 8)) (2.10.1)\n",
      "Requirement already satisfied: html5lib<2,>=1.1 in c:\\_phd_\\github\\abacws-chatbot\\abacws-chatbot-venv\\lib\\site-packages (from pyshacl<0.23,>=0.22->brickschema[all]->-r C:\\_PHD_\\Github\\abacws-chatbot\\requirements.txt (line 12)) (1.1)\n",
      "Requirement already satisfied: prettytable<3.0.0,>=2.2.1 in c:\\_phd_\\github\\abacws-chatbot\\abacws-chatbot-venv\\lib\\site-packages (from pyshacl<0.23,>=0.22->brickschema[all]->-r C:\\_PHD_\\Github\\abacws-chatbot\\requirements.txt (line 12)) (2.5.0)\n",
      "Requirement already satisfied: alembic>=0.8.8 in c:\\_phd_\\github\\abacws-chatbot\\abacws-chatbot-venv\\lib\\site-packages (from rdflib_sqlalchemy<0.6,>=0.5->brickschema[all]->-r C:\\_PHD_\\Github\\abacws-chatbot\\requirements.txt (line 12)) (1.12.0)\n",
      "Requirement already satisfied: greenlet!=0.4.17 in c:\\_phd_\\github\\abacws-chatbot\\abacws-chatbot-venv\\lib\\site-packages (from sqlalchemy<2.0,>=1.4->brickschema[all]->-r C:\\_PHD_\\Github\\abacws-chatbot\\requirements.txt (line 12)) (3.0.0)\n",
      "Requirement already satisfied: blis<0.8.0,>=0.7.8 in c:\\_phd_\\github\\abacws-chatbot\\abacws-chatbot-venv\\lib\\site-packages (from thinc<8.3.0,>=8.1.8->spacy->-r C:\\_PHD_\\Github\\abacws-chatbot\\requirements.txt (line 8)) (0.7.11)\n",
      "Requirement already satisfied: confection<1.0.0,>=0.0.1 in c:\\_phd_\\github\\abacws-chatbot\\abacws-chatbot-venv\\lib\\site-packages (from thinc<8.3.0,>=8.1.8->spacy->-r C:\\_PHD_\\Github\\abacws-chatbot\\requirements.txt (line 8)) (0.1.3)\n",
      "Requirement already satisfied: cloudpathlib<0.17.0,>=0.7.0 in c:\\_phd_\\github\\abacws-chatbot\\abacws-chatbot-venv\\lib\\site-packages (from weasel<0.4.0,>=0.1.0->spacy->-r C:\\_PHD_\\Github\\abacws-chatbot\\requirements.txt (line 8)) (0.16.0)\n",
      "Requirement already satisfied: CFFI>=1.0 in c:\\_phd_\\github\\abacws-chatbot\\abacws-chatbot-venv\\lib\\site-packages (from sounddevice->pocketsphinx->-r C:\\_PHD_\\Github\\abacws-chatbot\\requirements.txt (line 4)) (1.16.0)\n",
      "Requirement already satisfied: Mako in c:\\_phd_\\github\\abacws-chatbot\\abacws-chatbot-venv\\lib\\site-packages (from alembic>=0.8.8->rdflib_sqlalchemy<0.6,>=0.5->brickschema[all]->-r C:\\_PHD_\\Github\\abacws-chatbot\\requirements.txt (line 12)) (1.2.4)\n",
      "Requirement already satisfied: persistent>=4.1.0 in c:\\_phd_\\github\\abacws-chatbot\\abacws-chatbot-venv\\lib\\site-packages (from BTrees>=4.1.4->dedupe<3.0,>=2.0->brickschema[all]->-r C:\\_PHD_\\Github\\abacws-chatbot\\requirements.txt (line 12)) (5.1)\n",
      "Requirement already satisfied: zope.interface>=5.0.0 in c:\\_phd_\\github\\abacws-chatbot\\abacws-chatbot-venv\\lib\\site-packages (from BTrees>=4.1.4->dedupe<3.0,>=2.0->brickschema[all]->-r C:\\_PHD_\\Github\\abacws-chatbot\\requirements.txt (line 12)) (6.1)\n",
      "Requirement already satisfied: pycparser in c:\\_phd_\\github\\abacws-chatbot\\abacws-chatbot-venv\\lib\\site-packages (from CFFI>=1.0->sounddevice->pocketsphinx->-r C:\\_PHD_\\Github\\abacws-chatbot\\requirements.txt (line 4)) (2.21)\n",
      "Requirement already satisfied: pyhacrf-datamade>=0.2.0 in c:\\_phd_\\github\\abacws-chatbot\\abacws-chatbot-venv\\lib\\site-packages (from highered>=0.2.0->dedupe<3.0,>=2.0->brickschema[all]->-r C:\\_PHD_\\Github\\abacws-chatbot\\requirements.txt (line 12)) (0.2.6)\n",
      "Requirement already satisfied: webencodings in c:\\_phd_\\github\\abacws-chatbot\\abacws-chatbot-venv\\lib\\site-packages (from html5lib<2,>=1.1->pyshacl<0.23,>=0.22->brickschema[all]->-r C:\\_PHD_\\Github\\abacws-chatbot\\requirements.txt (line 12)) (0.5.1)\n",
      "Requirement already satisfied: wcwidth in c:\\_phd_\\github\\abacws-chatbot\\abacws-chatbot-venv\\lib\\site-packages (from prettytable<3.0.0,>=2.2.1->pyshacl<0.23,>=0.22->brickschema[all]->-r C:\\_PHD_\\Github\\abacws-chatbot\\requirements.txt (line 12)) (0.2.8)\n",
      "Requirement already satisfied: datetime-distance in c:\\_phd_\\github\\abacws-chatbot\\abacws-chatbot-venv\\lib\\site-packages (from dedupe-variable-datetime->dedupe<3.0,>=2.0->brickschema[all]->-r C:\\_PHD_\\Github\\abacws-chatbot\\requirements.txt (line 12)) (0.1.3)\n",
      "Requirement already satisfied: future in c:\\_phd_\\github\\abacws-chatbot\\abacws-chatbot-venv\\lib\\site-packages (from dedupe-variable-datetime->dedupe<3.0,>=2.0->brickschema[all]->-r C:\\_PHD_\\Github\\abacws-chatbot\\requirements.txt (line 12)) (0.18.3)\n",
      "Requirement already satisfied: scipy>=1.5.0 in c:\\_phd_\\github\\abacws-chatbot\\abacws-chatbot-venv\\lib\\site-packages (from scikit-learn->dedupe<3.0,>=2.0->brickschema[all]->-r C:\\_PHD_\\Github\\abacws-chatbot\\requirements.txt (line 12)) (1.11.3)\n",
      "Requirement already satisfied: threadpoolctl>=2.0.0 in c:\\_phd_\\github\\abacws-chatbot\\abacws-chatbot-venv\\lib\\site-packages (from scikit-learn->dedupe<3.0,>=2.0->brickschema[all]->-r C:\\_PHD_\\Github\\abacws-chatbot\\requirements.txt (line 12)) (3.2.0)\n",
      "Requirement already satisfied: PyLBFGS>=0.1.3 in c:\\_phd_\\github\\abacws-chatbot\\abacws-chatbot-venv\\lib\\site-packages (from pyhacrf-datamade>=0.2.0->highered>=0.2.0->dedupe<3.0,>=2.0->brickschema[all]->-r C:\\_PHD_\\Github\\abacws-chatbot\\requirements.txt (line 12)) (0.2.0.14)\n",
      "Requirement already satisfied: python-dateutil>=2.6.0 in c:\\_phd_\\github\\abacws-chatbot\\abacws-chatbot-venv\\lib\\site-packages (from datetime-distance->dedupe-variable-datetime->dedupe<3.0,>=2.0->brickschema[all]->-r C:\\_PHD_\\Github\\abacws-chatbot\\requirements.txt (line 12)) (2.8.2)\n",
      "Note: you may need to restart the kernel to use updated packages.\n"
     ]
    }
   ],
   "source": [
    "pip install -r C:\\_PHD_\\Github\\abacws-chatbot\\requirements.txt"
   ]
  }
 ],
 "metadata": {
  "kernelspec": {
   "display_name": "abacws-chatbot-venv",
   "language": "python",
   "name": "python3"
  },
  "language_info": {
   "codemirror_mode": {
    "name": "ipython",
    "version": 3
   },
   "file_extension": ".py",
   "mimetype": "text/x-python",
   "name": "python",
   "nbconvert_exporter": "python",
   "pygments_lexer": "ipython3",
   "version": "3.10.0"
  }
 },
 "nbformat": 4,
 "nbformat_minor": 2
}
