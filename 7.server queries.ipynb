{
 "cells": [
  {
   "cell_type": "markdown",
   "metadata": {},
   "source": [
    "Query-01"
   ]
  },
  {
   "cell_type": "code",
   "execution_count": 3,
   "metadata": {},
   "outputs": [],
   "source": [
    "#pip install SPARQLWrapper"
   ]
  },
  {
   "cell_type": "code",
   "execution_count": 2,
   "metadata": {},
   "outputs": [],
   "source": [
    "from SPARQLWrapper import SPARQLWrapper, JSON"
   ]
  },
  {
   "cell_type": "code",
   "execution_count": 4,
   "metadata": {},
   "outputs": [],
   "source": [
    "sparql_query = \"\"\"\n",
    "PREFIX br: <http://vocab.deri.ie/br#>\n",
    "PREFIX xsd: <http://www.w3.org/2001/XMLSchema#>\n",
    "PREFIX owl: <http://www.w3.org/2002/07/owl#>\n",
    "PREFIX brick: <https://brickschema.org/schema/Brick#>\n",
    "PREFIX brk: <http://brk.basisregistraties.overheid.nl/def/brk#>\n",
    "PREFIX rdf: <http://www.w3.org/1999/02/22-rdf-syntax-ns#>\n",
    "PREFIX rdfs: <http://www.w3.org/2000/01/rdf-schema#>\n",
    "PREFIX brick1: <https://brickschema.org/schema/1.0.2/building_example#>\n",
    "SELECT * WHERE {\n",
    "    ?s ?p ?o .\n",
    "} LIMIT 5\n",
    "\"\"\"\n"
   ]
  },
  {
   "cell_type": "code",
   "execution_count": 5,
   "metadata": {},
   "outputs": [],
   "source": [
    "endpoint_url= \"http://localhost:3030/abacws-sensor-network/sparql\""
   ]
  },
  {
   "cell_type": "code",
   "execution_count": 6,
   "metadata": {},
   "outputs": [],
   "source": [
    "def execute_sparql_query(sparql_query, endpoint_url):\n",
    "    sparql = SPARQLWrapper(endpoint_url)\n",
    "    sparql.setQuery(sparql_query)\n",
    "    sparql.setReturnFormat('json')\n",
    "    results = sparql.query().convert()\n",
    "    return results\n",
    "\n",
    "results = execute_sparql_query(sparql_query, endpoint_url)\n"
   ]
  },
  {
   "cell_type": "code",
   "execution_count": 7,
   "metadata": {},
   "outputs": [
    {
     "data": {
      "text/plain": [
       "{'head': {'vars': ['s', 'p', 'o']},\n",
       " 'results': {'bindings': [{'s': {'type': 'uri',\n",
       "     'value': 'http://abacwsbuilding.cardiff.ac.uk/abacws#'},\n",
       "    'p': {'type': 'uri',\n",
       "     'value': 'http://www.w3.org/1999/02/22-rdf-syntax-ns#type'},\n",
       "    'o': {'type': 'uri',\n",
       "     'value': 'https://brickschema.org/schema/Brick#Air_Quality_Sensor'}},\n",
       "   {'s': {'type': 'uri',\n",
       "     'value': 'http://abacwsbuilding.cardiff.ac.uk/abacws#'},\n",
       "    'p': {'type': 'uri',\n",
       "     'value': 'http://www.w3.org/1999/02/22-rdf-syntax-ns#type'},\n",
       "    'o': {'type': 'uri',\n",
       "     'value': 'https://brickschema.org/schema/Brick#CO2_Sensor'}},\n",
       "   {'s': {'type': 'uri',\n",
       "     'value': 'http://abacwsbuilding.cardiff.ac.uk/abacws#'},\n",
       "    'p': {'type': 'uri',\n",
       "     'value': 'http://www.w3.org/1999/02/22-rdf-syntax-ns#type'},\n",
       "    'o': {'type': 'uri',\n",
       "     'value': 'https://brickschema.org/schema/Brick#CO_Sensor'}},\n",
       "   {'s': {'type': 'uri',\n",
       "     'value': 'http://abacwsbuilding.cardiff.ac.uk/abacws#'},\n",
       "    'p': {'type': 'uri',\n",
       "     'value': 'http://www.w3.org/1999/02/22-rdf-syntax-ns#type'},\n",
       "    'o': {'type': 'uri',\n",
       "     'value': 'https://brickschema.org/schema/Brick#Formaldehyde_Sensor'}},\n",
       "   {'s': {'type': 'uri',\n",
       "     'value': 'http://abacwsbuilding.cardiff.ac.uk/abacws#'},\n",
       "    'p': {'type': 'uri',\n",
       "     'value': 'http://www.w3.org/1999/02/22-rdf-syntax-ns#type'},\n",
       "    'o': {'type': 'uri',\n",
       "     'value': 'https://brickschema.org/schema/Brick#Gas_Sensor'}}]}}"
      ]
     },
     "execution_count": 7,
     "metadata": {},
     "output_type": "execute_result"
    }
   ],
   "source": [
    "results"
   ]
  },
  {
   "cell_type": "code",
   "execution_count": 8,
   "metadata": {},
   "outputs": [],
   "source": [
    "import json \n",
    "with open(\"output.json\", \"w\") as outfile:\n",
    "    json.dump(results, outfile)"
   ]
  },
  {
   "cell_type": "markdown",
   "metadata": {},
   "source": [
    "02 Oct2023"
   ]
  },
  {
   "cell_type": "code",
   "execution_count": 11,
   "metadata": {},
   "outputs": [
    {
     "name": "stdout",
     "output_type": "stream",
     "text": [
      "CSV file saved as: output.csv\n"
     ]
    }
   ],
   "source": [
    "from SPARQLWrapper import SPARQLWrapper, JSON\n",
    "import json\n",
    "import csv\n",
    "\n",
    "endpoint_url= \"http://localhost:3030/abacws-sensor-network/sparql\"\n",
    "\n",
    "sparql_query = \"\"\"\n",
    "        PREFIX xsd: <http://www.w3.org/2001/XMLSchema#>\n",
    "        PREFIX owl: <http://www.w3.org/2002/07/owl#>\n",
    "        PREFIX brick: <https://brickschema.org/schema/Brick#>\n",
    "        PREFIX brk: <http://brk.basisregistraties.overheid.nl/def/brk#>\n",
    "        PREFIX rdf: <http://www.w3.org/1999/02/22-rdf-syntax-ns#>\n",
    "        PREFIX rdfs: <http://www.w3.org/2000/01/rdf-schema#>\n",
    "        SELECT * WHERE {\n",
    "            ?sub brick:hasPoint ?obj .\n",
    "        } LIMIT 5\n",
    "        \"\"\"\n",
    "def execute_sparql_query(sparql_query, endpoint_url):\n",
    "            sparql = SPARQLWrapper(endpoint_url)\n",
    "            sparql.setQuery(sparql_query)\n",
    "            sparql.setReturnFormat('json')\n",
    "            results = sparql.query().convert()\n",
    "            return results\n",
    "ans = execute_sparql_query(sparql_query, endpoint_url)\n",
    "headers = ans['head']['vars']\n",
    "data_rows = []\n",
    "for binding in ans['results']['bindings']:\n",
    "    row = [binding.get(var, {}).get('value', '') for var in headers]\n",
    "    data_rows.append(row)\n",
    "with open('output.csv', mode='w', newline='', encoding='utf-8') as csv_file:\n",
    "    csv_writer = csv.writer(csv_file)\n",
    "    csv_writer.writerow(headers)\n",
    "    csv_writer.writerows(data_rows)\n",
    "print(f'CSV file saved as: {\"output.csv\"}')\n",
    "\n",
    "\n",
    "        "
   ]
  },
  {
   "cell_type": "code",
   "execution_count": 18,
   "metadata": {},
   "outputs": [
    {
     "name": "stdout",
     "output_type": "stream",
     "text": [
      "CSV file saved as: output.csv\n"
     ]
    }
   ],
   "source": [
    "headers = ans['head']['vars']\n",
    "data_rows = []\n",
    "for binding in ans['results']['bindings']:\n",
    "    row = [binding.get(var, {}).get('value', '') for var in headers]\n",
    "    data_rows.append(row)\n",
    "with open('output.csv', mode='w', newline='', encoding='utf-8') as csv_file:\n",
    "    csv_writer = csv.writer(csv_file)\n",
    "    csv_writer.writerow(headers)\n",
    "    csv_writer.writerows(data_rows)\n",
    "print('CSV file saved as: output.csv')"
   ]
  },
  {
   "cell_type": "code",
   "execution_count": 21,
   "metadata": {},
   "outputs": [
    {
     "name": "stdout",
     "output_type": "stream",
     "text": [
      "SPARQL result converted and saved as sparql_result.json\n"
     ]
    }
   ],
   "source": [
    "# Print or save the JSON result\n",
    "import json\n",
    "\n",
    "with open(\"sparql_result.json\", \"w\") as json_file:\n",
    "    json.dump(results, json_file, indent=4)\n",
    "\n",
    "print(\"SPARQL result converted and saved as sparql_result.json\")\n"
   ]
  }
 ],
 "metadata": {
  "kernelspec": {
   "display_name": "Python 3",
   "language": "python",
   "name": "python3"
  },
  "language_info": {
   "codemirror_mode": {
    "name": "ipython",
    "version": 3
   },
   "file_extension": ".py",
   "mimetype": "text/x-python",
   "name": "python",
   "nbconvert_exporter": "python",
   "pygments_lexer": "ipython3",
   "version": "3.10.9"
  },
  "orig_nbformat": 4
 },
 "nbformat": 4,
 "nbformat_minor": 2
}
