{
 "cells": [
  {
   "cell_type": "code",
   "execution_count": null,
   "metadata": {},
   "outputs": [],
   "source": [
    "pip uninstall cassandra-driver"
   ]
  },
  {
   "cell_type": "code",
   "execution_count": 1,
   "metadata": {},
   "outputs": [
    {
     "name": "stdout",
     "output_type": "stream",
     "text": [
      "Requirement already satisfied: cassandra-driver in c:\\_phd_\\github\\abacws-chatbot\\.conda\\lib\\site-packages (3.29.1)Note: you may need to restart the kernel to use updated packages.\n",
      "\n",
      "Requirement already satisfied: geomet<0.3,>=0.1 in c:\\_phd_\\github\\abacws-chatbot\\.conda\\lib\\site-packages (from cassandra-driver) (0.2.1.post1)\n",
      "Requirement already satisfied: click in c:\\users\\c21054458\\appdata\\roaming\\python\\python312\\site-packages (from geomet<0.3,>=0.1->cassandra-driver) (8.1.7)\n",
      "Requirement already satisfied: six in c:\\users\\c21054458\\appdata\\roaming\\python\\python312\\site-packages (from geomet<0.3,>=0.1->cassandra-driver) (1.16.0)\n",
      "Requirement already satisfied: colorama in c:\\users\\c21054458\\appdata\\roaming\\python\\python312\\site-packages (from click->geomet<0.3,>=0.1->cassandra-driver) (0.4.6)\n"
     ]
    }
   ],
   "source": [
    "pip install cassandra-driver --no-binary :all:"
   ]
  },
  {
   "cell_type": "code",
   "execution_count": 2,
   "metadata": {},
   "outputs": [
    {
     "ename": "DependencyException",
     "evalue": "Unable to load a default connection class\nThe following exceptions were observed: \n - The C extension needed to use libev was not found.  This probably means that you didn't have the required build dependencies when installing the driver.  See http://datastax.github.io/python-driver/installation.html#c-extensions for instructions on installing build dependencies and building the C extension.\n - Unable to import asyncore module.  Note that this module has been removed in Python 3.12 so when using the driver with this version (or anything newer) you will need to use one of the other event loop implementations.",
     "output_type": "error",
     "traceback": [
      "\u001b[1;31m---------------------------------------------------------------------------\u001b[0m",
      "\u001b[1;31mDependencyException\u001b[0m                       Traceback (most recent call last)",
      "Cell \u001b[1;32mIn[2], line 1\u001b[0m\n\u001b[1;32m----> 1\u001b[0m \u001b[38;5;28;01mfrom\u001b[39;00m \u001b[38;5;21;01mcassandra\u001b[39;00m\u001b[38;5;21;01m.\u001b[39;00m\u001b[38;5;21;01mcluster\u001b[39;00m \u001b[38;5;28;01mimport\u001b[39;00m Cluster\n\u001b[0;32m      2\u001b[0m \u001b[38;5;28;01mfrom\u001b[39;00m \u001b[38;5;21;01mcassandra\u001b[39;00m\u001b[38;5;21;01m.\u001b[39;00m\u001b[38;5;21;01mauth\u001b[39;00m \u001b[38;5;28;01mimport\u001b[39;00m PlainTextAuthProvider\n\u001b[0;32m      4\u001b[0m \u001b[38;5;66;03m# Cassandra connection details\u001b[39;00m\n",
      "File \u001b[1;32mc:\\_PHD_\\Github\\abacws-chatbot\\.conda\\Lib\\site-packages\\cassandra\\cluster.py:173\u001b[0m, in \u001b[0;36minit cassandra.cluster\u001b[1;34m()\u001b[0m\n",
      "\u001b[1;31mDependencyException\u001b[0m: Unable to load a default connection class\nThe following exceptions were observed: \n - The C extension needed to use libev was not found.  This probably means that you didn't have the required build dependencies when installing the driver.  See http://datastax.github.io/python-driver/installation.html#c-extensions for instructions on installing build dependencies and building the C extension.\n - Unable to import asyncore module.  Note that this module has been removed in Python 3.12 so when using the driver with this version (or anything newer) you will need to use one of the other event loop implementations."
     ]
    }
   ],
   "source": [
    "from cassandra.cluster import Cluster\n",
    "from cassandra.auth import PlainTextAuthProvider\n",
    "\n",
    "# Cassandra connection details\n",
    "hostname = 'smarthomelab-cassandradb.cs.cf.ac.uk'\n",
    "port = 9042\n",
    "username = 'scmcp'\n",
    "password = 'mJYcmeR7FUiFAcF7cAoN'\n",
    "keyspace = 'thingsboard'\n",
    "table_name = 'sensor_database'\n",
    "\n",
    "# Set up authentication and connection\n",
    "auth_provider = PlainTextAuthProvider(username=username, password=password)\n",
    "cluster = Cluster([hostname], port=port, auth_provider=auth_provider)\n",
    "session = cluster.connect(keyspace)\n",
    "\n",
    "# Count rows in batches (pagination)\n",
    "page_size = 1000  # Batch size to count rows\n",
    "row_count = 0\n",
    "query = f\"SELECT * FROM {table_name} LIMIT {page_size}\"\n",
    "\n",
    "# Fetch rows with paging\n",
    "statement = session.prepare(query)\n",
    "page_state = None\n",
    "\n",
    "while True:\n",
    "    if page_state:\n",
    "        rows = session.execute(statement, paging_state=page_state)\n",
    "    else:\n",
    "        rows = session.execute(statement)\n",
    "    \n",
    "    row_count += len(rows.current_rows)\n",
    "    \n",
    "    # Check if there are more pages to fetch\n",
    "    if rows.has_more_pages:\n",
    "        page_state = rows.paging_state\n",
    "    else:\n",
    "        break\n",
    "\n",
    "# Print the total count of rows\n",
    "print(f\"Total number of rows in {table_name}: {row_count}\")\n",
    "\n",
    "# Close connection\n",
    "cluster.shutdown()"
   ]
  }
 ],
 "metadata": {
  "kernelspec": {
   "display_name": "Python 3",
   "language": "python",
   "name": "python3"
  },
  "language_info": {
   "codemirror_mode": {
    "name": "ipython",
    "version": 3
   },
   "file_extension": ".py",
   "mimetype": "text/x-python",
   "name": "python",
   "nbconvert_exporter": "python",
   "pygments_lexer": "ipython3",
   "version": "3.12.4"
  }
 },
 "nbformat": 4,
 "nbformat_minor": 2
}
