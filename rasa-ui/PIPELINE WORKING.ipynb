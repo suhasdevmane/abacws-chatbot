{
 "cells": [
  {
   "cell_type": "code",
   "execution_count": 1,
   "metadata": {},
   "outputs": [
    {
     "name": "stdout",
     "output_type": "stream",
     "text": [
      "['Natural', 'Language', 'Processing', 'Whitespace', 'Tokenization', '5.02', 'xyz', 'a', 'b', 'c']\n"
     ]
    }
   ],
   "source": [
    "# import WhitespaceTokenizer() method from nltk\n",
    "from nltk.tokenize import WhitespaceTokenizer\n",
    "\n",
    "# Create a reference variable for Class WhitespaceTokenizer\n",
    "tk = WhitespaceTokenizer()\n",
    "\n",
    "# Create a string input\n",
    "gfg = \"Natural Language Processing Whitespace Tokenization 5.02 xyz a b c\"\n",
    "\n",
    "# Use tokenize method\n",
    "geek = tk.tokenize(gfg)\n",
    "\n",
    "print(geek)"
   ]
  }
 ],
 "metadata": {
  "kernelspec": {
   "display_name": "Python 3",
   "language": "python",
   "name": "python3"
  },
  "language_info": {
   "codemirror_mode": {
    "name": "ipython",
    "version": 3
   },
   "file_extension": ".py",
   "mimetype": "text/x-python",
   "name": "python",
   "nbconvert_exporter": "python",
   "pygments_lexer": "ipython3",
   "version": "3.12.0"
  }
 },
 "nbformat": 4,
 "nbformat_minor": 2
}
